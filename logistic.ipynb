{
 "cells": [
  {
   "cell_type": "code",
   "execution_count": 1,
   "metadata": {},
   "outputs": [],
   "source": [
    "using MLJ\n",
    "using ScikitLearn\n",
    "using Random, Statistics\n",
    "using CSV\n",
    "using DataFrames"
   ]
  },
  {
   "cell_type": "code",
   "execution_count": 2,
   "metadata": {},
   "outputs": [
    {
     "data": {
      "text/html": [
       "<div><div style = \"float: left;\"><span>111011×21 DataFrame</span></div><div style = \"float: right;\"><span style = \"font-style: italic;\">110986 rows omitted</span></div><div style = \"clear: both;\"></div></div><div class = \"data-frame\" style = \"overflow-x: scroll;\"><table class = \"data-frame\" style = \"margin-bottom: 6px;\"><thead><tr class = \"header\"><th class = \"rowNumber\" style = \"font-weight: bold; text-align: right;\">Row</th><th style = \"text-align: left;\">idle.tot</th><th style = \"text-align: left;\">flow_iat.tot</th><th style = \"text-align: left;\">fwd_iat.tot</th><th style = \"text-align: left;\">active.avg</th><th style = \"text-align: left;\">idle.max</th><th style = \"text-align: left;\">flow_iat.max</th><th style = \"text-align: left;\">fwd_iat.max</th><th style = \"text-align: left;\">active.max</th><th style = \"text-align: left;\">idle.avg</th><th style = \"text-align: left;\">active.tot</th><th style = \"text-align: left;\">bwd_iat.max</th><th style = \"text-align: left;\">idle.min</th><th style = \"text-align: left;\">flow_iat.avg</th><th style = \"text-align: left;\">fwd_iat.avg</th><th style = \"text-align: left;\">flow_iat.min</th><th style = \"text-align: left;\">fwd_iat.min</th><th style = \"text-align: left;\">fwd_iat.std</th><th style = \"text-align: left;\">bwd_iat.std</th><th style = \"text-align: left;\">flow_iat.std</th><th style = \"text-align: left;\">bwd_iat.avg</th><th style = \"text-align: left;\">Label</th></tr><tr class = \"subheader headerLastRow\"><th class = \"rowNumber\" style = \"font-weight: bold; text-align: right;\"></th><th title = \"Float64\" style = \"text-align: left;\">Float64</th><th title = \"Float64\" style = \"text-align: left;\">Float64</th><th title = \"Float64\" style = \"text-align: left;\">Float64</th><th title = \"Float64\" style = \"text-align: left;\">Float64</th><th title = \"Float64\" style = \"text-align: left;\">Float64</th><th title = \"Float64\" style = \"text-align: left;\">Float64</th><th title = \"Float64\" style = \"text-align: left;\">Float64</th><th title = \"Float64\" style = \"text-align: left;\">Float64</th><th title = \"Float64\" style = \"text-align: left;\">Float64</th><th title = \"Float64\" style = \"text-align: left;\">Float64</th><th title = \"Float64\" style = \"text-align: left;\">Float64</th><th title = \"Float64\" style = \"text-align: left;\">Float64</th><th title = \"Float64\" style = \"text-align: left;\">Float64</th><th title = \"Float64\" style = \"text-align: left;\">Float64</th><th title = \"Float64\" style = \"text-align: left;\">Float64</th><th title = \"Float64\" style = \"text-align: left;\">Float64</th><th title = \"Float64\" style = \"text-align: left;\">Float64</th><th title = \"Float64\" style = \"text-align: left;\">Float64</th><th title = \"Float64\" style = \"text-align: left;\">Float64</th><th title = \"Float64\" style = \"text-align: left;\">Float64</th><th title = \"Int64\" style = \"text-align: left;\">Int64</th></tr></thead><tbody><tr><td class = \"rowNumber\" style = \"font-weight: bold; text-align: right;\">1</td><td style = \"text-align: right;\">7.54531e6</td><td style = \"text-align: right;\">7.78062e6</td><td style = \"text-align: right;\">7.78062e6</td><td style = \"text-align: right;\">1.17658e5</td><td style = \"text-align: right;\">7.54531e6</td><td style = \"text-align: right;\">7.54531e6</td><td style = \"text-align: right;\">7.54531e6</td><td style = \"text-align: right;\">2.06765e5</td><td style = \"text-align: right;\">7.54531e6</td><td style = \"text-align: right;\">2.35315e5</td><td style = \"text-align: right;\">7.61372e6</td><td style = \"text-align: right;\">7.54531e6</td><td style = \"text-align: right;\">2.88171e5</td><td style = \"text-align: right;\">5.98509e5</td><td style = \"text-align: right;\">9.05991</td><td style = \"text-align: right;\">16.9277</td><td style = \"text-align: right;\">2.08742e6</td><td style = \"text-align: right;\">2.10853e6</td><td style = \"text-align: right;\">1.45041e6</td><td style = \"text-align: right;\">5.96219e5</td><td style = \"text-align: right;\">1</td></tr><tr><td class = \"rowNumber\" style = \"font-weight: bold; text-align: right;\">2</td><td style = \"text-align: right;\">8.88404e6</td><td style = \"text-align: right;\">9.11743e6</td><td style = \"text-align: right;\">9.11743e6</td><td style = \"text-align: right;\">116696.0</td><td style = \"text-align: right;\">8.88404e6</td><td style = \"text-align: right;\">8.88404e6</td><td style = \"text-align: right;\">8.88404e6</td><td style = \"text-align: right;\">204406.0</td><td style = \"text-align: right;\">8.88404e6</td><td style = \"text-align: right;\">233392.0</td><td style = \"text-align: right;\">8.95262e6</td><td style = \"text-align: right;\">8.88404e6</td><td style = \"text-align: right;\">3.5067e5</td><td style = \"text-align: right;\">7.01341e5</td><td style = \"text-align: right;\">9.05991</td><td style = \"text-align: right;\">20.0272</td><td style = \"text-align: right;\">2.45873e6</td><td style = \"text-align: right;\">2.58086e6</td><td style = \"text-align: right;\">1.74052e6</td><td style = \"text-align: right;\">7.5739e5</td><td style = \"text-align: right;\">1</td></tr><tr><td class = \"rowNumber\" style = \"font-weight: bold; text-align: right;\">3</td><td style = \"text-align: right;\">0.0</td><td style = \"text-align: right;\">4.69255e6</td><td style = \"text-align: right;\">4.69255e6</td><td style = \"text-align: right;\">4.69255e6</td><td style = \"text-align: right;\">0.0</td><td style = \"text-align: right;\">4.17538e6</td><td style = \"text-align: right;\">4.17538e6</td><td style = \"text-align: right;\">4.69255e6</td><td style = \"text-align: right;\">0.0</td><td style = \"text-align: right;\">4.69255e6</td><td style = \"text-align: right;\">4.24396e6</td><td style = \"text-align: right;\">0.0</td><td style = \"text-align: right;\">1.67591e5</td><td style = \"text-align: right;\">3.35182e5</td><td style = \"text-align: right;\">10.9673</td><td style = \"text-align: right;\">15.0204</td><td style = \"text-align: right;\">1.10783e6</td><td style = \"text-align: right;\">1.16988e6</td><td style = \"text-align: right;\">7.87287e5</td><td style = \"text-align: right;\">3.58704e5</td><td style = \"text-align: right;\">1</td></tr><tr><td class = \"rowNumber\" style = \"font-weight: bold; text-align: right;\">4</td><td style = \"text-align: right;\">0.0</td><td style = \"text-align: right;\">2.1987e6</td><td style = \"text-align: right;\">2.1987e6</td><td style = \"text-align: right;\">2.1987e6</td><td style = \"text-align: right;\">0.0</td><td style = \"text-align: right;\">1.96554e6</td><td style = \"text-align: right;\">1.96554e6</td><td style = \"text-align: right;\">2.1987e6</td><td style = \"text-align: right;\">0.0</td><td style = \"text-align: right;\">2.1987e6</td><td style = \"text-align: right;\">2.03487e6</td><td style = \"text-align: right;\">0.0</td><td style = \"text-align: right;\">81433.2</td><td style = \"text-align: right;\">1.69131e5</td><td style = \"text-align: right;\">18.8351</td><td style = \"text-align: right;\">36.0012</td><td style = \"text-align: right;\">5.40368e5</td><td style = \"text-align: right;\">5.61415e5</td><td style = \"text-align: right;\">3.76764e5</td><td style = \"text-align: right;\">1.66843e5</td><td style = \"text-align: right;\">1</td></tr><tr><td class = \"rowNumber\" style = \"font-weight: bold; text-align: right;\">5</td><td style = \"text-align: right;\">1.37657e7</td><td style = \"text-align: right;\">1.40043e7</td><td style = \"text-align: right;\">1.40043e7</td><td style = \"text-align: right;\">1.19272e5</td><td style = \"text-align: right;\">1.37657e7</td><td style = \"text-align: right;\">1.37657e7</td><td style = \"text-align: right;\">1.37657e7</td><td style = \"text-align: right;\">208838.0</td><td style = \"text-align: right;\">1.37657e7</td><td style = \"text-align: right;\">2.38545e5</td><td style = \"text-align: right;\">1.38346e7</td><td style = \"text-align: right;\">1.37657e7</td><td style = \"text-align: right;\">5.38626e5</td><td style = \"text-align: right;\">1.07725e6</td><td style = \"text-align: right;\">6.91414</td><td style = \"text-align: right;\">19.7887</td><td style = \"text-align: right;\">3.8125e6</td><td style = \"text-align: right;\">3.99004e6</td><td style = \"text-align: right;\">2.69784e6</td><td style = \"text-align: right;\">1.16455e6</td><td style = \"text-align: right;\">1</td></tr><tr><td class = \"rowNumber\" style = \"font-weight: bold; text-align: right;\">6</td><td style = \"text-align: right;\">0.0</td><td style = \"text-align: right;\">4.63287e6</td><td style = \"text-align: right;\">4.63287e6</td><td style = \"text-align: right;\">4.63287e6</td><td style = \"text-align: right;\">0.0</td><td style = \"text-align: right;\">4.40288e6</td><td style = \"text-align: right;\">4.40288e6</td><td style = \"text-align: right;\">4.63287e6</td><td style = \"text-align: right;\">0.0</td><td style = \"text-align: right;\">4.63287e6</td><td style = \"text-align: right;\">4.47095e6</td><td style = \"text-align: right;\">0.0</td><td style = \"text-align: right;\">1.78187e5</td><td style = \"text-align: right;\">3.56375e5</td><td style = \"text-align: right;\">6.91414</td><td style = \"text-align: right;\">20.0272</td><td style = \"text-align: right;\">1.21609e6</td><td style = \"text-align: right;\">1.28725e6</td><td style = \"text-align: right;\">8.6177e5</td><td style = \"text-align: right;\">3.83579e5</td><td style = \"text-align: right;\">1</td></tr><tr><td class = \"rowNumber\" style = \"font-weight: bold; text-align: right;\">7</td><td style = \"text-align: right;\">1.32509e7</td><td style = \"text-align: right;\">1.37232e7</td><td style = \"text-align: right;\">1.37232e7</td><td style = \"text-align: right;\">2.36145e5</td><td style = \"text-align: right;\">1.32509e7</td><td style = \"text-align: right;\">1.32509e7</td><td style = \"text-align: right;\">1.32509e7</td><td style = \"text-align: right;\">4.4337e5</td><td style = \"text-align: right;\">1.32509e7</td><td style = \"text-align: right;\">472291.0</td><td style = \"text-align: right;\">1.33194e7</td><td style = \"text-align: right;\">1.32509e7</td><td style = \"text-align: right;\">5.08268e5</td><td style = \"text-align: right;\">1.05563e6</td><td style = \"text-align: right;\">13.113</td><td style = \"text-align: right;\">40.0543</td><td style = \"text-align: right;\">3.66504e6</td><td style = \"text-align: right;\">3.68609e6</td><td style = \"text-align: right;\">2.54709e6</td><td style = \"text-align: right;\">1.05335e6</td><td style = \"text-align: right;\">1</td></tr><tr><td class = \"rowNumber\" style = \"font-weight: bold; text-align: right;\">8</td><td style = \"text-align: right;\">6.63656e6</td><td style = \"text-align: right;\">6.86676e6</td><td style = \"text-align: right;\">6.86676e6</td><td style = \"text-align: right;\">115099.0</td><td style = \"text-align: right;\">6.63656e6</td><td style = \"text-align: right;\">6.63656e6</td><td style = \"text-align: right;\">6.63656e6</td><td style = \"text-align: right;\">201714.0</td><td style = \"text-align: right;\">6.63656e6</td><td style = \"text-align: right;\">2.30198e5</td><td style = \"text-align: right;\">6.70497e6</td><td style = \"text-align: right;\">6.63656e6</td><td style = \"text-align: right;\">2.64106e5</td><td style = \"text-align: right;\">5.28212e5</td><td style = \"text-align: right;\">7.15256</td><td style = \"text-align: right;\">20.0272</td><td style = \"text-align: right;\">1.83551e6</td><td style = \"text-align: right;\">1.93213e6</td><td style = \"text-align: right;\">1.2998e6</td><td style = \"text-align: right;\">569753.0</td><td style = \"text-align: right;\">1</td></tr><tr><td class = \"rowNumber\" style = \"font-weight: bold; text-align: right;\">9</td><td style = \"text-align: right;\">1.57289e7</td><td style = \"text-align: right;\">1.59619e7</td><td style = \"text-align: right;\">1.59619e7</td><td style = \"text-align: right;\">1.16505e5</td><td style = \"text-align: right;\">1.57289e7</td><td style = \"text-align: right;\">1.57289e7</td><td style = \"text-align: right;\">1.57289e7</td><td style = \"text-align: right;\">2.02999e5</td><td style = \"text-align: right;\">1.57289e7</td><td style = \"text-align: right;\">2.33009e5</td><td style = \"text-align: right;\">1.57982e7</td><td style = \"text-align: right;\">1.57289e7</td><td style = \"text-align: right;\">5.9118e5</td><td style = \"text-align: right;\">1.22784e6</td><td style = \"text-align: right;\">11.2057</td><td style = \"text-align: right;\">20.0272</td><td style = \"text-align: right;\">4.35709e6</td><td style = \"text-align: right;\">4.37854e6</td><td style = \"text-align: right;\">3.02532e6</td><td style = \"text-align: right;\">1.2256e6</td><td style = \"text-align: right;\">1</td></tr><tr><td class = \"rowNumber\" style = \"font-weight: bold; text-align: right;\">10</td><td style = \"text-align: right;\">0.0</td><td style = \"text-align: right;\">4.60684e6</td><td style = \"text-align: right;\">4.60684e6</td><td style = \"text-align: right;\">4.60684e6</td><td style = \"text-align: right;\">0.0</td><td style = \"text-align: right;\">4.36923e6</td><td style = \"text-align: right;\">4.36923e6</td><td style = \"text-align: right;\">4.60684e6</td><td style = \"text-align: right;\">0.0</td><td style = \"text-align: right;\">4.60684e6</td><td style = \"text-align: right;\">4.43806e6</td><td style = \"text-align: right;\">0.0</td><td style = \"text-align: right;\">1.77186e5</td><td style = \"text-align: right;\">3.54373e5</td><td style = \"text-align: right;\">7.86781</td><td style = \"text-align: right;\">17.8814</td><td style = \"text-align: right;\">1.2066e6</td><td style = \"text-align: right;\">1.27757e6</td><td style = \"text-align: right;\">855112.0</td><td style = \"text-align: right;\">3.81422e5</td><td style = \"text-align: right;\">1</td></tr><tr><td class = \"rowNumber\" style = \"font-weight: bold; text-align: right;\">11</td><td style = \"text-align: right;\">1.74628e7</td><td style = \"text-align: right;\">1.76932e7</td><td style = \"text-align: right;\">1.76932e7</td><td style = \"text-align: right;\">1.15231e5</td><td style = \"text-align: right;\">1.74628e7</td><td style = \"text-align: right;\">1.74628e7</td><td style = \"text-align: right;\">1.74628e7</td><td style = \"text-align: right;\">201797.0</td><td style = \"text-align: right;\">1.74628e7</td><td style = \"text-align: right;\">2.30463e5</td><td style = \"text-align: right;\">1.75312e7</td><td style = \"text-align: right;\">1.74628e7</td><td style = \"text-align: right;\">6.80509e5</td><td style = \"text-align: right;\">1.36102e6</td><td style = \"text-align: right;\">6.91414</td><td style = \"text-align: right;\">20.0272</td><td style = \"text-align: right;\">4.83805e6</td><td style = \"text-align: right;\">5.05735e6</td><td style = \"text-align: right;\">3.42295e6</td><td style = \"text-align: right;\">1.47203e6</td><td style = \"text-align: right;\">1</td></tr><tr><td class = \"rowNumber\" style = \"font-weight: bold; text-align: right;\">12</td><td style = \"text-align: right;\">6.37308e6</td><td style = \"text-align: right;\">6.60232e6</td><td style = \"text-align: right;\">6.60232e6</td><td style = \"text-align: right;\">1.14624e5</td><td style = \"text-align: right;\">6.37308e6</td><td style = \"text-align: right;\">6.37308e6</td><td style = \"text-align: right;\">6.37308e6</td><td style = \"text-align: right;\">200243.0</td><td style = \"text-align: right;\">6.37308e6</td><td style = \"text-align: right;\">2.29247e5</td><td style = \"text-align: right;\">6.44144e6</td><td style = \"text-align: right;\">6.37308e6</td><td style = \"text-align: right;\">2.53936e5</td><td style = \"text-align: right;\">5.07871e5</td><td style = \"text-align: right;\">24.0803</td><td style = \"text-align: right;\">36.9549</td><td style = \"text-align: right;\">1.76246e6</td><td style = \"text-align: right;\">1.85607e6</td><td style = \"text-align: right;\">1.24813e6</td><td style = \"text-align: right;\">5.47772e5</td><td style = \"text-align: right;\">1</td></tr><tr><td class = \"rowNumber\" style = \"font-weight: bold; text-align: right;\">13</td><td style = \"text-align: right;\">6.81418e6</td><td style = \"text-align: right;\">7.04856e6</td><td style = \"text-align: right;\">7.04856e6</td><td style = \"text-align: right;\">117191.0</td><td style = \"text-align: right;\">6.81418e6</td><td style = \"text-align: right;\">6.81418e6</td><td style = \"text-align: right;\">6.81418e6</td><td style = \"text-align: right;\">2.05661e5</td><td style = \"text-align: right;\">6.81418e6</td><td style = \"text-align: right;\">2.34382e5</td><td style = \"text-align: right;\">6.88269e6</td><td style = \"text-align: right;\">6.81418e6</td><td style = \"text-align: right;\">2.71098e5</td><td style = \"text-align: right;\">5.42197e5</td><td style = \"text-align: right;\">15.974</td><td style = \"text-align: right;\">35.0475</td><td style = \"text-align: right;\">1.88468e6</td><td style = \"text-align: right;\">1.98333e6</td><td style = \"text-align: right;\">1.33459e6</td><td style = \"text-align: right;\">584897.0</td><td style = \"text-align: right;\">1</td></tr><tr><td style = \"text-align: right;\">&vellip;</td><td style = \"text-align: right;\">&vellip;</td><td style = \"text-align: right;\">&vellip;</td><td style = \"text-align: right;\">&vellip;</td><td style = \"text-align: right;\">&vellip;</td><td style = \"text-align: right;\">&vellip;</td><td style = \"text-align: right;\">&vellip;</td><td style = \"text-align: right;\">&vellip;</td><td style = \"text-align: right;\">&vellip;</td><td style = \"text-align: right;\">&vellip;</td><td style = \"text-align: right;\">&vellip;</td><td style = \"text-align: right;\">&vellip;</td><td style = \"text-align: right;\">&vellip;</td><td style = \"text-align: right;\">&vellip;</td><td style = \"text-align: right;\">&vellip;</td><td style = \"text-align: right;\">&vellip;</td><td style = \"text-align: right;\">&vellip;</td><td style = \"text-align: right;\">&vellip;</td><td style = \"text-align: right;\">&vellip;</td><td style = \"text-align: right;\">&vellip;</td><td style = \"text-align: right;\">&vellip;</td><td style = \"text-align: right;\">&vellip;</td></tr><tr><td class = \"rowNumber\" style = \"font-weight: bold; text-align: right;\">111000</td><td style = \"text-align: right;\">0.0</td><td style = \"text-align: right;\">1.52865e6</td><td style = \"text-align: right;\">1.52865e6</td><td style = \"text-align: right;\">1.52865e6</td><td style = \"text-align: right;\">0.0</td><td style = \"text-align: right;\">7.64435e5</td><td style = \"text-align: right;\">7.64435e5</td><td style = \"text-align: right;\">1.52865e6</td><td style = \"text-align: right;\">0.0</td><td style = \"text-align: right;\">1.52865e6</td><td style = \"text-align: right;\">0.0</td><td style = \"text-align: right;\">0.0</td><td style = \"text-align: right;\">764326.0</td><td style = \"text-align: right;\">764326.0</td><td style = \"text-align: right;\">7.64217e5</td><td style = \"text-align: right;\">7.64217e5</td><td style = \"text-align: right;\">153.92</td><td style = \"text-align: right;\">0.0</td><td style = \"text-align: right;\">153.92</td><td style = \"text-align: right;\">0.0</td><td style = \"text-align: right;\">1</td></tr><tr><td class = \"rowNumber\" style = \"font-weight: bold; text-align: right;\">111001</td><td style = \"text-align: right;\">0.0</td><td style = \"text-align: right;\">1.52855e6</td><td style = \"text-align: right;\">1.52855e6</td><td style = \"text-align: right;\">1.52855e6</td><td style = \"text-align: right;\">0.0</td><td style = \"text-align: right;\">7.64285e5</td><td style = \"text-align: right;\">7.64285e5</td><td style = \"text-align: right;\">1.52855e6</td><td style = \"text-align: right;\">0.0</td><td style = \"text-align: right;\">1.52855e6</td><td style = \"text-align: right;\">0.0</td><td style = \"text-align: right;\">0.0</td><td style = \"text-align: right;\">7.64275e5</td><td style = \"text-align: right;\">7.64275e5</td><td style = \"text-align: right;\">764266.0</td><td style = \"text-align: right;\">764266.0</td><td style = \"text-align: right;\">13.3184</td><td style = \"text-align: right;\">0.0</td><td style = \"text-align: right;\">13.3184</td><td style = \"text-align: right;\">0.0</td><td style = \"text-align: right;\">1</td></tr><tr><td class = \"rowNumber\" style = \"font-weight: bold; text-align: right;\">111002</td><td style = \"text-align: right;\">0.0</td><td style = \"text-align: right;\">1.52855e6</td><td style = \"text-align: right;\">1.52855e6</td><td style = \"text-align: right;\">1.52855e6</td><td style = \"text-align: right;\">0.0</td><td style = \"text-align: right;\">7.64296e5</td><td style = \"text-align: right;\">7.64296e5</td><td style = \"text-align: right;\">1.52855e6</td><td style = \"text-align: right;\">0.0</td><td style = \"text-align: right;\">1.52855e6</td><td style = \"text-align: right;\">0.0</td><td style = \"text-align: right;\">0.0</td><td style = \"text-align: right;\">7.64273e5</td><td style = \"text-align: right;\">7.64273e5</td><td style = \"text-align: right;\">764250.0</td><td style = \"text-align: right;\">764250.0</td><td style = \"text-align: right;\">32.3688</td><td style = \"text-align: right;\">0.0</td><td style = \"text-align: right;\">32.3688</td><td style = \"text-align: right;\">0.0</td><td style = \"text-align: right;\">1</td></tr><tr><td class = \"rowNumber\" style = \"font-weight: bold; text-align: right;\">111003</td><td style = \"text-align: right;\">0.0</td><td style = \"text-align: right;\">1.52856e6</td><td style = \"text-align: right;\">1.52856e6</td><td style = \"text-align: right;\">1.52856e6</td><td style = \"text-align: right;\">0.0</td><td style = \"text-align: right;\">7.64285e5</td><td style = \"text-align: right;\">7.64285e5</td><td style = \"text-align: right;\">1.52856e6</td><td style = \"text-align: right;\">0.0</td><td style = \"text-align: right;\">1.52856e6</td><td style = \"text-align: right;\">0.0</td><td style = \"text-align: right;\">0.0</td><td style = \"text-align: right;\">7.64282e5</td><td style = \"text-align: right;\">7.64282e5</td><td style = \"text-align: right;\">7.64278e5</td><td style = \"text-align: right;\">7.64278e5</td><td style = \"text-align: right;\">5.05762</td><td style = \"text-align: right;\">0.0</td><td style = \"text-align: right;\">5.05762</td><td style = \"text-align: right;\">0.0</td><td style = \"text-align: right;\">1</td></tr><tr><td class = \"rowNumber\" style = \"font-weight: bold; text-align: right;\">111004</td><td style = \"text-align: right;\">0.0</td><td style = \"text-align: right;\">1.52859e6</td><td style = \"text-align: right;\">1.52859e6</td><td style = \"text-align: right;\">1.52859e6</td><td style = \"text-align: right;\">0.0</td><td style = \"text-align: right;\">764344.0</td><td style = \"text-align: right;\">764344.0</td><td style = \"text-align: right;\">1.52859e6</td><td style = \"text-align: right;\">0.0</td><td style = \"text-align: right;\">1.52859e6</td><td style = \"text-align: right;\">0.0</td><td style = \"text-align: right;\">0.0</td><td style = \"text-align: right;\">764297.0</td><td style = \"text-align: right;\">764297.0</td><td style = \"text-align: right;\">764250.0</td><td style = \"text-align: right;\">764250.0</td><td style = \"text-align: right;\">66.4234</td><td style = \"text-align: right;\">0.0</td><td style = \"text-align: right;\">66.4234</td><td style = \"text-align: right;\">0.0</td><td style = \"text-align: right;\">1</td></tr><tr><td class = \"rowNumber\" style = \"font-weight: bold; text-align: right;\">111005</td><td style = \"text-align: right;\">0.0</td><td style = \"text-align: right;\">1.52877e6</td><td style = \"text-align: right;\">1.52877e6</td><td style = \"text-align: right;\">1.52877e6</td><td style = \"text-align: right;\">0.0</td><td style = \"text-align: right;\">764396.0</td><td style = \"text-align: right;\">764396.0</td><td style = \"text-align: right;\">1.52877e6</td><td style = \"text-align: right;\">0.0</td><td style = \"text-align: right;\">1.52877e6</td><td style = \"text-align: right;\">0.0</td><td style = \"text-align: right;\">0.0</td><td style = \"text-align: right;\">7.64385e5</td><td style = \"text-align: right;\">7.64385e5</td><td style = \"text-align: right;\">7.64373e5</td><td style = \"text-align: right;\">7.64373e5</td><td style = \"text-align: right;\">16.1844</td><td style = \"text-align: right;\">0.0</td><td style = \"text-align: right;\">16.1844</td><td style = \"text-align: right;\">0.0</td><td style = \"text-align: right;\">1</td></tr><tr><td class = \"rowNumber\" style = \"font-weight: bold; text-align: right;\">111006</td><td style = \"text-align: right;\">0.0</td><td style = \"text-align: right;\">1.52866e6</td><td style = \"text-align: right;\">1.52866e6</td><td style = \"text-align: right;\">1.52866e6</td><td style = \"text-align: right;\">0.0</td><td style = \"text-align: right;\">764379.0</td><td style = \"text-align: right;\">764379.0</td><td style = \"text-align: right;\">1.52866e6</td><td style = \"text-align: right;\">0.0</td><td style = \"text-align: right;\">1.52866e6</td><td style = \"text-align: right;\">0.0</td><td style = \"text-align: right;\">0.0</td><td style = \"text-align: right;\">7.64328e5</td><td style = \"text-align: right;\">7.64328e5</td><td style = \"text-align: right;\">764276.0</td><td style = \"text-align: right;\">764276.0</td><td style = \"text-align: right;\">72.8298</td><td style = \"text-align: right;\">0.0</td><td style = \"text-align: right;\">72.8298</td><td style = \"text-align: right;\">0.0</td><td style = \"text-align: right;\">1</td></tr><tr><td class = \"rowNumber\" style = \"font-weight: bold; text-align: right;\">111007</td><td style = \"text-align: right;\">0.0</td><td style = \"text-align: right;\">0.0</td><td style = \"text-align: right;\">0.0</td><td style = \"text-align: right;\">0.0</td><td style = \"text-align: right;\">0.0</td><td style = \"text-align: right;\">0.0</td><td style = \"text-align: right;\">0.0</td><td style = \"text-align: right;\">0.0</td><td style = \"text-align: right;\">0.0</td><td style = \"text-align: right;\">0.0</td><td style = \"text-align: right;\">0.0</td><td style = \"text-align: right;\">0.0</td><td style = \"text-align: right;\">0.0</td><td style = \"text-align: right;\">0.0</td><td style = \"text-align: right;\">0.0</td><td style = \"text-align: right;\">0.0</td><td style = \"text-align: right;\">0.0</td><td style = \"text-align: right;\">0.0</td><td style = \"text-align: right;\">0.0</td><td style = \"text-align: right;\">0.0</td><td style = \"text-align: right;\">1</td></tr><tr><td class = \"rowNumber\" style = \"font-weight: bold; text-align: right;\">111008</td><td style = \"text-align: right;\">0.0</td><td style = \"text-align: right;\">0.0</td><td style = \"text-align: right;\">0.0</td><td style = \"text-align: right;\">0.0</td><td style = \"text-align: right;\">0.0</td><td style = \"text-align: right;\">0.0</td><td style = \"text-align: right;\">0.0</td><td style = \"text-align: right;\">0.0</td><td style = \"text-align: right;\">0.0</td><td style = \"text-align: right;\">0.0</td><td style = \"text-align: right;\">0.0</td><td style = \"text-align: right;\">0.0</td><td style = \"text-align: right;\">0.0</td><td style = \"text-align: right;\">0.0</td><td style = \"text-align: right;\">0.0</td><td style = \"text-align: right;\">0.0</td><td style = \"text-align: right;\">0.0</td><td style = \"text-align: right;\">0.0</td><td style = \"text-align: right;\">0.0</td><td style = \"text-align: right;\">0.0</td><td style = \"text-align: right;\">1</td></tr><tr><td class = \"rowNumber\" style = \"font-weight: bold; text-align: right;\">111009</td><td style = \"text-align: right;\">0.0</td><td style = \"text-align: right;\">0.0</td><td style = \"text-align: right;\">0.0</td><td style = \"text-align: right;\">0.0</td><td style = \"text-align: right;\">0.0</td><td style = \"text-align: right;\">0.0</td><td style = \"text-align: right;\">0.0</td><td style = \"text-align: right;\">0.0</td><td style = \"text-align: right;\">0.0</td><td style = \"text-align: right;\">0.0</td><td style = \"text-align: right;\">0.0</td><td style = \"text-align: right;\">0.0</td><td style = \"text-align: right;\">0.0</td><td style = \"text-align: right;\">0.0</td><td style = \"text-align: right;\">0.0</td><td style = \"text-align: right;\">0.0</td><td style = \"text-align: right;\">0.0</td><td style = \"text-align: right;\">0.0</td><td style = \"text-align: right;\">0.0</td><td style = \"text-align: right;\">0.0</td><td style = \"text-align: right;\">1</td></tr><tr><td class = \"rowNumber\" style = \"font-weight: bold; text-align: right;\">111010</td><td style = \"text-align: right;\">0.0</td><td style = \"text-align: right;\">0.0</td><td style = \"text-align: right;\">0.0</td><td style = \"text-align: right;\">0.0</td><td style = \"text-align: right;\">0.0</td><td style = \"text-align: right;\">0.0</td><td style = \"text-align: right;\">0.0</td><td style = \"text-align: right;\">0.0</td><td style = \"text-align: right;\">0.0</td><td style = \"text-align: right;\">0.0</td><td style = \"text-align: right;\">0.0</td><td style = \"text-align: right;\">0.0</td><td style = \"text-align: right;\">0.0</td><td style = \"text-align: right;\">0.0</td><td style = \"text-align: right;\">0.0</td><td style = \"text-align: right;\">0.0</td><td style = \"text-align: right;\">0.0</td><td style = \"text-align: right;\">0.0</td><td style = \"text-align: right;\">0.0</td><td style = \"text-align: right;\">0.0</td><td style = \"text-align: right;\">1</td></tr><tr><td class = \"rowNumber\" style = \"font-weight: bold; text-align: right;\">111011</td><td style = \"text-align: right;\">0.0</td><td style = \"text-align: right;\">0.0</td><td style = \"text-align: right;\">0.0</td><td style = \"text-align: right;\">0.0</td><td style = \"text-align: right;\">0.0</td><td style = \"text-align: right;\">0.0</td><td style = \"text-align: right;\">0.0</td><td style = \"text-align: right;\">0.0</td><td style = \"text-align: right;\">0.0</td><td style = \"text-align: right;\">0.0</td><td style = \"text-align: right;\">0.0</td><td style = \"text-align: right;\">0.0</td><td style = \"text-align: right;\">0.0</td><td style = \"text-align: right;\">0.0</td><td style = \"text-align: right;\">0.0</td><td style = \"text-align: right;\">0.0</td><td style = \"text-align: right;\">0.0</td><td style = \"text-align: right;\">0.0</td><td style = \"text-align: right;\">0.0</td><td style = \"text-align: right;\">0.0</td><td style = \"text-align: right;\">1</td></tr></tbody></table></div>"
      ],
      "text/latex": [
       "\\begin{tabular}{r|cccccccc}\n",
       "\t& idle.tot & flow\\_iat.tot & fwd\\_iat.tot & active.avg & idle.max & flow\\_iat.max & fwd\\_iat.max & \\\\\n",
       "\t\\hline\n",
       "\t& Float64 & Float64 & Float64 & Float64 & Float64 & Float64 & Float64 & \\\\\n",
       "\t\\hline\n",
       "\t1 & 7.54531e6 & 7.78062e6 & 7.78062e6 & 1.17658e5 & 7.54531e6 & 7.54531e6 & 7.54531e6 & $\\dots$ \\\\\n",
       "\t2 & 8.88404e6 & 9.11743e6 & 9.11743e6 & 116696.0 & 8.88404e6 & 8.88404e6 & 8.88404e6 & $\\dots$ \\\\\n",
       "\t3 & 0.0 & 4.69255e6 & 4.69255e6 & 4.69255e6 & 0.0 & 4.17538e6 & 4.17538e6 & $\\dots$ \\\\\n",
       "\t4 & 0.0 & 2.1987e6 & 2.1987e6 & 2.1987e6 & 0.0 & 1.96554e6 & 1.96554e6 & $\\dots$ \\\\\n",
       "\t5 & 1.37657e7 & 1.40043e7 & 1.40043e7 & 1.19272e5 & 1.37657e7 & 1.37657e7 & 1.37657e7 & $\\dots$ \\\\\n",
       "\t6 & 0.0 & 4.63287e6 & 4.63287e6 & 4.63287e6 & 0.0 & 4.40288e6 & 4.40288e6 & $\\dots$ \\\\\n",
       "\t7 & 1.32509e7 & 1.37232e7 & 1.37232e7 & 2.36145e5 & 1.32509e7 & 1.32509e7 & 1.32509e7 & $\\dots$ \\\\\n",
       "\t8 & 6.63656e6 & 6.86676e6 & 6.86676e6 & 115099.0 & 6.63656e6 & 6.63656e6 & 6.63656e6 & $\\dots$ \\\\\n",
       "\t9 & 1.57289e7 & 1.59619e7 & 1.59619e7 & 1.16505e5 & 1.57289e7 & 1.57289e7 & 1.57289e7 & $\\dots$ \\\\\n",
       "\t10 & 0.0 & 4.60684e6 & 4.60684e6 & 4.60684e6 & 0.0 & 4.36923e6 & 4.36923e6 & $\\dots$ \\\\\n",
       "\t11 & 1.74628e7 & 1.76932e7 & 1.76932e7 & 1.15231e5 & 1.74628e7 & 1.74628e7 & 1.74628e7 & $\\dots$ \\\\\n",
       "\t12 & 6.37308e6 & 6.60232e6 & 6.60232e6 & 1.14624e5 & 6.37308e6 & 6.37308e6 & 6.37308e6 & $\\dots$ \\\\\n",
       "\t13 & 6.81418e6 & 7.04856e6 & 7.04856e6 & 117191.0 & 6.81418e6 & 6.81418e6 & 6.81418e6 & $\\dots$ \\\\\n",
       "\t14 & 1.08305e7 & 1.10643e7 & 1.10643e7 & 1.16863e5 & 1.08305e7 & 1.08305e7 & 1.08305e7 & $\\dots$ \\\\\n",
       "\t15 & 1.57327e7 & 1.62471e7 & 1.62471e7 & 257189.0 & 1.57327e7 & 1.57327e7 & 1.57327e7 & $\\dots$ \\\\\n",
       "\t16 & 6.81095e6 & 7.04174e6 & 7.04174e6 & 1.15396e5 & 6.81095e6 & 6.81095e6 & 6.81095e6 & $\\dots$ \\\\\n",
       "\t17 & 1.52376e7 & 1.54708e7 & 1.54708e7 & 1.16587e5 & 1.52376e7 & 1.52376e7 & 1.52376e7 & $\\dots$ \\\\\n",
       "\t18 & 1.30318e7 & 1.32633e7 & 1.32633e7 & 115752.0 & 1.30318e7 & 1.30318e7 & 1.30318e7 & $\\dots$ \\\\\n",
       "\t19 & 0.0 & 4.6532e6 & 4.6532e6 & 4.6532e6 & 0.0 & 4.41969e6 & 4.41969e6 & $\\dots$ \\\\\n",
       "\t20 & 1.55994e7 & 1.58359e7 & 1.58359e7 & 1.1825e5 & 1.55994e7 & 1.55994e7 & 1.55994e7 & $\\dots$ \\\\\n",
       "\t21 & 0.0 & 2.20266e6 & 2.20266e6 & 2.20266e6 & 0.0 & 1.96552e6 & 1.96552e6 & $\\dots$ \\\\\n",
       "\t22 & 1.43887e7 & 1.46182e7 & 1.46182e7 & 1.14739e5 & 1.43887e7 & 1.43887e7 & 1.43887e7 & $\\dots$ \\\\\n",
       "\t23 & 1.21661e7 & 1.23944e7 & 1.23944e7 & 1.14169e5 & 1.21661e7 & 1.21661e7 & 1.21661e7 & $\\dots$ \\\\\n",
       "\t24 & 1.12243e7 & 1.17234e7 & 1.17234e7 & 2.49561e5 & 1.12243e7 & 1.12243e7 & 1.12243e7 & $\\dots$ \\\\\n",
       "\t$\\dots$ & $\\dots$ & $\\dots$ & $\\dots$ & $\\dots$ & $\\dots$ & $\\dots$ & $\\dots$ &  \\\\\n",
       "\\end{tabular}\n"
      ],
      "text/plain": [
       "\u001b[1m111011×21 DataFrame\u001b[0m\n",
       "\u001b[1m    Row \u001b[0m│\u001b[1m idle.tot  \u001b[0m\u001b[1m flow_iat.tot \u001b[0m\u001b[1m fwd_iat.tot \u001b[0m\u001b[1m active.avg     \u001b[0m\u001b[1m idle.max  \u001b[0m\u001b[1m flo\u001b[0m ⋯\n",
       "        │\u001b[90m Float64   \u001b[0m\u001b[90m Float64      \u001b[0m\u001b[90m Float64     \u001b[0m\u001b[90m Float64        \u001b[0m\u001b[90m Float64   \u001b[0m\u001b[90m Flo\u001b[0m ⋯\n",
       "────────┼───────────────────────────────────────────────────────────────────────\n",
       "      1 │ 7.54531e6     7.78062e6    7.78062e6       1.17658e5  7.54531e6      ⋯\n",
       "      2 │ 8.88404e6     9.11743e6    9.11743e6  116696.0        8.88404e6\n",
       "      3 │ 0.0           4.69255e6    4.69255e6       4.69255e6  0.0\n",
       "      4 │ 0.0           2.1987e6     2.1987e6        2.1987e6   0.0\n",
       "      5 │ 1.37657e7     1.40043e7    1.40043e7       1.19272e5  1.37657e7      ⋯\n",
       "      6 │ 0.0           4.63287e6    4.63287e6       4.63287e6  0.0\n",
       "      7 │ 1.32509e7     1.37232e7    1.37232e7       2.36145e5  1.32509e7\n",
       "      8 │ 6.63656e6     6.86676e6    6.86676e6  115099.0        6.63656e6\n",
       "   ⋮    │     ⋮           ⋮             ⋮             ⋮             ⋮          ⋱\n",
       " 111005 │ 0.0           1.52877e6    1.52877e6       1.52877e6  0.0        764 ⋯\n",
       " 111006 │ 0.0           1.52866e6    1.52866e6       1.52866e6  0.0        764\n",
       " 111007 │ 0.0           0.0          0.0             0.0        0.0\n",
       " 111008 │ 0.0           0.0          0.0             0.0        0.0\n",
       " 111009 │ 0.0           0.0          0.0             0.0        0.0            ⋯\n",
       " 111010 │ 0.0           0.0          0.0             0.0        0.0\n",
       " 111011 │ 0.0           0.0          0.0             0.0        0.0\n",
       "\u001b[36m                                              16 columns and 110996 rows omitted\u001b[0m"
      ]
     },
     "metadata": {},
     "output_type": "display_data"
    }
   ],
   "source": [
    "# read the CSV file\n",
    "df = CSV.read(\"hikari.csv\", DataFrame)\n",
    "\n",
    "df = select(df, [:\"idle.tot\", :\"flow_iat.tot\", :\"fwd_iat.tot\", :\"active.avg\", :\"idle.max\", :\"flow_iat.max\", :\"fwd_iat.max\", :\"active.max\", :\"idle.avg\", :\"active.tot\", :\"bwd_iat.max\", :\"idle.min\", :\"flow_iat.avg\", :\"fwd_iat.avg\", :\"flow_iat.min\", :\"fwd_iat.min\", :\"fwd_iat.std\", :\"bwd_iat.std\", :\"flow_iat.std\", :\"bwd_iat.avg\", :\"Label\"])\n",
    "\n",
    "\n",
    "\n",
    "train_ratio = 0.8\n",
    "test_ratio = 1.0 - train_ratio\n",
    "\n",
    "nrows = nrow(df)\n",
    "train_indices = randsubseq(1:nrows, train_ratio)\n",
    "test_indices = setdiff(1:nrows, train_indices)\n",
    "\n",
    "train_df = df[train_indices, :]\n",
    "test_df = df[test_indices, :]"
   ]
  },
  {
   "cell_type": "code",
   "execution_count": 8,
   "metadata": {},
   "outputs": [
    {
     "name": "stderr",
     "output_type": "stream",
     "text": [
      "WARNING: redefinition of constant LogisticRegression. This may fail, cause incorrect answers, or produce other errors.\n"
     ]
    },
    {
     "data": {
      "text/plain": [
       "PyObject <class 'sklearn.linear_model._logistic.LogisticRegression'>"
      ]
     },
     "metadata": {},
     "output_type": "display_data"
    }
   ],
   "source": [
    "using ScikitLearn\n",
    "@sk_import linear_model:LogisticRegression"
   ]
  },
  {
   "cell_type": "code",
   "execution_count": 4,
   "metadata": {},
   "outputs": [
    {
     "data": {
      "text/plain": [
       "111011-element Vector{Int64}:\n",
       " 1\n",
       " 1\n",
       " 1\n",
       " 1\n",
       " 1\n",
       " 1\n",
       " 1\n",
       " 1\n",
       " 1\n",
       " 1\n",
       " ⋮\n",
       " 1\n",
       " 1\n",
       " 1\n",
       " 1\n",
       " 1\n",
       " 1\n",
       " 1\n",
       " 1\n",
       " 1"
      ]
     },
     "metadata": {},
     "output_type": "display_data"
    }
   ],
   "source": [
    "# converting into vectors\n",
    "Ada_X_train = Matrix(select(train_df, Not(:Label)))\n",
    "\n",
    "Ada_y_train = Vector(train_df.Label)\n",
    "\n",
    "Ada_X_test = Matrix(select(test_df, Not(:Label)))\n",
    "\n",
    "Ada_y_test = Vector(test_df.Label)"
   ]
  },
  {
   "cell_type": "code",
   "execution_count": 20,
   "metadata": {},
   "outputs": [
    {
     "data": {
      "text/html": [
       "<style>#sk-container-id-27 {color: black;background-color: white;}#sk-container-id-27 pre{padding: 0;}#sk-container-id-27 div.sk-toggleable {background-color: white;}#sk-container-id-27 label.sk-toggleable__label {cursor: pointer;display: block;width: 100%;margin-bottom: 0;padding: 0.3em;box-sizing: border-box;text-align: center;}#sk-container-id-27 label.sk-toggleable__label-arrow:before {content: \"▸\";float: left;margin-right: 0.25em;color: #696969;}#sk-container-id-27 label.sk-toggleable__label-arrow:hover:before {color: black;}#sk-container-id-27 div.sk-estimator:hover label.sk-toggleable__label-arrow:before {color: black;}#sk-container-id-27 div.sk-toggleable__content {max-height: 0;max-width: 0;overflow: hidden;text-align: left;background-color: #f0f8ff;}#sk-container-id-27 div.sk-toggleable__content pre {margin: 0.2em;color: black;border-radius: 0.25em;background-color: #f0f8ff;}#sk-container-id-27 input.sk-toggleable__control:checked~div.sk-toggleable__content {max-height: 200px;max-width: 100%;overflow: auto;}#sk-container-id-27 input.sk-toggleable__control:checked~label.sk-toggleable__label-arrow:before {content: \"▾\";}#sk-container-id-27 div.sk-estimator input.sk-toggleable__control:checked~label.sk-toggleable__label {background-color: #d4ebff;}#sk-container-id-27 div.sk-label input.sk-toggleable__control:checked~label.sk-toggleable__label {background-color: #d4ebff;}#sk-container-id-27 input.sk-hidden--visually {border: 0;clip: rect(1px 1px 1px 1px);clip: rect(1px, 1px, 1px, 1px);height: 1px;margin: -1px;overflow: hidden;padding: 0;position: absolute;width: 1px;}#sk-container-id-27 div.sk-estimator {font-family: monospace;background-color: #f0f8ff;border: 1px dotted black;border-radius: 0.25em;box-sizing: border-box;margin-bottom: 0.5em;}#sk-container-id-27 div.sk-estimator:hover {background-color: #d4ebff;}#sk-container-id-27 div.sk-parallel-item::after {content: \"\";width: 100%;border-bottom: 1px solid gray;flex-grow: 1;}#sk-container-id-27 div.sk-label:hover label.sk-toggleable__label {background-color: #d4ebff;}#sk-container-id-27 div.sk-serial::before {content: \"\";position: absolute;border-left: 1px solid gray;box-sizing: border-box;top: 0;bottom: 0;left: 50%;z-index: 0;}#sk-container-id-27 div.sk-serial {display: flex;flex-direction: column;align-items: center;background-color: white;padding-right: 0.2em;padding-left: 0.2em;position: relative;}#sk-container-id-27 div.sk-item {position: relative;z-index: 1;}#sk-container-id-27 div.sk-parallel {display: flex;align-items: stretch;justify-content: center;background-color: white;position: relative;}#sk-container-id-27 div.sk-item::before, #sk-container-id-27 div.sk-parallel-item::before {content: \"\";position: absolute;border-left: 1px solid gray;box-sizing: border-box;top: 0;bottom: 0;left: 50%;z-index: -1;}#sk-container-id-27 div.sk-parallel-item {display: flex;flex-direction: column;z-index: 1;position: relative;background-color: white;}#sk-container-id-27 div.sk-parallel-item:first-child::after {align-self: flex-end;width: 50%;}#sk-container-id-27 div.sk-parallel-item:last-child::after {align-self: flex-start;width: 50%;}#sk-container-id-27 div.sk-parallel-item:only-child::after {width: 0;}#sk-container-id-27 div.sk-dashed-wrapped {border: 1px dashed gray;margin: 0 0.4em 0.5em 0.4em;box-sizing: border-box;padding-bottom: 0.4em;background-color: white;}#sk-container-id-27 div.sk-label label {font-family: monospace;font-weight: bold;display: inline-block;line-height: 1.2em;}#sk-container-id-27 div.sk-label-container {text-align: center;}#sk-container-id-27 div.sk-container {/* jupyter's `normalize.less` sets `[hidden] { display: none; }` but bootstrap.min.css set `[hidden] { display: none !important; }` so we also need the `!important` here to be able to override the default hidden behavior on the sphinx rendered scikit-learn.org. See: https://github.com/scikit-learn/scikit-learn/issues/21755 */display: inline-block !important;position: relative;}#sk-container-id-27 div.sk-text-repr-fallback {display: none;}</style><div id=\"sk-container-id-27\" class=\"sk-top-container\"><div class=\"sk-text-repr-fallback\"><pre>LogisticRegression(max_iter=150)</pre><b>In a Jupyter environment, please rerun this cell to show the HTML representation or trust the notebook. <br />On GitHub, the HTML representation is unable to render, please try loading this page with nbviewer.org.</b></div><div class=\"sk-container\" hidden><div class=\"sk-item\"><div class=\"sk-estimator sk-toggleable\"><input class=\"sk-toggleable__control sk-hidden--visually\" id=\"sk-estimator-id-27\" type=\"checkbox\" checked><label for=\"sk-estimator-id-27\" class=\"sk-toggleable__label sk-toggleable__label-arrow\">LogisticRegression</label><div class=\"sk-toggleable__content\"><pre>LogisticRegression(max_iter=150)</pre></div></div></div></div></div>"
      ],
      "text/plain": [
       "PyObject LogisticRegression(max_iter=150)"
      ]
     },
     "metadata": {},
     "output_type": "display_data"
    }
   ],
   "source": [
    "# Create an AdaBoostClassifier\n",
    "ada_model = LogisticRegression(max_iter=150)"
   ]
  },
  {
   "cell_type": "code",
   "execution_count": 21,
   "metadata": {},
   "outputs": [
    {
     "name": "stderr",
     "output_type": "stream",
     "text": [
      "/Users/davuluri_hemanth/.julia/conda/3/aarch64/lib/python3.10/site-packages/sklearn/linear_model/_logistic.py:458: ConvergenceWarning: lbfgs failed to converge (status=1):\n",
      "STOP: TOTAL NO. of ITERATIONS REACHED LIMIT.\n",
      "\n",
      "Increase the number of iterations (max_iter) or scale the data as shown in:\n",
      "    https://scikit-learn.org/stable/modules/preprocessing.html\n",
      "Please also refer to the documentation for alternative solver options:\n",
      "    https://scikit-learn.org/stable/modules/linear_model.html#logistic-regression\n",
      "  n_iter_i = _check_optimize_result(\n"
     ]
    },
    {
     "data": {
      "text/html": [
       "<style>#sk-container-id-30 {color: black;background-color: white;}#sk-container-id-30 pre{padding: 0;}#sk-container-id-30 div.sk-toggleable {background-color: white;}#sk-container-id-30 label.sk-toggleable__label {cursor: pointer;display: block;width: 100%;margin-bottom: 0;padding: 0.3em;box-sizing: border-box;text-align: center;}#sk-container-id-30 label.sk-toggleable__label-arrow:before {content: \"▸\";float: left;margin-right: 0.25em;color: #696969;}#sk-container-id-30 label.sk-toggleable__label-arrow:hover:before {color: black;}#sk-container-id-30 div.sk-estimator:hover label.sk-toggleable__label-arrow:before {color: black;}#sk-container-id-30 div.sk-toggleable__content {max-height: 0;max-width: 0;overflow: hidden;text-align: left;background-color: #f0f8ff;}#sk-container-id-30 div.sk-toggleable__content pre {margin: 0.2em;color: black;border-radius: 0.25em;background-color: #f0f8ff;}#sk-container-id-30 input.sk-toggleable__control:checked~div.sk-toggleable__content {max-height: 200px;max-width: 100%;overflow: auto;}#sk-container-id-30 input.sk-toggleable__control:checked~label.sk-toggleable__label-arrow:before {content: \"▾\";}#sk-container-id-30 div.sk-estimator input.sk-toggleable__control:checked~label.sk-toggleable__label {background-color: #d4ebff;}#sk-container-id-30 div.sk-label input.sk-toggleable__control:checked~label.sk-toggleable__label {background-color: #d4ebff;}#sk-container-id-30 input.sk-hidden--visually {border: 0;clip: rect(1px 1px 1px 1px);clip: rect(1px, 1px, 1px, 1px);height: 1px;margin: -1px;overflow: hidden;padding: 0;position: absolute;width: 1px;}#sk-container-id-30 div.sk-estimator {font-family: monospace;background-color: #f0f8ff;border: 1px dotted black;border-radius: 0.25em;box-sizing: border-box;margin-bottom: 0.5em;}#sk-container-id-30 div.sk-estimator:hover {background-color: #d4ebff;}#sk-container-id-30 div.sk-parallel-item::after {content: \"\";width: 100%;border-bottom: 1px solid gray;flex-grow: 1;}#sk-container-id-30 div.sk-label:hover label.sk-toggleable__label {background-color: #d4ebff;}#sk-container-id-30 div.sk-serial::before {content: \"\";position: absolute;border-left: 1px solid gray;box-sizing: border-box;top: 0;bottom: 0;left: 50%;z-index: 0;}#sk-container-id-30 div.sk-serial {display: flex;flex-direction: column;align-items: center;background-color: white;padding-right: 0.2em;padding-left: 0.2em;position: relative;}#sk-container-id-30 div.sk-item {position: relative;z-index: 1;}#sk-container-id-30 div.sk-parallel {display: flex;align-items: stretch;justify-content: center;background-color: white;position: relative;}#sk-container-id-30 div.sk-item::before, #sk-container-id-30 div.sk-parallel-item::before {content: \"\";position: absolute;border-left: 1px solid gray;box-sizing: border-box;top: 0;bottom: 0;left: 50%;z-index: -1;}#sk-container-id-30 div.sk-parallel-item {display: flex;flex-direction: column;z-index: 1;position: relative;background-color: white;}#sk-container-id-30 div.sk-parallel-item:first-child::after {align-self: flex-end;width: 50%;}#sk-container-id-30 div.sk-parallel-item:last-child::after {align-self: flex-start;width: 50%;}#sk-container-id-30 div.sk-parallel-item:only-child::after {width: 0;}#sk-container-id-30 div.sk-dashed-wrapped {border: 1px dashed gray;margin: 0 0.4em 0.5em 0.4em;box-sizing: border-box;padding-bottom: 0.4em;background-color: white;}#sk-container-id-30 div.sk-label label {font-family: monospace;font-weight: bold;display: inline-block;line-height: 1.2em;}#sk-container-id-30 div.sk-label-container {text-align: center;}#sk-container-id-30 div.sk-container {/* jupyter's `normalize.less` sets `[hidden] { display: none; }` but bootstrap.min.css set `[hidden] { display: none !important; }` so we also need the `!important` here to be able to override the default hidden behavior on the sphinx rendered scikit-learn.org. See: https://github.com/scikit-learn/scikit-learn/issues/21755 */display: inline-block !important;position: relative;}#sk-container-id-30 div.sk-text-repr-fallback {display: none;}</style><div id=\"sk-container-id-30\" class=\"sk-top-container\"><div class=\"sk-text-repr-fallback\"><pre>LogisticRegression(max_iter=150)</pre><b>In a Jupyter environment, please rerun this cell to show the HTML representation or trust the notebook. <br />On GitHub, the HTML representation is unable to render, please try loading this page with nbviewer.org.</b></div><div class=\"sk-container\" hidden><div class=\"sk-item\"><div class=\"sk-estimator sk-toggleable\"><input class=\"sk-toggleable__control sk-hidden--visually\" id=\"sk-estimator-id-30\" type=\"checkbox\" checked><label for=\"sk-estimator-id-30\" class=\"sk-toggleable__label sk-toggleable__label-arrow\">LogisticRegression</label><div class=\"sk-toggleable__content\"><pre>LogisticRegression(max_iter=150)</pre></div></div></div></div></div>"
      ],
      "text/plain": [
       "PyObject LogisticRegression(max_iter=150)"
      ]
     },
     "metadata": {},
     "output_type": "display_data"
    }
   ],
   "source": [
    "# Fit the model to your data\n",
    "ScikitLearn.fit!(ada_model, Ada_X_train, Ada_y_train)"
   ]
  },
  {
   "cell_type": "code",
   "execution_count": 22,
   "metadata": {},
   "outputs": [
    {
     "name": "stdout",
     "output_type": "stream",
     "text": [
      "Accuracy: 0.908612660006666\n",
      "Precision: 0.16060862214708369\n",
      "Recall: 0.07368148914167529\n",
      "F1-Score: 0.10101905183872396\n"
     ]
    }
   ],
   "source": [
    "# Make predictions\n",
    "ada_y_pred = ScikitLearn.predict(ada_model, Ada_X_test)\n",
    "\n",
    "\n",
    "#accuracy\n",
    "accuracy = mean(ada_y_pred .== Ada_y_test)\n",
    "# Calculate True Positives (TP), True Negatives (TN), False Positives (FP), and False Negatives (FN)\n",
    "TP = sum((ada_y_pred .== 1) .& (Ada_y_test .== 1))\n",
    "TN = sum((ada_y_pred .== 0) .& (Ada_y_test .== 0))\n",
    "FP = sum((ada_y_pred .== 1) .& (Ada_y_test .== 0))\n",
    "FN = sum((ada_y_pred .== 0) .& (Ada_y_test .== 1))\n",
    "\n",
    "# Calculate precision, recall, and F1-score\n",
    "precision = TP / (TP + FP)\n",
    "recall = TP / (TP + FN)\n",
    "f1_score = 2 * (precision * recall) / (precision + recall)\n",
    "\n",
    "println(\"Accuracy: $accuracy\")\n",
    "println(\"Precision: $precision\")\n",
    "println(\"Recall: $recall\")\n",
    "println(\"F1-Score: $f1_score\")"
   ]
  },
  {
   "cell_type": "code",
   "execution_count": null,
   "metadata": {},
   "outputs": [],
   "source": []
  }
 ],
 "metadata": {
  "kernelspec": {
   "display_name": "Julia 1.9.3",
   "language": "julia",
   "name": "julia-1.9"
  },
  "language_info": {
   "file_extension": ".jl",
   "mimetype": "application/julia",
   "name": "julia",
   "version": "1.9.3"
  }
 },
 "nbformat": 4,
 "nbformat_minor": 2
}
