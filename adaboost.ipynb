{
 "cells": [
  {
   "cell_type": "code",
   "execution_count": 7,
   "metadata": {},
   "outputs": [],
   "source": [
    "using MLJ\n",
    "using ScikitLearn\n",
    "using Random, Statistics\n",
    "using CSV\n",
    "using DataFrames"
   ]
  },
  {
   "cell_type": "code",
   "execution_count": 8,
   "metadata": {},
   "outputs": [
    {
     "data": {
      "text/html": [
       "<div><div style = \"float: left;\"><span>111555×21 DataFrame</span></div><div style = \"float: right;\"><span style = \"font-style: italic;\">111530 rows omitted</span></div><div style = \"clear: both;\"></div></div><div class = \"data-frame\" style = \"overflow-x: scroll;\"><table class = \"data-frame\" style = \"margin-bottom: 6px;\"><thead><tr class = \"header\"><th class = \"rowNumber\" style = \"font-weight: bold; text-align: right;\">Row</th><th style = \"text-align: left;\">idle.tot</th><th style = \"text-align: left;\">flow_iat.tot</th><th style = \"text-align: left;\">fwd_iat.tot</th><th style = \"text-align: left;\">active.avg</th><th style = \"text-align: left;\">idle.max</th><th style = \"text-align: left;\">flow_iat.max</th><th style = \"text-align: left;\">fwd_iat.max</th><th style = \"text-align: left;\">active.max</th><th style = \"text-align: left;\">idle.avg</th><th style = \"text-align: left;\">active.tot</th><th style = \"text-align: left;\">bwd_iat.max</th><th style = \"text-align: left;\">idle.min</th><th style = \"text-align: left;\">flow_iat.avg</th><th style = \"text-align: left;\">fwd_iat.avg</th><th style = \"text-align: left;\">flow_iat.min</th><th style = \"text-align: left;\">fwd_iat.min</th><th style = \"text-align: left;\">fwd_iat.std</th><th style = \"text-align: left;\">bwd_iat.std</th><th style = \"text-align: left;\">flow_iat.std</th><th style = \"text-align: left;\">bwd_iat.avg</th><th style = \"text-align: left;\">Label</th></tr><tr class = \"subheader headerLastRow\"><th class = \"rowNumber\" style = \"font-weight: bold; text-align: right;\"></th><th title = \"Float64\" style = \"text-align: left;\">Float64</th><th title = \"Float64\" style = \"text-align: left;\">Float64</th><th title = \"Float64\" style = \"text-align: left;\">Float64</th><th title = \"Float64\" style = \"text-align: left;\">Float64</th><th title = \"Float64\" style = \"text-align: left;\">Float64</th><th title = \"Float64\" style = \"text-align: left;\">Float64</th><th title = \"Float64\" style = \"text-align: left;\">Float64</th><th title = \"Float64\" style = \"text-align: left;\">Float64</th><th title = \"Float64\" style = \"text-align: left;\">Float64</th><th title = \"Float64\" style = \"text-align: left;\">Float64</th><th title = \"Float64\" style = \"text-align: left;\">Float64</th><th title = \"Float64\" style = \"text-align: left;\">Float64</th><th title = \"Float64\" style = \"text-align: left;\">Float64</th><th title = \"Float64\" style = \"text-align: left;\">Float64</th><th title = \"Float64\" style = \"text-align: left;\">Float64</th><th title = \"Float64\" style = \"text-align: left;\">Float64</th><th title = \"Float64\" style = \"text-align: left;\">Float64</th><th title = \"Float64\" style = \"text-align: left;\">Float64</th><th title = \"Float64\" style = \"text-align: left;\">Float64</th><th title = \"Float64\" style = \"text-align: left;\">Float64</th><th title = \"Int64\" style = \"text-align: left;\">Int64</th></tr></thead><tbody><tr><td class = \"rowNumber\" style = \"font-weight: bold; text-align: right;\">1</td><td style = \"text-align: right;\">0.0</td><td style = \"text-align: right;\">4.57145e6</td><td style = \"text-align: right;\">4.57145e6</td><td style = \"text-align: right;\">4.57145e6</td><td style = \"text-align: right;\">0.0</td><td style = \"text-align: right;\">4.34038e6</td><td style = \"text-align: right;\">4.34038e6</td><td style = \"text-align: right;\">4.57145e6</td><td style = \"text-align: right;\">0.0</td><td style = \"text-align: right;\">4.57145e6</td><td style = \"text-align: right;\">4.40903e6</td><td style = \"text-align: right;\">0.0</td><td style = \"text-align: right;\">1.75825e5</td><td style = \"text-align: right;\">3.5165e5</td><td style = \"text-align: right;\">6.91414</td><td style = \"text-align: right;\">20.9808</td><td style = \"text-align: right;\">1.19874e6</td><td style = \"text-align: right;\">1.26934e6</td><td style = \"text-align: right;\">8.49506e5</td><td style = \"text-align: right;\">3.78542e5</td><td style = \"text-align: right;\">1</td></tr><tr><td class = \"rowNumber\" style = \"font-weight: bold; text-align: right;\">2</td><td style = \"text-align: right;\">1.15539e7</td><td style = \"text-align: right;\">1.17865e7</td><td style = \"text-align: right;\">1.17865e7</td><td style = \"text-align: right;\">1.16319e5</td><td style = \"text-align: right;\">1.15539e7</td><td style = \"text-align: right;\">1.15539e7</td><td style = \"text-align: right;\">1.15539e7</td><td style = \"text-align: right;\">2.03899e5</td><td style = \"text-align: right;\">1.15539e7</td><td style = \"text-align: right;\">2.32638e5</td><td style = \"text-align: right;\">1.16218e7</td><td style = \"text-align: right;\">1.15539e7</td><td style = \"text-align: right;\">4.53327e5</td><td style = \"text-align: right;\">9.06654e5</td><td style = \"text-align: right;\">10.9673</td><td style = \"text-align: right;\">19.0735</td><td style = \"text-align: right;\">3.1992e6</td><td style = \"text-align: right;\">3.35138e6</td><td style = \"text-align: right;\">2.26411e6</td><td style = \"text-align: right;\">9.79817e5</td><td style = \"text-align: right;\">1</td></tr><tr><td class = \"rowNumber\" style = \"font-weight: bold; text-align: right;\">3</td><td style = \"text-align: right;\">9.30198e6</td><td style = \"text-align: right;\">9.57994e6</td><td style = \"text-align: right;\">9.57994e6</td><td style = \"text-align: right;\">1.3898e5</td><td style = \"text-align: right;\">9.30198e6</td><td style = \"text-align: right;\">9.30198e6</td><td style = \"text-align: right;\">9.30198e6</td><td style = \"text-align: right;\">2.49082e5</td><td style = \"text-align: right;\">9.30198e6</td><td style = \"text-align: right;\">2.77961e5</td><td style = \"text-align: right;\">9.37005e6</td><td style = \"text-align: right;\">9.30198e6</td><td style = \"text-align: right;\">3.42141e5</td><td style = \"text-align: right;\">6.84282e5</td><td style = \"text-align: right;\">14.0667</td><td style = \"text-align: right;\">52.9289</td><td style = \"text-align: right;\">2.48048e6</td><td style = \"text-align: right;\">2.59467e6</td><td style = \"text-align: right;\">1.75602e6</td><td style = \"text-align: right;\">7.34629e5</td><td style = \"text-align: right;\">1</td></tr><tr><td class = \"rowNumber\" style = \"font-weight: bold; text-align: right;\">4</td><td style = \"text-align: right;\">6.86407e6</td><td style = \"text-align: right;\">7.33164e6</td><td style = \"text-align: right;\">7.33164e6</td><td style = \"text-align: right;\">233783.0</td><td style = \"text-align: right;\">6.86407e6</td><td style = \"text-align: right;\">6.86407e6</td><td style = \"text-align: right;\">6.86407e6</td><td style = \"text-align: right;\">4.38243e5</td><td style = \"text-align: right;\">6.86407e6</td><td style = \"text-align: right;\">467566.0</td><td style = \"text-align: right;\">6.93283e6</td><td style = \"text-align: right;\">6.86407e6</td><td style = \"text-align: right;\">2.71542e5</td><td style = \"text-align: right;\">5.63972e5</td><td style = \"text-align: right;\">5.96046</td><td style = \"text-align: right;\">15.0204</td><td style = \"text-align: right;\">1.89487e6</td><td style = \"text-align: right;\">1.91544e6</td><td style = \"text-align: right;\">1.31839e6</td><td style = \"text-align: right;\">5.6168e5</td><td style = \"text-align: right;\">1</td></tr><tr><td class = \"rowNumber\" style = \"font-weight: bold; text-align: right;\">5</td><td style = \"text-align: right;\">0.0</td><td style = \"text-align: right;\">2.43333e6</td><td style = \"text-align: right;\">2.43333e6</td><td style = \"text-align: right;\">2.43333e6</td><td style = \"text-align: right;\">0.0</td><td style = \"text-align: right;\">1.96707e6</td><td style = \"text-align: right;\">1.96707e6</td><td style = \"text-align: right;\">2.43333e6</td><td style = \"text-align: right;\">0.0</td><td style = \"text-align: right;\">2.43333e6</td><td style = \"text-align: right;\">2.0349e6</td><td style = \"text-align: right;\">0.0</td><td style = \"text-align: right;\">93589.5</td><td style = \"text-align: right;\">187179.0</td><td style = \"text-align: right;\">15.0204</td><td style = \"text-align: right;\">40.0543</td><td style = \"text-align: right;\">5.40195e5</td><td style = \"text-align: right;\">5.81771e5</td><td style = \"text-align: right;\">385138.0</td><td style = \"text-align: right;\">2.00328e5</td><td style = \"text-align: right;\">1</td></tr><tr><td class = \"rowNumber\" style = \"font-weight: bold; text-align: right;\">6</td><td style = \"text-align: right;\">6.585e6</td><td style = \"text-align: right;\">6.81652e6</td><td style = \"text-align: right;\">6.81652e6</td><td style = \"text-align: right;\">1.1576e5</td><td style = \"text-align: right;\">6.585e6</td><td style = \"text-align: right;\">6.585e6</td><td style = \"text-align: right;\">6.585e6</td><td style = \"text-align: right;\">202466.0</td><td style = \"text-align: right;\">6.585e6</td><td style = \"text-align: right;\">2.31521e5</td><td style = \"text-align: right;\">6.65329e6</td><td style = \"text-align: right;\">6.585e6</td><td style = \"text-align: right;\">2.62174e5</td><td style = \"text-align: right;\">5.24347e5</td><td style = \"text-align: right;\">9.05991</td><td style = \"text-align: right;\">19.0735</td><td style = \"text-align: right;\">1.82118e6</td><td style = \"text-align: right;\">1.91717e6</td><td style = \"text-align: right;\">1.28967e6</td><td style = \"text-align: right;\">5.65599e5</td><td style = \"text-align: right;\">1</td></tr><tr><td class = \"rowNumber\" style = \"font-weight: bold; text-align: right;\">7</td><td style = \"text-align: right;\">0.0</td><td style = \"text-align: right;\">4.60684e6</td><td style = \"text-align: right;\">4.60684e6</td><td style = \"text-align: right;\">4.60684e6</td><td style = \"text-align: right;\">0.0</td><td style = \"text-align: right;\">4.36923e6</td><td style = \"text-align: right;\">4.36923e6</td><td style = \"text-align: right;\">4.60684e6</td><td style = \"text-align: right;\">0.0</td><td style = \"text-align: right;\">4.60684e6</td><td style = \"text-align: right;\">4.43806e6</td><td style = \"text-align: right;\">0.0</td><td style = \"text-align: right;\">1.77186e5</td><td style = \"text-align: right;\">3.54373e5</td><td style = \"text-align: right;\">7.86781</td><td style = \"text-align: right;\">17.8814</td><td style = \"text-align: right;\">1.2066e6</td><td style = \"text-align: right;\">1.27757e6</td><td style = \"text-align: right;\">855112.0</td><td style = \"text-align: right;\">3.81422e5</td><td style = \"text-align: right;\">1</td></tr><tr><td class = \"rowNumber\" style = \"font-weight: bold; text-align: right;\">8</td><td style = \"text-align: right;\">8.57071e6</td><td style = \"text-align: right;\">8.80569e6</td><td style = \"text-align: right;\">8.80569e6</td><td style = \"text-align: right;\">1.17489e5</td><td style = \"text-align: right;\">8.57071e6</td><td style = \"text-align: right;\">8.57071e6</td><td style = \"text-align: right;\">8.57071e6</td><td style = \"text-align: right;\">2.05386e5</td><td style = \"text-align: right;\">8.57071e6</td><td style = \"text-align: right;\">2.34979e5</td><td style = \"text-align: right;\">8.64027e6</td><td style = \"text-align: right;\">8.57071e6</td><td style = \"text-align: right;\">3.3868e5</td><td style = \"text-align: right;\">6.77361e5</td><td style = \"text-align: right;\">22.8882</td><td style = \"text-align: right;\">35.0475</td><td style = \"text-align: right;\">2.3718e6</td><td style = \"text-align: right;\">2.49068e6</td><td style = \"text-align: right;\">1.67906e6</td><td style = \"text-align: right;\">7.31393e5</td><td style = \"text-align: right;\">1</td></tr><tr><td class = \"rowNumber\" style = \"font-weight: bold; text-align: right;\">9</td><td style = \"text-align: right;\">6.37308e6</td><td style = \"text-align: right;\">6.60232e6</td><td style = \"text-align: right;\">6.60232e6</td><td style = \"text-align: right;\">1.14624e5</td><td style = \"text-align: right;\">6.37308e6</td><td style = \"text-align: right;\">6.37308e6</td><td style = \"text-align: right;\">6.37308e6</td><td style = \"text-align: right;\">200243.0</td><td style = \"text-align: right;\">6.37308e6</td><td style = \"text-align: right;\">2.29247e5</td><td style = \"text-align: right;\">6.44144e6</td><td style = \"text-align: right;\">6.37308e6</td><td style = \"text-align: right;\">2.53936e5</td><td style = \"text-align: right;\">5.07871e5</td><td style = \"text-align: right;\">24.0803</td><td style = \"text-align: right;\">36.9549</td><td style = \"text-align: right;\">1.76246e6</td><td style = \"text-align: right;\">1.85607e6</td><td style = \"text-align: right;\">1.24813e6</td><td style = \"text-align: right;\">5.47772e5</td><td style = \"text-align: right;\">1</td></tr><tr><td class = \"rowNumber\" style = \"font-weight: bold; text-align: right;\">10</td><td style = \"text-align: right;\">8.82731e6</td><td style = \"text-align: right;\">9.29146e6</td><td style = \"text-align: right;\">9.29146e6</td><td style = \"text-align: right;\">2.32073e5</td><td style = \"text-align: right;\">8.82731e6</td><td style = \"text-align: right;\">8.82731e6</td><td style = \"text-align: right;\">8.82731e6</td><td style = \"text-align: right;\">4.34837e5</td><td style = \"text-align: right;\">8.82731e6</td><td style = \"text-align: right;\">4.64147e5</td><td style = \"text-align: right;\">8.8957e6</td><td style = \"text-align: right;\">8.82731e6</td><td style = \"text-align: right;\">3.57364e5</td><td style = \"text-align: right;\">7.14727e5</td><td style = \"text-align: right;\">14.0667</td><td style = \"text-align: right;\">29.0871</td><td style = \"text-align: right;\">2.4387e6</td><td style = \"text-align: right;\">2.55927e6</td><td style = \"text-align: right;\">1.7282e6</td><td style = \"text-align: right;\">7.71809e5</td><td style = \"text-align: right;\">1</td></tr><tr><td class = \"rowNumber\" style = \"font-weight: bold; text-align: right;\">11</td><td style = \"text-align: right;\">6.6144e6</td><td style = \"text-align: right;\">6.85047e6</td><td style = \"text-align: right;\">6.85047e6</td><td style = \"text-align: right;\">1.18035e5</td><td style = \"text-align: right;\">6.6144e6</td><td style = \"text-align: right;\">6.6144e6</td><td style = \"text-align: right;\">6.6144e6</td><td style = \"text-align: right;\">206898.0</td><td style = \"text-align: right;\">6.6144e6</td><td style = \"text-align: right;\">2.36071e5</td><td style = \"text-align: right;\">6.6827e6</td><td style = \"text-align: right;\">6.6144e6</td><td style = \"text-align: right;\">2.4466e5</td><td style = \"text-align: right;\">4.8932e5</td><td style = \"text-align: right;\">10.9673</td><td style = \"text-align: right;\">22.8882</td><td style = \"text-align: right;\">1.7631e6</td><td style = \"text-align: right;\">1.8503e6</td><td style = \"text-align: right;\">1.24842e6</td><td style = \"text-align: right;\">5.24673e5</td><td style = \"text-align: right;\">1</td></tr><tr><td class = \"rowNumber\" style = \"font-weight: bold; text-align: right;\">12</td><td style = \"text-align: right;\">1.51859e7</td><td style = \"text-align: right;\">1.5419e7</td><td style = \"text-align: right;\">1.5419e7</td><td style = \"text-align: right;\">1.16561e5</td><td style = \"text-align: right;\">1.51859e7</td><td style = \"text-align: right;\">1.51859e7</td><td style = \"text-align: right;\">1.51859e7</td><td style = \"text-align: right;\">2.02969e5</td><td style = \"text-align: right;\">1.51859e7</td><td style = \"text-align: right;\">2.33121e5</td><td style = \"text-align: right;\">1.52552e7</td><td style = \"text-align: right;\">1.51859e7</td><td style = \"text-align: right;\">5.9304e5</td><td style = \"text-align: right;\">1.18608e6</td><td style = \"text-align: right;\">12.1593</td><td style = \"text-align: right;\">29.0871</td><td style = \"text-align: right;\">4.20651e6</td><td style = \"text-align: right;\">4.40031e6</td><td style = \"text-align: right;\">2.9764e6</td><td style = \"text-align: right;\">1.28245e6</td><td style = \"text-align: right;\">1</td></tr><tr><td class = \"rowNumber\" style = \"font-weight: bold; text-align: right;\">13</td><td style = \"text-align: right;\">6.36874e6</td><td style = \"text-align: right;\">6.64851e6</td><td style = \"text-align: right;\">6.64851e6</td><td style = \"text-align: right;\">1.39887e5</td><td style = \"text-align: right;\">6.36874e6</td><td style = \"text-align: right;\">6.36874e6</td><td style = \"text-align: right;\">6.36874e6</td><td style = \"text-align: right;\">2.49955e5</td><td style = \"text-align: right;\">6.36874e6</td><td style = \"text-align: right;\">2.79775e5</td><td style = \"text-align: right;\">6.43788e6</td><td style = \"text-align: right;\">6.36874e6</td><td style = \"text-align: right;\">2.37447e5</td><td style = \"text-align: right;\">4.74894e5</td><td style = \"text-align: right;\">13.113</td><td style = \"text-align: right;\">34.0939</td><td style = \"text-align: right;\">1.69656e6</td><td style = \"text-align: right;\">1.78143e6</td><td style = \"text-align: right;\">1.20171e6</td><td style = \"text-align: right;\">5.09146e5</td><td style = \"text-align: right;\">1</td></tr><tr><td style = \"text-align: right;\">&vellip;</td><td style = \"text-align: right;\">&vellip;</td><td style = \"text-align: right;\">&vellip;</td><td style = \"text-align: right;\">&vellip;</td><td style = \"text-align: right;\">&vellip;</td><td style = \"text-align: right;\">&vellip;</td><td style = \"text-align: right;\">&vellip;</td><td style = \"text-align: right;\">&vellip;</td><td style = \"text-align: right;\">&vellip;</td><td style = \"text-align: right;\">&vellip;</td><td style = \"text-align: right;\">&vellip;</td><td style = \"text-align: right;\">&vellip;</td><td style = \"text-align: right;\">&vellip;</td><td style = \"text-align: right;\">&vellip;</td><td style = \"text-align: right;\">&vellip;</td><td style = \"text-align: right;\">&vellip;</td><td style = \"text-align: right;\">&vellip;</td><td style = \"text-align: right;\">&vellip;</td><td style = \"text-align: right;\">&vellip;</td><td style = \"text-align: right;\">&vellip;</td><td style = \"text-align: right;\">&vellip;</td><td style = \"text-align: right;\">&vellip;</td></tr><tr><td class = \"rowNumber\" style = \"font-weight: bold; text-align: right;\">111544</td><td style = \"text-align: right;\">0.0</td><td style = \"text-align: right;\">1.52864e6</td><td style = \"text-align: right;\">1.52864e6</td><td style = \"text-align: right;\">1.52864e6</td><td style = \"text-align: right;\">0.0</td><td style = \"text-align: right;\">764348.0</td><td style = \"text-align: right;\">764348.0</td><td style = \"text-align: right;\">1.52864e6</td><td style = \"text-align: right;\">0.0</td><td style = \"text-align: right;\">1.52864e6</td><td style = \"text-align: right;\">0.0</td><td style = \"text-align: right;\">0.0</td><td style = \"text-align: right;\">7.6432e5</td><td style = \"text-align: right;\">7.6432e5</td><td style = \"text-align: right;\">764293.0</td><td style = \"text-align: right;\">764293.0</td><td style = \"text-align: right;\">38.9437</td><td style = \"text-align: right;\">0.0</td><td style = \"text-align: right;\">38.9437</td><td style = \"text-align: right;\">0.0</td><td style = \"text-align: right;\">1</td></tr><tr><td class = \"rowNumber\" style = \"font-weight: bold; text-align: right;\">111545</td><td style = \"text-align: right;\">0.0</td><td style = \"text-align: right;\">1.52863e6</td><td style = \"text-align: right;\">1.52863e6</td><td style = \"text-align: right;\">1.52863e6</td><td style = \"text-align: right;\">0.0</td><td style = \"text-align: right;\">7.64321e5</td><td style = \"text-align: right;\">7.64321e5</td><td style = \"text-align: right;\">1.52863e6</td><td style = \"text-align: right;\">0.0</td><td style = \"text-align: right;\">1.52863e6</td><td style = \"text-align: right;\">0.0</td><td style = \"text-align: right;\">0.0</td><td style = \"text-align: right;\">7.64315e5</td><td style = \"text-align: right;\">7.64315e5</td><td style = \"text-align: right;\">764308.0</td><td style = \"text-align: right;\">764308.0</td><td style = \"text-align: right;\">9.27231</td><td style = \"text-align: right;\">0.0</td><td style = \"text-align: right;\">9.27231</td><td style = \"text-align: right;\">0.0</td><td style = \"text-align: right;\">1</td></tr><tr><td class = \"rowNumber\" style = \"font-weight: bold; text-align: right;\">111546</td><td style = \"text-align: right;\">0.0</td><td style = \"text-align: right;\">1.52859e6</td><td style = \"text-align: right;\">1.52859e6</td><td style = \"text-align: right;\">1.52859e6</td><td style = \"text-align: right;\">0.0</td><td style = \"text-align: right;\">764415.0</td><td style = \"text-align: right;\">764415.0</td><td style = \"text-align: right;\">1.52859e6</td><td style = \"text-align: right;\">0.0</td><td style = \"text-align: right;\">1.52859e6</td><td style = \"text-align: right;\">0.0</td><td style = \"text-align: right;\">0.0</td><td style = \"text-align: right;\">7.64295e5</td><td style = \"text-align: right;\">7.64295e5</td><td style = \"text-align: right;\">7.64175e5</td><td style = \"text-align: right;\">7.64175e5</td><td style = \"text-align: right;\">169.599</td><td style = \"text-align: right;\">0.0</td><td style = \"text-align: right;\">169.599</td><td style = \"text-align: right;\">0.0</td><td style = \"text-align: right;\">1</td></tr><tr><td class = \"rowNumber\" style = \"font-weight: bold; text-align: right;\">111547</td><td style = \"text-align: right;\">0.0</td><td style = \"text-align: right;\">1.52864e6</td><td style = \"text-align: right;\">1.52864e6</td><td style = \"text-align: right;\">1.52864e6</td><td style = \"text-align: right;\">0.0</td><td style = \"text-align: right;\">7.64383e5</td><td style = \"text-align: right;\">7.64383e5</td><td style = \"text-align: right;\">1.52864e6</td><td style = \"text-align: right;\">0.0</td><td style = \"text-align: right;\">1.52864e6</td><td style = \"text-align: right;\">0.0</td><td style = \"text-align: right;\">0.0</td><td style = \"text-align: right;\">7.6432e5</td><td style = \"text-align: right;\">7.6432e5</td><td style = \"text-align: right;\">7.64258e5</td><td style = \"text-align: right;\">7.64258e5</td><td style = \"text-align: right;\">88.5084</td><td style = \"text-align: right;\">0.0</td><td style = \"text-align: right;\">88.5084</td><td style = \"text-align: right;\">0.0</td><td style = \"text-align: right;\">1</td></tr><tr><td class = \"rowNumber\" style = \"font-weight: bold; text-align: right;\">111548</td><td style = \"text-align: right;\">0.0</td><td style = \"text-align: right;\">1.52896e6</td><td style = \"text-align: right;\">1.52896e6</td><td style = \"text-align: right;\">1.52896e6</td><td style = \"text-align: right;\">0.0</td><td style = \"text-align: right;\">764678.0</td><td style = \"text-align: right;\">764678.0</td><td style = \"text-align: right;\">1.52896e6</td><td style = \"text-align: right;\">0.0</td><td style = \"text-align: right;\">1.52896e6</td><td style = \"text-align: right;\">0.0</td><td style = \"text-align: right;\">0.0</td><td style = \"text-align: right;\">764480.0</td><td style = \"text-align: right;\">764480.0</td><td style = \"text-align: right;\">764282.0</td><td style = \"text-align: right;\">764282.0</td><td style = \"text-align: right;\">280.024</td><td style = \"text-align: right;\">0.0</td><td style = \"text-align: right;\">280.024</td><td style = \"text-align: right;\">0.0</td><td style = \"text-align: right;\">1</td></tr><tr><td class = \"rowNumber\" style = \"font-weight: bold; text-align: right;\">111549</td><td style = \"text-align: right;\">0.0</td><td style = \"text-align: right;\">1.52861e6</td><td style = \"text-align: right;\">1.52861e6</td><td style = \"text-align: right;\">1.52861e6</td><td style = \"text-align: right;\">0.0</td><td style = \"text-align: right;\">7.64383e5</td><td style = \"text-align: right;\">7.64383e5</td><td style = \"text-align: right;\">1.52861e6</td><td style = \"text-align: right;\">0.0</td><td style = \"text-align: right;\">1.52861e6</td><td style = \"text-align: right;\">0.0</td><td style = \"text-align: right;\">0.0</td><td style = \"text-align: right;\">7.64306e5</td><td style = \"text-align: right;\">7.64306e5</td><td style = \"text-align: right;\">7.64228e5</td><td style = \"text-align: right;\">7.64228e5</td><td style = \"text-align: right;\">109.582</td><td style = \"text-align: right;\">0.0</td><td style = \"text-align: right;\">109.582</td><td style = \"text-align: right;\">0.0</td><td style = \"text-align: right;\">1</td></tr><tr><td class = \"rowNumber\" style = \"font-weight: bold; text-align: right;\">111550</td><td style = \"text-align: right;\">0.0</td><td style = \"text-align: right;\">1.52863e6</td><td style = \"text-align: right;\">1.52863e6</td><td style = \"text-align: right;\">1.52863e6</td><td style = \"text-align: right;\">0.0</td><td style = \"text-align: right;\">764395.0</td><td style = \"text-align: right;\">764395.0</td><td style = \"text-align: right;\">1.52863e6</td><td style = \"text-align: right;\">0.0</td><td style = \"text-align: right;\">1.52863e6</td><td style = \"text-align: right;\">0.0</td><td style = \"text-align: right;\">0.0</td><td style = \"text-align: right;\">7.64313e5</td><td style = \"text-align: right;\">7.64313e5</td><td style = \"text-align: right;\">764230.0</td><td style = \"text-align: right;\">764230.0</td><td style = \"text-align: right;\">116.662</td><td style = \"text-align: right;\">0.0</td><td style = \"text-align: right;\">116.662</td><td style = \"text-align: right;\">0.0</td><td style = \"text-align: right;\">1</td></tr><tr><td class = \"rowNumber\" style = \"font-weight: bold; text-align: right;\">111551</td><td style = \"text-align: right;\">0.0</td><td style = \"text-align: right;\">1.52865e6</td><td style = \"text-align: right;\">1.52865e6</td><td style = \"text-align: right;\">1.52865e6</td><td style = \"text-align: right;\">0.0</td><td style = \"text-align: right;\">7.64435e5</td><td style = \"text-align: right;\">7.64435e5</td><td style = \"text-align: right;\">1.52865e6</td><td style = \"text-align: right;\">0.0</td><td style = \"text-align: right;\">1.52865e6</td><td style = \"text-align: right;\">0.0</td><td style = \"text-align: right;\">0.0</td><td style = \"text-align: right;\">764326.0</td><td style = \"text-align: right;\">764326.0</td><td style = \"text-align: right;\">7.64217e5</td><td style = \"text-align: right;\">7.64217e5</td><td style = \"text-align: right;\">153.92</td><td style = \"text-align: right;\">0.0</td><td style = \"text-align: right;\">153.92</td><td style = \"text-align: right;\">0.0</td><td style = \"text-align: right;\">1</td></tr><tr><td class = \"rowNumber\" style = \"font-weight: bold; text-align: right;\">111552</td><td style = \"text-align: right;\">0.0</td><td style = \"text-align: right;\">1.52867e6</td><td style = \"text-align: right;\">1.52867e6</td><td style = \"text-align: right;\">1.52867e6</td><td style = \"text-align: right;\">0.0</td><td style = \"text-align: right;\">7.64409e5</td><td style = \"text-align: right;\">7.64409e5</td><td style = \"text-align: right;\">1.52867e6</td><td style = \"text-align: right;\">0.0</td><td style = \"text-align: right;\">1.52867e6</td><td style = \"text-align: right;\">0.0</td><td style = \"text-align: right;\">0.0</td><td style = \"text-align: right;\">7.64334e5</td><td style = \"text-align: right;\">7.64334e5</td><td style = \"text-align: right;\">7.64259e5</td><td style = \"text-align: right;\">7.64259e5</td><td style = \"text-align: right;\">106.041</td><td style = \"text-align: right;\">0.0</td><td style = \"text-align: right;\">106.041</td><td style = \"text-align: right;\">0.0</td><td style = \"text-align: right;\">1</td></tr><tr><td class = \"rowNumber\" style = \"font-weight: bold; text-align: right;\">111553</td><td style = \"text-align: right;\">0.0</td><td style = \"text-align: right;\">1.52871e6</td><td style = \"text-align: right;\">1.52871e6</td><td style = \"text-align: right;\">1.52871e6</td><td style = \"text-align: right;\">0.0</td><td style = \"text-align: right;\">764540.0</td><td style = \"text-align: right;\">764540.0</td><td style = \"text-align: right;\">1.52871e6</td><td style = \"text-align: right;\">0.0</td><td style = \"text-align: right;\">1.52871e6</td><td style = \"text-align: right;\">0.0</td><td style = \"text-align: right;\">0.0</td><td style = \"text-align: right;\">7.64357e5</td><td style = \"text-align: right;\">7.64357e5</td><td style = \"text-align: right;\">7.64175e5</td><td style = \"text-align: right;\">7.64175e5</td><td style = \"text-align: right;\">258.107</td><td style = \"text-align: right;\">0.0</td><td style = \"text-align: right;\">258.107</td><td style = \"text-align: right;\">0.0</td><td style = \"text-align: right;\">1</td></tr><tr><td class = \"rowNumber\" style = \"font-weight: bold; text-align: right;\">111554</td><td style = \"text-align: right;\">0.0</td><td style = \"text-align: right;\">1.52859e6</td><td style = \"text-align: right;\">1.52859e6</td><td style = \"text-align: right;\">1.52859e6</td><td style = \"text-align: right;\">0.0</td><td style = \"text-align: right;\">764327.0</td><td style = \"text-align: right;\">764327.0</td><td style = \"text-align: right;\">1.52859e6</td><td style = \"text-align: right;\">0.0</td><td style = \"text-align: right;\">1.52859e6</td><td style = \"text-align: right;\">0.0</td><td style = \"text-align: right;\">0.0</td><td style = \"text-align: right;\">7.64295e5</td><td style = \"text-align: right;\">7.64295e5</td><td style = \"text-align: right;\">7.64264e5</td><td style = \"text-align: right;\">7.64264e5</td><td style = \"text-align: right;\">44.6757</td><td style = \"text-align: right;\">0.0</td><td style = \"text-align: right;\">44.6757</td><td style = \"text-align: right;\">0.0</td><td style = \"text-align: right;\">1</td></tr><tr><td class = \"rowNumber\" style = \"font-weight: bold; text-align: right;\">111555</td><td style = \"text-align: right;\">0.0</td><td style = \"text-align: right;\">1.52877e6</td><td style = \"text-align: right;\">1.52877e6</td><td style = \"text-align: right;\">1.52877e6</td><td style = \"text-align: right;\">0.0</td><td style = \"text-align: right;\">764396.0</td><td style = \"text-align: right;\">764396.0</td><td style = \"text-align: right;\">1.52877e6</td><td style = \"text-align: right;\">0.0</td><td style = \"text-align: right;\">1.52877e6</td><td style = \"text-align: right;\">0.0</td><td style = \"text-align: right;\">0.0</td><td style = \"text-align: right;\">7.64385e5</td><td style = \"text-align: right;\">7.64385e5</td><td style = \"text-align: right;\">7.64373e5</td><td style = \"text-align: right;\">7.64373e5</td><td style = \"text-align: right;\">16.1844</td><td style = \"text-align: right;\">0.0</td><td style = \"text-align: right;\">16.1844</td><td style = \"text-align: right;\">0.0</td><td style = \"text-align: right;\">1</td></tr></tbody></table></div>"
      ],
      "text/latex": [
       "\\begin{tabular}{r|cccccccc}\n",
       "\t& idle.tot & flow\\_iat.tot & fwd\\_iat.tot & active.avg & idle.max & flow\\_iat.max & fwd\\_iat.max & \\\\\n",
       "\t\\hline\n",
       "\t& Float64 & Float64 & Float64 & Float64 & Float64 & Float64 & Float64 & \\\\\n",
       "\t\\hline\n",
       "\t1 & 0.0 & 4.57145e6 & 4.57145e6 & 4.57145e6 & 0.0 & 4.34038e6 & 4.34038e6 & $\\dots$ \\\\\n",
       "\t2 & 1.15539e7 & 1.17865e7 & 1.17865e7 & 1.16319e5 & 1.15539e7 & 1.15539e7 & 1.15539e7 & $\\dots$ \\\\\n",
       "\t3 & 9.30198e6 & 9.57994e6 & 9.57994e6 & 1.3898e5 & 9.30198e6 & 9.30198e6 & 9.30198e6 & $\\dots$ \\\\\n",
       "\t4 & 6.86407e6 & 7.33164e6 & 7.33164e6 & 233783.0 & 6.86407e6 & 6.86407e6 & 6.86407e6 & $\\dots$ \\\\\n",
       "\t5 & 0.0 & 2.43333e6 & 2.43333e6 & 2.43333e6 & 0.0 & 1.96707e6 & 1.96707e6 & $\\dots$ \\\\\n",
       "\t6 & 6.585e6 & 6.81652e6 & 6.81652e6 & 1.1576e5 & 6.585e6 & 6.585e6 & 6.585e6 & $\\dots$ \\\\\n",
       "\t7 & 0.0 & 4.60684e6 & 4.60684e6 & 4.60684e6 & 0.0 & 4.36923e6 & 4.36923e6 & $\\dots$ \\\\\n",
       "\t8 & 8.57071e6 & 8.80569e6 & 8.80569e6 & 1.17489e5 & 8.57071e6 & 8.57071e6 & 8.57071e6 & $\\dots$ \\\\\n",
       "\t9 & 6.37308e6 & 6.60232e6 & 6.60232e6 & 1.14624e5 & 6.37308e6 & 6.37308e6 & 6.37308e6 & $\\dots$ \\\\\n",
       "\t10 & 8.82731e6 & 9.29146e6 & 9.29146e6 & 2.32073e5 & 8.82731e6 & 8.82731e6 & 8.82731e6 & $\\dots$ \\\\\n",
       "\t11 & 6.6144e6 & 6.85047e6 & 6.85047e6 & 1.18035e5 & 6.6144e6 & 6.6144e6 & 6.6144e6 & $\\dots$ \\\\\n",
       "\t12 & 1.51859e7 & 1.5419e7 & 1.5419e7 & 1.16561e5 & 1.51859e7 & 1.51859e7 & 1.51859e7 & $\\dots$ \\\\\n",
       "\t13 & 6.36874e6 & 6.64851e6 & 6.64851e6 & 1.39887e5 & 6.36874e6 & 6.36874e6 & 6.36874e6 & $\\dots$ \\\\\n",
       "\t14 & 0.0 & 4.39686e6 & 4.39686e6 & 4.39686e6 & 0.0 & 4.16382e6 & 4.16382e6 & $\\dots$ \\\\\n",
       "\t15 & 1.12696e7 & 1.15016e7 & 1.15016e7 & 1.16027e5 & 1.12696e7 & 1.12696e7 & 1.12696e7 & $\\dots$ \\\\\n",
       "\t16 & 0.0 & 4.83553e6 & 4.83553e6 & 4.83553e6 & 0.0 & 4.60217e6 & 4.60217e6 & $\\dots$ \\\\\n",
       "\t17 & 0.0 & 2.62683e6 & 2.62683e6 & 2.62683e6 & 0.0 & 2.16536e6 & 2.16536e6 & $\\dots$ \\\\\n",
       "\t18 & 1.30318e7 & 1.32633e7 & 1.32633e7 & 115752.0 & 1.30318e7 & 1.30318e7 & 1.30318e7 & $\\dots$ \\\\\n",
       "\t19 & 8.57728e6 & 8.81052e6 & 8.81052e6 & 1.1662e5 & 8.57728e6 & 8.57728e6 & 8.57728e6 & $\\dots$ \\\\\n",
       "\t20 & 0.0 & 4.39974e6 & 4.39974e6 & 4.39974e6 & 0.0 & 4.16562e6 & 4.16562e6 & $\\dots$ \\\\\n",
       "\t21 & 0.0 & 2.19808e6 & 2.19808e6 & 2.19808e6 & 0.0 & 1.96479e6 & 1.96479e6 & $\\dots$ \\\\\n",
       "\t22 & 8.66263e6 & 8.89756e6 & 8.89756e6 & 117463.0 & 8.66263e6 & 8.66263e6 & 8.66263e6 & $\\dots$ \\\\\n",
       "\t23 & 0.0 & 2.20276e6 & 2.20276e6 & 2.20276e6 & 0.0 & 1.96521e6 & 1.96521e6 & $\\dots$ \\\\\n",
       "\t24 & 1.85759e7 & 1.88079e7 & 1.88079e7 & 1.1602e5 & 1.85759e7 & 1.85759e7 & 1.85759e7 & $\\dots$ \\\\\n",
       "\t$\\dots$ & $\\dots$ & $\\dots$ & $\\dots$ & $\\dots$ & $\\dots$ & $\\dots$ & $\\dots$ &  \\\\\n",
       "\\end{tabular}\n"
      ],
      "text/plain": [
       "\u001b[1m111555×21 DataFrame\u001b[0m\n",
       "\u001b[1m    Row \u001b[0m│\u001b[1m idle.tot  \u001b[0m\u001b[1m flow_iat.tot \u001b[0m\u001b[1m fwd_iat.tot \u001b[0m\u001b[1m active.avg     \u001b[0m\u001b[1m idle.max  \u001b[0m\u001b[1m flo\u001b[0m ⋯\n",
       "        │\u001b[90m Float64   \u001b[0m\u001b[90m Float64      \u001b[0m\u001b[90m Float64     \u001b[0m\u001b[90m Float64        \u001b[0m\u001b[90m Float64   \u001b[0m\u001b[90m Flo\u001b[0m ⋯\n",
       "────────┼───────────────────────────────────────────────────────────────────────\n",
       "      1 │ 0.0           4.57145e6    4.57145e6       4.57145e6  0.0            ⋯\n",
       "      2 │ 1.15539e7     1.17865e7    1.17865e7       1.16319e5  1.15539e7\n",
       "      3 │ 9.30198e6     9.57994e6    9.57994e6       1.3898e5   9.30198e6\n",
       "      4 │ 6.86407e6     7.33164e6    7.33164e6  233783.0        6.86407e6\n",
       "      5 │ 0.0           2.43333e6    2.43333e6       2.43333e6  0.0            ⋯\n",
       "      6 │ 6.585e6       6.81652e6    6.81652e6       1.1576e5   6.585e6\n",
       "      7 │ 0.0           4.60684e6    4.60684e6       4.60684e6  0.0\n",
       "      8 │ 8.57071e6     8.80569e6    8.80569e6       1.17489e5  8.57071e6\n",
       "   ⋮    │     ⋮           ⋮             ⋮             ⋮             ⋮          ⋱\n",
       " 111549 │ 0.0           1.52861e6    1.52861e6       1.52861e6  0.0            ⋯\n",
       " 111550 │ 0.0           1.52863e6    1.52863e6       1.52863e6  0.0        764\n",
       " 111551 │ 0.0           1.52865e6    1.52865e6       1.52865e6  0.0\n",
       " 111552 │ 0.0           1.52867e6    1.52867e6       1.52867e6  0.0\n",
       " 111553 │ 0.0           1.52871e6    1.52871e6       1.52871e6  0.0        764 ⋯\n",
       " 111554 │ 0.0           1.52859e6    1.52859e6       1.52859e6  0.0        764\n",
       " 111555 │ 0.0           1.52877e6    1.52877e6       1.52877e6  0.0        764\n",
       "\u001b[36m                                              16 columns and 111540 rows omitted\u001b[0m"
      ]
     },
     "metadata": {},
     "output_type": "display_data"
    }
   ],
   "source": [
    "# read the CSV file\n",
    "df = CSV.read(\"hikari.csv\", DataFrame)\n",
    "\n",
    "df = select(df, [:\"idle.tot\", :\"flow_iat.tot\", :\"fwd_iat.tot\", :\"active.avg\", :\"idle.max\", :\"flow_iat.max\", :\"fwd_iat.max\", :\"active.max\", :\"idle.avg\", :\"active.tot\", :\"bwd_iat.max\", :\"idle.min\", :\"flow_iat.avg\", :\"fwd_iat.avg\", :\"flow_iat.min\", :\"fwd_iat.min\", :\"fwd_iat.std\", :\"bwd_iat.std\", :\"flow_iat.std\", :\"bwd_iat.avg\", :\"Label\"])\n",
    "\n",
    "\n",
    "\n",
    "train_ratio = 0.8\n",
    "test_ratio = 1.0 - train_ratio\n",
    "\n",
    "nrows = nrow(df)\n",
    "train_indices = randsubseq(1:nrows, train_ratio)\n",
    "test_indices = setdiff(1:nrows, train_indices)\n",
    "\n",
    "train_df = df[train_indices, :]\n",
    "test_df = df[test_indices, :]"
   ]
  },
  {
   "cell_type": "code",
   "execution_count": 9,
   "metadata": {},
   "outputs": [
    {
     "name": "stderr",
     "output_type": "stream",
     "text": [
      "WARNING: redefinition of constant AdaBoostClassifier. This may fail, cause incorrect answers, or produce other errors.\n"
     ]
    },
    {
     "data": {
      "text/plain": [
       "PyObject <class 'sklearn.ensemble._weight_boosting.AdaBoostClassifier'>"
      ]
     },
     "metadata": {},
     "output_type": "display_data"
    }
   ],
   "source": [
    "using ScikitLearn\n",
    "@sk_import ensemble:AdaBoostClassifier"
   ]
  },
  {
   "cell_type": "code",
   "execution_count": 10,
   "metadata": {},
   "outputs": [
    {
     "data": {
      "text/plain": [
       "111555-element Vector{Int64}:\n",
       " 1\n",
       " 1\n",
       " 1\n",
       " 1\n",
       " 1\n",
       " 1\n",
       " 1\n",
       " 1\n",
       " 1\n",
       " 1\n",
       " ⋮\n",
       " 1\n",
       " 1\n",
       " 1\n",
       " 1\n",
       " 1\n",
       " 1\n",
       " 1\n",
       " 1\n",
       " 1"
      ]
     },
     "metadata": {},
     "output_type": "display_data"
    }
   ],
   "source": [
    "# converting into vectors\n",
    "Ada_X_train = Matrix(select(train_df, Not(:Label)))\n",
    "\n",
    "Ada_y_train = Vector(train_df.Label)\n",
    "\n",
    "Ada_X_test = Matrix(select(test_df, Not(:Label)))\n",
    "\n",
    "Ada_y_test = Vector(test_df.Label)"
   ]
  },
  {
   "cell_type": "code",
   "execution_count": 11,
   "metadata": {},
   "outputs": [
    {
     "data": {
      "text/html": [
       "<style>#sk-container-id-3 {color: black;background-color: white;}#sk-container-id-3 pre{padding: 0;}#sk-container-id-3 div.sk-toggleable {background-color: white;}#sk-container-id-3 label.sk-toggleable__label {cursor: pointer;display: block;width: 100%;margin-bottom: 0;padding: 0.3em;box-sizing: border-box;text-align: center;}#sk-container-id-3 label.sk-toggleable__label-arrow:before {content: \"▸\";float: left;margin-right: 0.25em;color: #696969;}#sk-container-id-3 label.sk-toggleable__label-arrow:hover:before {color: black;}#sk-container-id-3 div.sk-estimator:hover label.sk-toggleable__label-arrow:before {color: black;}#sk-container-id-3 div.sk-toggleable__content {max-height: 0;max-width: 0;overflow: hidden;text-align: left;background-color: #f0f8ff;}#sk-container-id-3 div.sk-toggleable__content pre {margin: 0.2em;color: black;border-radius: 0.25em;background-color: #f0f8ff;}#sk-container-id-3 input.sk-toggleable__control:checked~div.sk-toggleable__content {max-height: 200px;max-width: 100%;overflow: auto;}#sk-container-id-3 input.sk-toggleable__control:checked~label.sk-toggleable__label-arrow:before {content: \"▾\";}#sk-container-id-3 div.sk-estimator input.sk-toggleable__control:checked~label.sk-toggleable__label {background-color: #d4ebff;}#sk-container-id-3 div.sk-label input.sk-toggleable__control:checked~label.sk-toggleable__label {background-color: #d4ebff;}#sk-container-id-3 input.sk-hidden--visually {border: 0;clip: rect(1px 1px 1px 1px);clip: rect(1px, 1px, 1px, 1px);height: 1px;margin: -1px;overflow: hidden;padding: 0;position: absolute;width: 1px;}#sk-container-id-3 div.sk-estimator {font-family: monospace;background-color: #f0f8ff;border: 1px dotted black;border-radius: 0.25em;box-sizing: border-box;margin-bottom: 0.5em;}#sk-container-id-3 div.sk-estimator:hover {background-color: #d4ebff;}#sk-container-id-3 div.sk-parallel-item::after {content: \"\";width: 100%;border-bottom: 1px solid gray;flex-grow: 1;}#sk-container-id-3 div.sk-label:hover label.sk-toggleable__label {background-color: #d4ebff;}#sk-container-id-3 div.sk-serial::before {content: \"\";position: absolute;border-left: 1px solid gray;box-sizing: border-box;top: 0;bottom: 0;left: 50%;z-index: 0;}#sk-container-id-3 div.sk-serial {display: flex;flex-direction: column;align-items: center;background-color: white;padding-right: 0.2em;padding-left: 0.2em;position: relative;}#sk-container-id-3 div.sk-item {position: relative;z-index: 1;}#sk-container-id-3 div.sk-parallel {display: flex;align-items: stretch;justify-content: center;background-color: white;position: relative;}#sk-container-id-3 div.sk-item::before, #sk-container-id-3 div.sk-parallel-item::before {content: \"\";position: absolute;border-left: 1px solid gray;box-sizing: border-box;top: 0;bottom: 0;left: 50%;z-index: -1;}#sk-container-id-3 div.sk-parallel-item {display: flex;flex-direction: column;z-index: 1;position: relative;background-color: white;}#sk-container-id-3 div.sk-parallel-item:first-child::after {align-self: flex-end;width: 50%;}#sk-container-id-3 div.sk-parallel-item:last-child::after {align-self: flex-start;width: 50%;}#sk-container-id-3 div.sk-parallel-item:only-child::after {width: 0;}#sk-container-id-3 div.sk-dashed-wrapped {border: 1px dashed gray;margin: 0 0.4em 0.5em 0.4em;box-sizing: border-box;padding-bottom: 0.4em;background-color: white;}#sk-container-id-3 div.sk-label label {font-family: monospace;font-weight: bold;display: inline-block;line-height: 1.2em;}#sk-container-id-3 div.sk-label-container {text-align: center;}#sk-container-id-3 div.sk-container {/* jupyter's `normalize.less` sets `[hidden] { display: none; }` but bootstrap.min.css set `[hidden] { display: none !important; }` so we also need the `!important` here to be able to override the default hidden behavior on the sphinx rendered scikit-learn.org. See: https://github.com/scikit-learn/scikit-learn/issues/21755 */display: inline-block !important;position: relative;}#sk-container-id-3 div.sk-text-repr-fallback {display: none;}</style><div id=\"sk-container-id-3\" class=\"sk-top-container\"><div class=\"sk-text-repr-fallback\"><pre>AdaBoostClassifier(random_state=0)</pre><b>In a Jupyter environment, please rerun this cell to show the HTML representation or trust the notebook. <br />On GitHub, the HTML representation is unable to render, please try loading this page with nbviewer.org.</b></div><div class=\"sk-container\" hidden><div class=\"sk-item\"><div class=\"sk-estimator sk-toggleable\"><input class=\"sk-toggleable__control sk-hidden--visually\" id=\"sk-estimator-id-3\" type=\"checkbox\" checked><label for=\"sk-estimator-id-3\" class=\"sk-toggleable__label sk-toggleable__label-arrow\">AdaBoostClassifier</label><div class=\"sk-toggleable__content\"><pre>AdaBoostClassifier(random_state=0)</pre></div></div></div></div></div>"
      ],
      "text/plain": [
       "PyObject AdaBoostClassifier(random_state=0)"
      ]
     },
     "metadata": {},
     "output_type": "display_data"
    }
   ],
   "source": [
    "# Create an AdaBoostClassifier\n",
    "ada_model = AdaBoostClassifier(n_estimators=50, random_state=0)"
   ]
  },
  {
   "cell_type": "code",
   "execution_count": 14,
   "metadata": {},
   "outputs": [
    {
     "data": {
      "text/html": [
       "<style>#sk-container-id-6 {color: black;background-color: white;}#sk-container-id-6 pre{padding: 0;}#sk-container-id-6 div.sk-toggleable {background-color: white;}#sk-container-id-6 label.sk-toggleable__label {cursor: pointer;display: block;width: 100%;margin-bottom: 0;padding: 0.3em;box-sizing: border-box;text-align: center;}#sk-container-id-6 label.sk-toggleable__label-arrow:before {content: \"▸\";float: left;margin-right: 0.25em;color: #696969;}#sk-container-id-6 label.sk-toggleable__label-arrow:hover:before {color: black;}#sk-container-id-6 div.sk-estimator:hover label.sk-toggleable__label-arrow:before {color: black;}#sk-container-id-6 div.sk-toggleable__content {max-height: 0;max-width: 0;overflow: hidden;text-align: left;background-color: #f0f8ff;}#sk-container-id-6 div.sk-toggleable__content pre {margin: 0.2em;color: black;border-radius: 0.25em;background-color: #f0f8ff;}#sk-container-id-6 input.sk-toggleable__control:checked~div.sk-toggleable__content {max-height: 200px;max-width: 100%;overflow: auto;}#sk-container-id-6 input.sk-toggleable__control:checked~label.sk-toggleable__label-arrow:before {content: \"▾\";}#sk-container-id-6 div.sk-estimator input.sk-toggleable__control:checked~label.sk-toggleable__label {background-color: #d4ebff;}#sk-container-id-6 div.sk-label input.sk-toggleable__control:checked~label.sk-toggleable__label {background-color: #d4ebff;}#sk-container-id-6 input.sk-hidden--visually {border: 0;clip: rect(1px 1px 1px 1px);clip: rect(1px, 1px, 1px, 1px);height: 1px;margin: -1px;overflow: hidden;padding: 0;position: absolute;width: 1px;}#sk-container-id-6 div.sk-estimator {font-family: monospace;background-color: #f0f8ff;border: 1px dotted black;border-radius: 0.25em;box-sizing: border-box;margin-bottom: 0.5em;}#sk-container-id-6 div.sk-estimator:hover {background-color: #d4ebff;}#sk-container-id-6 div.sk-parallel-item::after {content: \"\";width: 100%;border-bottom: 1px solid gray;flex-grow: 1;}#sk-container-id-6 div.sk-label:hover label.sk-toggleable__label {background-color: #d4ebff;}#sk-container-id-6 div.sk-serial::before {content: \"\";position: absolute;border-left: 1px solid gray;box-sizing: border-box;top: 0;bottom: 0;left: 50%;z-index: 0;}#sk-container-id-6 div.sk-serial {display: flex;flex-direction: column;align-items: center;background-color: white;padding-right: 0.2em;padding-left: 0.2em;position: relative;}#sk-container-id-6 div.sk-item {position: relative;z-index: 1;}#sk-container-id-6 div.sk-parallel {display: flex;align-items: stretch;justify-content: center;background-color: white;position: relative;}#sk-container-id-6 div.sk-item::before, #sk-container-id-6 div.sk-parallel-item::before {content: \"\";position: absolute;border-left: 1px solid gray;box-sizing: border-box;top: 0;bottom: 0;left: 50%;z-index: -1;}#sk-container-id-6 div.sk-parallel-item {display: flex;flex-direction: column;z-index: 1;position: relative;background-color: white;}#sk-container-id-6 div.sk-parallel-item:first-child::after {align-self: flex-end;width: 50%;}#sk-container-id-6 div.sk-parallel-item:last-child::after {align-self: flex-start;width: 50%;}#sk-container-id-6 div.sk-parallel-item:only-child::after {width: 0;}#sk-container-id-6 div.sk-dashed-wrapped {border: 1px dashed gray;margin: 0 0.4em 0.5em 0.4em;box-sizing: border-box;padding-bottom: 0.4em;background-color: white;}#sk-container-id-6 div.sk-label label {font-family: monospace;font-weight: bold;display: inline-block;line-height: 1.2em;}#sk-container-id-6 div.sk-label-container {text-align: center;}#sk-container-id-6 div.sk-container {/* jupyter's `normalize.less` sets `[hidden] { display: none; }` but bootstrap.min.css set `[hidden] { display: none !important; }` so we also need the `!important` here to be able to override the default hidden behavior on the sphinx rendered scikit-learn.org. See: https://github.com/scikit-learn/scikit-learn/issues/21755 */display: inline-block !important;position: relative;}#sk-container-id-6 div.sk-text-repr-fallback {display: none;}</style><div id=\"sk-container-id-6\" class=\"sk-top-container\"><div class=\"sk-text-repr-fallback\"><pre>AdaBoostClassifier(random_state=0)</pre><b>In a Jupyter environment, please rerun this cell to show the HTML representation or trust the notebook. <br />On GitHub, the HTML representation is unable to render, please try loading this page with nbviewer.org.</b></div><div class=\"sk-container\" hidden><div class=\"sk-item\"><div class=\"sk-estimator sk-toggleable\"><input class=\"sk-toggleable__control sk-hidden--visually\" id=\"sk-estimator-id-6\" type=\"checkbox\" checked><label for=\"sk-estimator-id-6\" class=\"sk-toggleable__label sk-toggleable__label-arrow\">AdaBoostClassifier</label><div class=\"sk-toggleable__content\"><pre>AdaBoostClassifier(random_state=0)</pre></div></div></div></div></div>"
      ],
      "text/plain": [
       "PyObject AdaBoostClassifier(random_state=0)"
      ]
     },
     "metadata": {},
     "output_type": "display_data"
    }
   ],
   "source": [
    "# Fit the model to your data\n",
    "ScikitLearn.fit!(ada_model, Ada_X_train, Ada_y_train)"
   ]
  },
  {
   "cell_type": "code",
   "execution_count": 17,
   "metadata": {},
   "outputs": [
    {
     "name": "stdout",
     "output_type": "stream",
     "text": [
      "Accuracy: 0.9321500605082694\n",
      "Precision: 0.5070104025327906\n",
      "Recall: 0.1475\n",
      "F1-Score: 0.22851900927530322\n"
     ]
    }
   ],
   "source": [
    "# Make predictions\n",
    "ada_y_pred = ScikitLearn.predict(ada_model, Ada_X_test)\n",
    "\n",
    "\n",
    "#accuracy\n",
    "accuracy = mean(ada_y_pred .== Ada_y_test)\n",
    "# Calculate True Positives (TP), True Negatives (TN), False Positives (FP), and False Negatives (FN)\n",
    "TP = sum((ada_y_pred .== 1) .& (Ada_y_test .== 1))\n",
    "TN = sum((ada_y_pred .== 0) .& (Ada_y_test .== 0))\n",
    "FP = sum((ada_y_pred .== 1) .& (Ada_y_test .== 0))\n",
    "FN = sum((ada_y_pred .== 0) .& (Ada_y_test .== 1))\n",
    "\n",
    "# Calculate precision, recall, and F1-score\n",
    "precision = TP / (TP + FP)\n",
    "recall = TP / (TP + FN)\n",
    "f1_score = 2 * (precision * recall) / (precision + recall)\n",
    "\n",
    "println(\"Accuracy: $accuracy\")\n",
    "println(\"Precision: $precision\")\n",
    "println(\"Recall: $recall\")\n",
    "println(\"F1-Score: $f1_score\")"
   ]
  },
  {
   "cell_type": "code",
   "execution_count": null,
   "metadata": {},
   "outputs": [],
   "source": []
  }
 ],
 "metadata": {
  "kernelspec": {
   "display_name": "Julia 1.9.3",
   "language": "julia",
   "name": "julia-1.9"
  },
  "language_info": {
   "file_extension": ".jl",
   "mimetype": "application/julia",
   "name": "julia",
   "version": "1.9.3"
  }
 },
 "nbformat": 4,
 "nbformat_minor": 2
}
