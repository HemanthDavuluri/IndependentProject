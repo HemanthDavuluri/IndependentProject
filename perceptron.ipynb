{
 "cells": [
  {
   "cell_type": "code",
   "execution_count": 25,
   "metadata": {},
   "outputs": [],
   "source": [
    "using MLJ\n",
    "using ScikitLearn\n",
    "using Random, Statistics\n",
    "using CSV\n",
    "using DataFrames"
   ]
  },
  {
   "cell_type": "code",
   "execution_count": 26,
   "metadata": {},
   "outputs": [
    {
     "data": {
      "text/html": [
       "<div><div style = \"float: left;\"><span>110769×21 DataFrame</span></div><div style = \"float: right;\"><span style = \"font-style: italic;\">110744 rows omitted</span></div><div style = \"clear: both;\"></div></div><div class = \"data-frame\" style = \"overflow-x: scroll;\"><table class = \"data-frame\" style = \"margin-bottom: 6px;\"><thead><tr class = \"header\"><th class = \"rowNumber\" style = \"font-weight: bold; text-align: right;\">Row</th><th style = \"text-align: left;\">idle.tot</th><th style = \"text-align: left;\">flow_iat.tot</th><th style = \"text-align: left;\">fwd_iat.tot</th><th style = \"text-align: left;\">active.avg</th><th style = \"text-align: left;\">idle.max</th><th style = \"text-align: left;\">flow_iat.max</th><th style = \"text-align: left;\">fwd_iat.max</th><th style = \"text-align: left;\">active.max</th><th style = \"text-align: left;\">idle.avg</th><th style = \"text-align: left;\">active.tot</th><th style = \"text-align: left;\">bwd_iat.max</th><th style = \"text-align: left;\">idle.min</th><th style = \"text-align: left;\">flow_iat.avg</th><th style = \"text-align: left;\">fwd_iat.avg</th><th style = \"text-align: left;\">flow_iat.min</th><th style = \"text-align: left;\">fwd_iat.min</th><th style = \"text-align: left;\">fwd_iat.std</th><th style = \"text-align: left;\">bwd_iat.std</th><th style = \"text-align: left;\">flow_iat.std</th><th style = \"text-align: left;\">bwd_iat.avg</th><th style = \"text-align: left;\">Label</th></tr><tr class = \"subheader headerLastRow\"><th class = \"rowNumber\" style = \"font-weight: bold; text-align: right;\"></th><th title = \"Float64\" style = \"text-align: left;\">Float64</th><th title = \"Float64\" style = \"text-align: left;\">Float64</th><th title = \"Float64\" style = \"text-align: left;\">Float64</th><th title = \"Float64\" style = \"text-align: left;\">Float64</th><th title = \"Float64\" style = \"text-align: left;\">Float64</th><th title = \"Float64\" style = \"text-align: left;\">Float64</th><th title = \"Float64\" style = \"text-align: left;\">Float64</th><th title = \"Float64\" style = \"text-align: left;\">Float64</th><th title = \"Float64\" style = \"text-align: left;\">Float64</th><th title = \"Float64\" style = \"text-align: left;\">Float64</th><th title = \"Float64\" style = \"text-align: left;\">Float64</th><th title = \"Float64\" style = \"text-align: left;\">Float64</th><th title = \"Float64\" style = \"text-align: left;\">Float64</th><th title = \"Float64\" style = \"text-align: left;\">Float64</th><th title = \"Float64\" style = \"text-align: left;\">Float64</th><th title = \"Float64\" style = \"text-align: left;\">Float64</th><th title = \"Float64\" style = \"text-align: left;\">Float64</th><th title = \"Float64\" style = \"text-align: left;\">Float64</th><th title = \"Float64\" style = \"text-align: left;\">Float64</th><th title = \"Float64\" style = \"text-align: left;\">Float64</th><th title = \"Int64\" style = \"text-align: left;\">Int64</th></tr></thead><tbody><tr><td class = \"rowNumber\" style = \"font-weight: bold; text-align: right;\">1</td><td style = \"text-align: right;\">1.61564e7</td><td style = \"text-align: right;\">1.63871e7</td><td style = \"text-align: right;\">1.63871e7</td><td style = \"text-align: right;\">1.15348e5</td><td style = \"text-align: right;\">1.61564e7</td><td style = \"text-align: right;\">1.61564e7</td><td style = \"text-align: right;\">1.61564e7</td><td style = \"text-align: right;\">2.01739e5</td><td style = \"text-align: right;\">1.61564e7</td><td style = \"text-align: right;\">2.30696e5</td><td style = \"text-align: right;\">1.62254e7</td><td style = \"text-align: right;\">1.61564e7</td><td style = \"text-align: right;\">6.30273e5</td><td style = \"text-align: right;\">1.26055e6</td><td style = \"text-align: right;\">5.96046</td><td style = \"text-align: right;\">16.9277</td><td style = \"text-align: right;\">4.47572e6</td><td style = \"text-align: right;\">4.68039e6</td><td style = \"text-align: right;\">3.16675e6</td><td style = \"text-align: right;\">1.3632e6</td><td style = \"text-align: right;\">1</td></tr><tr><td class = \"rowNumber\" style = \"font-weight: bold; text-align: right;\">2</td><td style = \"text-align: right;\">1.15539e7</td><td style = \"text-align: right;\">1.17865e7</td><td style = \"text-align: right;\">1.17865e7</td><td style = \"text-align: right;\">1.16319e5</td><td style = \"text-align: right;\">1.15539e7</td><td style = \"text-align: right;\">1.15539e7</td><td style = \"text-align: right;\">1.15539e7</td><td style = \"text-align: right;\">2.03899e5</td><td style = \"text-align: right;\">1.15539e7</td><td style = \"text-align: right;\">2.32638e5</td><td style = \"text-align: right;\">1.16218e7</td><td style = \"text-align: right;\">1.15539e7</td><td style = \"text-align: right;\">4.53327e5</td><td style = \"text-align: right;\">9.06654e5</td><td style = \"text-align: right;\">10.9673</td><td style = \"text-align: right;\">19.0735</td><td style = \"text-align: right;\">3.1992e6</td><td style = \"text-align: right;\">3.35138e6</td><td style = \"text-align: right;\">2.26411e6</td><td style = \"text-align: right;\">9.79817e5</td><td style = \"text-align: right;\">1</td></tr><tr><td class = \"rowNumber\" style = \"font-weight: bold; text-align: right;\">3</td><td style = \"text-align: right;\">0.0</td><td style = \"text-align: right;\">4.60684e6</td><td style = \"text-align: right;\">4.60684e6</td><td style = \"text-align: right;\">4.60684e6</td><td style = \"text-align: right;\">0.0</td><td style = \"text-align: right;\">4.36923e6</td><td style = \"text-align: right;\">4.36923e6</td><td style = \"text-align: right;\">4.60684e6</td><td style = \"text-align: right;\">0.0</td><td style = \"text-align: right;\">4.60684e6</td><td style = \"text-align: right;\">4.43806e6</td><td style = \"text-align: right;\">0.0</td><td style = \"text-align: right;\">1.77186e5</td><td style = \"text-align: right;\">3.54373e5</td><td style = \"text-align: right;\">7.86781</td><td style = \"text-align: right;\">17.8814</td><td style = \"text-align: right;\">1.2066e6</td><td style = \"text-align: right;\">1.27757e6</td><td style = \"text-align: right;\">855112.0</td><td style = \"text-align: right;\">3.81422e5</td><td style = \"text-align: right;\">1</td></tr><tr><td class = \"rowNumber\" style = \"font-weight: bold; text-align: right;\">4</td><td style = \"text-align: right;\">0.0</td><td style = \"text-align: right;\">2.2016e6</td><td style = \"text-align: right;\">2.2016e6</td><td style = \"text-align: right;\">2.2016e6</td><td style = \"text-align: right;\">0.0</td><td style = \"text-align: right;\">1.96541e6</td><td style = \"text-align: right;\">1.96541e6</td><td style = \"text-align: right;\">2.2016e6</td><td style = \"text-align: right;\">0.0</td><td style = \"text-align: right;\">2.2016e6</td><td style = \"text-align: right;\">2.0349e6</td><td style = \"text-align: right;\">0.0</td><td style = \"text-align: right;\">84676.8</td><td style = \"text-align: right;\">1.69354e5</td><td style = \"text-align: right;\">14.0667</td><td style = \"text-align: right;\">37.1933</td><td style = \"text-align: right;\">5.40278e5</td><td style = \"text-align: right;\">5.83968e5</td><td style = \"text-align: right;\">3.8382e5</td><td style = \"text-align: right;\">1.81016e5</td><td style = \"text-align: right;\">1</td></tr><tr><td class = \"rowNumber\" style = \"font-weight: bold; text-align: right;\">5</td><td style = \"text-align: right;\">8.82731e6</td><td style = \"text-align: right;\">9.29146e6</td><td style = \"text-align: right;\">9.29146e6</td><td style = \"text-align: right;\">2.32073e5</td><td style = \"text-align: right;\">8.82731e6</td><td style = \"text-align: right;\">8.82731e6</td><td style = \"text-align: right;\">8.82731e6</td><td style = \"text-align: right;\">4.34837e5</td><td style = \"text-align: right;\">8.82731e6</td><td style = \"text-align: right;\">4.64147e5</td><td style = \"text-align: right;\">8.8957e6</td><td style = \"text-align: right;\">8.82731e6</td><td style = \"text-align: right;\">3.57364e5</td><td style = \"text-align: right;\">7.14727e5</td><td style = \"text-align: right;\">14.0667</td><td style = \"text-align: right;\">29.0871</td><td style = \"text-align: right;\">2.4387e6</td><td style = \"text-align: right;\">2.55927e6</td><td style = \"text-align: right;\">1.7282e6</td><td style = \"text-align: right;\">7.71809e5</td><td style = \"text-align: right;\">1</td></tr><tr><td class = \"rowNumber\" style = \"font-weight: bold; text-align: right;\">6</td><td style = \"text-align: right;\">0.0</td><td style = \"text-align: right;\">2.20019e6</td><td style = \"text-align: right;\">2.20019e6</td><td style = \"text-align: right;\">2.20019e6</td><td style = \"text-align: right;\">0.0</td><td style = \"text-align: right;\">1.96458e6</td><td style = \"text-align: right;\">1.96458e6</td><td style = \"text-align: right;\">2.20019e6</td><td style = \"text-align: right;\">0.0</td><td style = \"text-align: right;\">2.20019e6</td><td style = \"text-align: right;\">2.03329e6</td><td style = \"text-align: right;\">0.0</td><td style = \"text-align: right;\">81488.5</td><td style = \"text-align: right;\">1.69245e5</td><td style = \"text-align: right;\">15.0204</td><td style = \"text-align: right;\">36.0012</td><td style = \"text-align: right;\">5.40065e5</td><td style = \"text-align: right;\">5.60881e5</td><td style = \"text-align: right;\">3.76556e5</td><td style = \"text-align: right;\">1.6703e5</td><td style = \"text-align: right;\">1</td></tr><tr><td class = \"rowNumber\" style = \"font-weight: bold; text-align: right;\">7</td><td style = \"text-align: right;\">1.12418e7</td><td style = \"text-align: right;\">1.14772e7</td><td style = \"text-align: right;\">1.14772e7</td><td style = \"text-align: right;\">117740.0</td><td style = \"text-align: right;\">1.12418e7</td><td style = \"text-align: right;\">1.12418e7</td><td style = \"text-align: right;\">1.12418e7</td><td style = \"text-align: right;\">2.05439e5</td><td style = \"text-align: right;\">1.12418e7</td><td style = \"text-align: right;\">2.3548e5</td><td style = \"text-align: right;\">1.13115e7</td><td style = \"text-align: right;\">1.12418e7</td><td style = \"text-align: right;\">4.59089e5</td><td style = \"text-align: right;\">8.82864e5</td><td style = \"text-align: right;\">9.05991</td><td style = \"text-align: right;\">19.0735</td><td style = \"text-align: right;\">3.11257e6</td><td style = \"text-align: right;\">3.40642e6</td><td style = \"text-align: right;\">2.24643e6</td><td style = \"text-align: right;\">1.04077e6</td><td style = \"text-align: right;\">1</td></tr><tr><td class = \"rowNumber\" style = \"font-weight: bold; text-align: right;\">8</td><td style = \"text-align: right;\">1.29832e7</td><td style = \"text-align: right;\">1.32144e7</td><td style = \"text-align: right;\">1.32144e7</td><td style = \"text-align: right;\">1.15593e5</td><td style = \"text-align: right;\">1.29832e7</td><td style = \"text-align: right;\">1.29832e7</td><td style = \"text-align: right;\">1.29832e7</td><td style = \"text-align: right;\">202184.0</td><td style = \"text-align: right;\">1.29832e7</td><td style = \"text-align: right;\">2.31186e5</td><td style = \"text-align: right;\">1.30514e7</td><td style = \"text-align: right;\">1.29832e7</td><td style = \"text-align: right;\">5.08245e5</td><td style = \"text-align: right;\">1.01649e6</td><td style = \"text-align: right;\">16.9277</td><td style = \"text-align: right;\">36.9549</td><td style = \"text-align: right;\">3.59563e6</td><td style = \"text-align: right;\">3.76413e6</td><td style = \"text-align: right;\">2.54443e6</td><td style = \"text-align: right;\">1.0988e6</td><td style = \"text-align: right;\">1</td></tr><tr><td class = \"rowNumber\" style = \"font-weight: bold; text-align: right;\">9</td><td style = \"text-align: right;\">6.37283e6</td><td style = \"text-align: right;\">6.60661e6</td><td style = \"text-align: right;\">6.60661e6</td><td style = \"text-align: right;\">1.16891e5</td><td style = \"text-align: right;\">6.37283e6</td><td style = \"text-align: right;\">6.37283e6</td><td style = \"text-align: right;\">6.37283e6</td><td style = \"text-align: right;\">2.05356e5</td><td style = \"text-align: right;\">6.37283e6</td><td style = \"text-align: right;\">2.33782e5</td><td style = \"text-align: right;\">6.44091e6</td><td style = \"text-align: right;\">6.37283e6</td><td style = \"text-align: right;\">2.44689e5</td><td style = \"text-align: right;\">5.08201e5</td><td style = \"text-align: right;\">8.10623</td><td style = \"text-align: right;\">32.9018</td><td style = \"text-align: right;\">1.76229e6</td><td style = \"text-align: right;\">1.78329e6</td><td style = \"text-align: right;\">1.22479e6</td><td style = \"text-align: right;\">5.05918e5</td><td style = \"text-align: right;\">1</td></tr><tr><td class = \"rowNumber\" style = \"font-weight: bold; text-align: right;\">10</td><td style = \"text-align: right;\">0.0</td><td style = \"text-align: right;\">4.40063e6</td><td style = \"text-align: right;\">4.40063e6</td><td style = \"text-align: right;\">4.40063e6</td><td style = \"text-align: right;\">0.0</td><td style = \"text-align: right;\">4.1681e6</td><td style = \"text-align: right;\">4.1681e6</td><td style = \"text-align: right;\">4.40063e6</td><td style = \"text-align: right;\">0.0</td><td style = \"text-align: right;\">4.40063e6</td><td style = \"text-align: right;\">4.23687e6</td><td style = \"text-align: right;\">0.0</td><td style = \"text-align: right;\">1.51746e5</td><td style = \"text-align: right;\">3.14331e5</td><td style = \"text-align: right;\">7.15256</td><td style = \"text-align: right;\">18.1198</td><td style = \"text-align: right;\">1.10948e6</td><td style = \"text-align: right;\">1.12967e6</td><td style = \"text-align: right;\">7.72558e5</td><td style = \"text-align: right;\">3.12206e5</td><td style = \"text-align: right;\">1</td></tr><tr><td class = \"rowNumber\" style = \"font-weight: bold; text-align: right;\">11</td><td style = \"text-align: right;\">1.30324e7</td><td style = \"text-align: right;\">1.32623e7</td><td style = \"text-align: right;\">1.32623e7</td><td style = \"text-align: right;\">114930.0</td><td style = \"text-align: right;\">1.30324e7</td><td style = \"text-align: right;\">1.30324e7</td><td style = \"text-align: right;\">1.30324e7</td><td style = \"text-align: right;\">200824.0</td><td style = \"text-align: right;\">1.30324e7</td><td style = \"text-align: right;\">2.2986e5</td><td style = \"text-align: right;\">1.31005e7</td><td style = \"text-align: right;\">1.30324e7</td><td style = \"text-align: right;\">4.91196e5</td><td style = \"text-align: right;\">1.02018e6</td><td style = \"text-align: right;\">10.0136</td><td style = \"text-align: right;\">22.8882</td><td style = \"text-align: right;\">3.60933e6</td><td style = \"text-align: right;\">3.63036e6</td><td style = \"text-align: right;\">2.50642e6</td><td style = \"text-align: right;\">1.01797e6</td><td style = \"text-align: right;\">1</td></tr><tr><td class = \"rowNumber\" style = \"font-weight: bold; text-align: right;\">12</td><td style = \"text-align: right;\">0.0</td><td style = \"text-align: right;\">2.19493e6</td><td style = \"text-align: right;\">2.19493e6</td><td style = \"text-align: right;\">2.19493e6</td><td style = \"text-align: right;\">0.0</td><td style = \"text-align: right;\">1.96489e6</td><td style = \"text-align: right;\">1.96489e6</td><td style = \"text-align: right;\">2.19493e6</td><td style = \"text-align: right;\">0.0</td><td style = \"text-align: right;\">2.19493e6</td><td style = \"text-align: right;\">2.03394e6</td><td style = \"text-align: right;\">0.0</td><td style = \"text-align: right;\">84420.4</td><td style = \"text-align: right;\">1.68841e5</td><td style = \"text-align: right;\">10.9673</td><td style = \"text-align: right;\">19.0735</td><td style = \"text-align: right;\">540259.0</td><td style = \"text-align: right;\">5.83814e5</td><td style = \"text-align: right;\">3.83763e5</td><td style = \"text-align: right;\">1.80499e5</td><td style = \"text-align: right;\">1</td></tr><tr><td class = \"rowNumber\" style = \"font-weight: bold; text-align: right;\">13</td><td style = \"text-align: right;\">1.57327e7</td><td style = \"text-align: right;\">1.62471e7</td><td style = \"text-align: right;\">1.62471e7</td><td style = \"text-align: right;\">257189.0</td><td style = \"text-align: right;\">1.57327e7</td><td style = \"text-align: right;\">1.57327e7</td><td style = \"text-align: right;\">1.57327e7</td><td style = \"text-align: right;\">4.85334e5</td><td style = \"text-align: right;\">1.57327e7</td><td style = \"text-align: right;\">5.14378e5</td><td style = \"text-align: right;\">1.58014e7</td><td style = \"text-align: right;\">1.57327e7</td><td style = \"text-align: right;\">5.60243e5</td><td style = \"text-align: right;\">1.1605e6</td><td style = \"text-align: right;\">7.15256</td><td style = \"text-align: right;\">16.2125</td><td style = \"text-align: right;\">4.19497e6</td><td style = \"text-align: right;\">4.21502e6</td><td style = \"text-align: right;\">2.91844e6</td><td style = \"text-align: right;\">1.15845e6</td><td style = \"text-align: right;\">1</td></tr><tr><td style = \"text-align: right;\">&vellip;</td><td style = \"text-align: right;\">&vellip;</td><td style = \"text-align: right;\">&vellip;</td><td style = \"text-align: right;\">&vellip;</td><td style = \"text-align: right;\">&vellip;</td><td style = \"text-align: right;\">&vellip;</td><td style = \"text-align: right;\">&vellip;</td><td style = \"text-align: right;\">&vellip;</td><td style = \"text-align: right;\">&vellip;</td><td style = \"text-align: right;\">&vellip;</td><td style = \"text-align: right;\">&vellip;</td><td style = \"text-align: right;\">&vellip;</td><td style = \"text-align: right;\">&vellip;</td><td style = \"text-align: right;\">&vellip;</td><td style = \"text-align: right;\">&vellip;</td><td style = \"text-align: right;\">&vellip;</td><td style = \"text-align: right;\">&vellip;</td><td style = \"text-align: right;\">&vellip;</td><td style = \"text-align: right;\">&vellip;</td><td style = \"text-align: right;\">&vellip;</td><td style = \"text-align: right;\">&vellip;</td><td style = \"text-align: right;\">&vellip;</td></tr><tr><td class = \"rowNumber\" style = \"font-weight: bold; text-align: right;\">110758</td><td style = \"text-align: right;\">0.0</td><td style = \"text-align: right;\">1.52864e6</td><td style = \"text-align: right;\">1.52864e6</td><td style = \"text-align: right;\">1.52864e6</td><td style = \"text-align: right;\">0.0</td><td style = \"text-align: right;\">764348.0</td><td style = \"text-align: right;\">764348.0</td><td style = \"text-align: right;\">1.52864e6</td><td style = \"text-align: right;\">0.0</td><td style = \"text-align: right;\">1.52864e6</td><td style = \"text-align: right;\">0.0</td><td style = \"text-align: right;\">0.0</td><td style = \"text-align: right;\">7.6432e5</td><td style = \"text-align: right;\">7.6432e5</td><td style = \"text-align: right;\">764293.0</td><td style = \"text-align: right;\">764293.0</td><td style = \"text-align: right;\">38.9437</td><td style = \"text-align: right;\">0.0</td><td style = \"text-align: right;\">38.9437</td><td style = \"text-align: right;\">0.0</td><td style = \"text-align: right;\">1</td></tr><tr><td class = \"rowNumber\" style = \"font-weight: bold; text-align: right;\">110759</td><td style = \"text-align: right;\">0.0</td><td style = \"text-align: right;\">1.52859e6</td><td style = \"text-align: right;\">1.52859e6</td><td style = \"text-align: right;\">1.52859e6</td><td style = \"text-align: right;\">0.0</td><td style = \"text-align: right;\">764415.0</td><td style = \"text-align: right;\">764415.0</td><td style = \"text-align: right;\">1.52859e6</td><td style = \"text-align: right;\">0.0</td><td style = \"text-align: right;\">1.52859e6</td><td style = \"text-align: right;\">0.0</td><td style = \"text-align: right;\">0.0</td><td style = \"text-align: right;\">7.64295e5</td><td style = \"text-align: right;\">7.64295e5</td><td style = \"text-align: right;\">7.64175e5</td><td style = \"text-align: right;\">7.64175e5</td><td style = \"text-align: right;\">169.599</td><td style = \"text-align: right;\">0.0</td><td style = \"text-align: right;\">169.599</td><td style = \"text-align: right;\">0.0</td><td style = \"text-align: right;\">1</td></tr><tr><td class = \"rowNumber\" style = \"font-weight: bold; text-align: right;\">110760</td><td style = \"text-align: right;\">0.0</td><td style = \"text-align: right;\">1.52864e6</td><td style = \"text-align: right;\">1.52864e6</td><td style = \"text-align: right;\">1.52864e6</td><td style = \"text-align: right;\">0.0</td><td style = \"text-align: right;\">7.64383e5</td><td style = \"text-align: right;\">7.64383e5</td><td style = \"text-align: right;\">1.52864e6</td><td style = \"text-align: right;\">0.0</td><td style = \"text-align: right;\">1.52864e6</td><td style = \"text-align: right;\">0.0</td><td style = \"text-align: right;\">0.0</td><td style = \"text-align: right;\">7.6432e5</td><td style = \"text-align: right;\">7.6432e5</td><td style = \"text-align: right;\">7.64258e5</td><td style = \"text-align: right;\">7.64258e5</td><td style = \"text-align: right;\">88.5084</td><td style = \"text-align: right;\">0.0</td><td style = \"text-align: right;\">88.5084</td><td style = \"text-align: right;\">0.0</td><td style = \"text-align: right;\">1</td></tr><tr><td class = \"rowNumber\" style = \"font-weight: bold; text-align: right;\">110761</td><td style = \"text-align: right;\">0.0</td><td style = \"text-align: right;\">1.52863e6</td><td style = \"text-align: right;\">1.52863e6</td><td style = \"text-align: right;\">1.52863e6</td><td style = \"text-align: right;\">0.0</td><td style = \"text-align: right;\">764395.0</td><td style = \"text-align: right;\">764395.0</td><td style = \"text-align: right;\">1.52863e6</td><td style = \"text-align: right;\">0.0</td><td style = \"text-align: right;\">1.52863e6</td><td style = \"text-align: right;\">0.0</td><td style = \"text-align: right;\">0.0</td><td style = \"text-align: right;\">7.64313e5</td><td style = \"text-align: right;\">7.64313e5</td><td style = \"text-align: right;\">764230.0</td><td style = \"text-align: right;\">764230.0</td><td style = \"text-align: right;\">116.662</td><td style = \"text-align: right;\">0.0</td><td style = \"text-align: right;\">116.662</td><td style = \"text-align: right;\">0.0</td><td style = \"text-align: right;\">1</td></tr><tr><td class = \"rowNumber\" style = \"font-weight: bold; text-align: right;\">110762</td><td style = \"text-align: right;\">0.0</td><td style = \"text-align: right;\">1.52858e6</td><td style = \"text-align: right;\">1.52858e6</td><td style = \"text-align: right;\">1.52858e6</td><td style = \"text-align: right;\">0.0</td><td style = \"text-align: right;\">7.64319e5</td><td style = \"text-align: right;\">7.64319e5</td><td style = \"text-align: right;\">1.52858e6</td><td style = \"text-align: right;\">0.0</td><td style = \"text-align: right;\">1.52858e6</td><td style = \"text-align: right;\">0.0</td><td style = \"text-align: right;\">0.0</td><td style = \"text-align: right;\">7.64289e5</td><td style = \"text-align: right;\">7.64289e5</td><td style = \"text-align: right;\">7.6426e5</td><td style = \"text-align: right;\">7.6426e5</td><td style = \"text-align: right;\">41.9783</td><td style = \"text-align: right;\">0.0</td><td style = \"text-align: right;\">41.9783</td><td style = \"text-align: right;\">0.0</td><td style = \"text-align: right;\">1</td></tr><tr><td class = \"rowNumber\" style = \"font-weight: bold; text-align: right;\">110763</td><td style = \"text-align: right;\">0.0</td><td style = \"text-align: right;\">1.52862e6</td><td style = \"text-align: right;\">1.52862e6</td><td style = \"text-align: right;\">1.52862e6</td><td style = \"text-align: right;\">0.0</td><td style = \"text-align: right;\">764354.0</td><td style = \"text-align: right;\">764354.0</td><td style = \"text-align: right;\">1.52862e6</td><td style = \"text-align: right;\">0.0</td><td style = \"text-align: right;\">1.52862e6</td><td style = \"text-align: right;\">0.0</td><td style = \"text-align: right;\">0.0</td><td style = \"text-align: right;\">7.6431e5</td><td style = \"text-align: right;\">7.6431e5</td><td style = \"text-align: right;\">7.64265e5</td><td style = \"text-align: right;\">7.64265e5</td><td style = \"text-align: right;\">62.8831</td><td style = \"text-align: right;\">0.0</td><td style = \"text-align: right;\">62.8831</td><td style = \"text-align: right;\">0.0</td><td style = \"text-align: right;\">1</td></tr><tr><td class = \"rowNumber\" style = \"font-weight: bold; text-align: right;\">110764</td><td style = \"text-align: right;\">0.0</td><td style = \"text-align: right;\">1.52861e6</td><td style = \"text-align: right;\">1.52861e6</td><td style = \"text-align: right;\">1.52861e6</td><td style = \"text-align: right;\">0.0</td><td style = \"text-align: right;\">7.64351e5</td><td style = \"text-align: right;\">7.64351e5</td><td style = \"text-align: right;\">1.52861e6</td><td style = \"text-align: right;\">0.0</td><td style = \"text-align: right;\">1.52861e6</td><td style = \"text-align: right;\">0.0</td><td style = \"text-align: right;\">0.0</td><td style = \"text-align: right;\">764304.0</td><td style = \"text-align: right;\">764304.0</td><td style = \"text-align: right;\">7.64257e5</td><td style = \"text-align: right;\">7.64257e5</td><td style = \"text-align: right;\">66.2548</td><td style = \"text-align: right;\">0.0</td><td style = \"text-align: right;\">66.2548</td><td style = \"text-align: right;\">0.0</td><td style = \"text-align: right;\">1</td></tr><tr><td class = \"rowNumber\" style = \"font-weight: bold; text-align: right;\">110765</td><td style = \"text-align: right;\">0.0</td><td style = \"text-align: right;\">1.52856e6</td><td style = \"text-align: right;\">1.52856e6</td><td style = \"text-align: right;\">1.52856e6</td><td style = \"text-align: right;\">0.0</td><td style = \"text-align: right;\">7.64285e5</td><td style = \"text-align: right;\">7.64285e5</td><td style = \"text-align: right;\">1.52856e6</td><td style = \"text-align: right;\">0.0</td><td style = \"text-align: right;\">1.52856e6</td><td style = \"text-align: right;\">0.0</td><td style = \"text-align: right;\">0.0</td><td style = \"text-align: right;\">7.64282e5</td><td style = \"text-align: right;\">7.64282e5</td><td style = \"text-align: right;\">7.64278e5</td><td style = \"text-align: right;\">7.64278e5</td><td style = \"text-align: right;\">5.05762</td><td style = \"text-align: right;\">0.0</td><td style = \"text-align: right;\">5.05762</td><td style = \"text-align: right;\">0.0</td><td style = \"text-align: right;\">1</td></tr><tr><td class = \"rowNumber\" style = \"font-weight: bold; text-align: right;\">110766</td><td style = \"text-align: right;\">0.0</td><td style = \"text-align: right;\">1.52854e6</td><td style = \"text-align: right;\">1.52854e6</td><td style = \"text-align: right;\">1.52854e6</td><td style = \"text-align: right;\">0.0</td><td style = \"text-align: right;\">7.64351e5</td><td style = \"text-align: right;\">7.64351e5</td><td style = \"text-align: right;\">1.52854e6</td><td style = \"text-align: right;\">0.0</td><td style = \"text-align: right;\">1.52854e6</td><td style = \"text-align: right;\">0.0</td><td style = \"text-align: right;\">0.0</td><td style = \"text-align: right;\">764269.0</td><td style = \"text-align: right;\">764269.0</td><td style = \"text-align: right;\">7.64187e5</td><td style = \"text-align: right;\">7.64187e5</td><td style = \"text-align: right;\">115.82</td><td style = \"text-align: right;\">0.0</td><td style = \"text-align: right;\">115.82</td><td style = \"text-align: right;\">0.0</td><td style = \"text-align: right;\">1</td></tr><tr><td class = \"rowNumber\" style = \"font-weight: bold; text-align: right;\">110767</td><td style = \"text-align: right;\">0.0</td><td style = \"text-align: right;\">1.52859e6</td><td style = \"text-align: right;\">1.52859e6</td><td style = \"text-align: right;\">1.52859e6</td><td style = \"text-align: right;\">0.0</td><td style = \"text-align: right;\">764344.0</td><td style = \"text-align: right;\">764344.0</td><td style = \"text-align: right;\">1.52859e6</td><td style = \"text-align: right;\">0.0</td><td style = \"text-align: right;\">1.52859e6</td><td style = \"text-align: right;\">0.0</td><td style = \"text-align: right;\">0.0</td><td style = \"text-align: right;\">764297.0</td><td style = \"text-align: right;\">764297.0</td><td style = \"text-align: right;\">764250.0</td><td style = \"text-align: right;\">764250.0</td><td style = \"text-align: right;\">66.4234</td><td style = \"text-align: right;\">0.0</td><td style = \"text-align: right;\">66.4234</td><td style = \"text-align: right;\">0.0</td><td style = \"text-align: right;\">1</td></tr><tr><td class = \"rowNumber\" style = \"font-weight: bold; text-align: right;\">110768</td><td style = \"text-align: right;\">0.0</td><td style = \"text-align: right;\">0.0</td><td style = \"text-align: right;\">0.0</td><td style = \"text-align: right;\">0.0</td><td style = \"text-align: right;\">0.0</td><td style = \"text-align: right;\">0.0</td><td style = \"text-align: right;\">0.0</td><td style = \"text-align: right;\">0.0</td><td style = \"text-align: right;\">0.0</td><td style = \"text-align: right;\">0.0</td><td style = \"text-align: right;\">0.0</td><td style = \"text-align: right;\">0.0</td><td style = \"text-align: right;\">0.0</td><td style = \"text-align: right;\">0.0</td><td style = \"text-align: right;\">0.0</td><td style = \"text-align: right;\">0.0</td><td style = \"text-align: right;\">0.0</td><td style = \"text-align: right;\">0.0</td><td style = \"text-align: right;\">0.0</td><td style = \"text-align: right;\">0.0</td><td style = \"text-align: right;\">1</td></tr><tr><td class = \"rowNumber\" style = \"font-weight: bold; text-align: right;\">110769</td><td style = \"text-align: right;\">0.0</td><td style = \"text-align: right;\">0.0</td><td style = \"text-align: right;\">0.0</td><td style = \"text-align: right;\">0.0</td><td style = \"text-align: right;\">0.0</td><td style = \"text-align: right;\">0.0</td><td style = \"text-align: right;\">0.0</td><td style = \"text-align: right;\">0.0</td><td style = \"text-align: right;\">0.0</td><td style = \"text-align: right;\">0.0</td><td style = \"text-align: right;\">0.0</td><td style = \"text-align: right;\">0.0</td><td style = \"text-align: right;\">0.0</td><td style = \"text-align: right;\">0.0</td><td style = \"text-align: right;\">0.0</td><td style = \"text-align: right;\">0.0</td><td style = \"text-align: right;\">0.0</td><td style = \"text-align: right;\">0.0</td><td style = \"text-align: right;\">0.0</td><td style = \"text-align: right;\">0.0</td><td style = \"text-align: right;\">1</td></tr></tbody></table></div>"
      ],
      "text/latex": [
       "\\begin{tabular}{r|cccccccc}\n",
       "\t& idle.tot & flow\\_iat.tot & fwd\\_iat.tot & active.avg & idle.max & flow\\_iat.max & fwd\\_iat.max & \\\\\n",
       "\t\\hline\n",
       "\t& Float64 & Float64 & Float64 & Float64 & Float64 & Float64 & Float64 & \\\\\n",
       "\t\\hline\n",
       "\t1 & 1.61564e7 & 1.63871e7 & 1.63871e7 & 1.15348e5 & 1.61564e7 & 1.61564e7 & 1.61564e7 & $\\dots$ \\\\\n",
       "\t2 & 1.15539e7 & 1.17865e7 & 1.17865e7 & 1.16319e5 & 1.15539e7 & 1.15539e7 & 1.15539e7 & $\\dots$ \\\\\n",
       "\t3 & 0.0 & 4.60684e6 & 4.60684e6 & 4.60684e6 & 0.0 & 4.36923e6 & 4.36923e6 & $\\dots$ \\\\\n",
       "\t4 & 0.0 & 2.2016e6 & 2.2016e6 & 2.2016e6 & 0.0 & 1.96541e6 & 1.96541e6 & $\\dots$ \\\\\n",
       "\t5 & 8.82731e6 & 9.29146e6 & 9.29146e6 & 2.32073e5 & 8.82731e6 & 8.82731e6 & 8.82731e6 & $\\dots$ \\\\\n",
       "\t6 & 0.0 & 2.20019e6 & 2.20019e6 & 2.20019e6 & 0.0 & 1.96458e6 & 1.96458e6 & $\\dots$ \\\\\n",
       "\t7 & 1.12418e7 & 1.14772e7 & 1.14772e7 & 117740.0 & 1.12418e7 & 1.12418e7 & 1.12418e7 & $\\dots$ \\\\\n",
       "\t8 & 1.29832e7 & 1.32144e7 & 1.32144e7 & 1.15593e5 & 1.29832e7 & 1.29832e7 & 1.29832e7 & $\\dots$ \\\\\n",
       "\t9 & 6.37283e6 & 6.60661e6 & 6.60661e6 & 1.16891e5 & 6.37283e6 & 6.37283e6 & 6.37283e6 & $\\dots$ \\\\\n",
       "\t10 & 0.0 & 4.40063e6 & 4.40063e6 & 4.40063e6 & 0.0 & 4.1681e6 & 4.1681e6 & $\\dots$ \\\\\n",
       "\t11 & 1.30324e7 & 1.32623e7 & 1.32623e7 & 114930.0 & 1.30324e7 & 1.30324e7 & 1.30324e7 & $\\dots$ \\\\\n",
       "\t12 & 0.0 & 2.19493e6 & 2.19493e6 & 2.19493e6 & 0.0 & 1.96489e6 & 1.96489e6 & $\\dots$ \\\\\n",
       "\t13 & 1.57327e7 & 1.62471e7 & 1.62471e7 & 257189.0 & 1.57327e7 & 1.57327e7 & 1.57327e7 & $\\dots$ \\\\\n",
       "\t14 & 6.81095e6 & 7.04174e6 & 7.04174e6 & 1.15396e5 & 6.81095e6 & 6.81095e6 & 6.81095e6 & $\\dots$ \\\\\n",
       "\t15 & 0.0 & 4.83553e6 & 4.83553e6 & 4.83553e6 & 0.0 & 4.60217e6 & 4.60217e6 & $\\dots$ \\\\\n",
       "\t16 & 1.74562e7 & 1.76894e7 & 1.76894e7 & 1.16607e5 & 1.74562e7 & 1.74562e7 & 1.74562e7 & $\\dots$ \\\\\n",
       "\t17 & 1.52376e7 & 1.54708e7 & 1.54708e7 & 1.16587e5 & 1.52376e7 & 1.52376e7 & 1.52376e7 & $\\dots$ \\\\\n",
       "\t18 & 0.0 & 4.39974e6 & 4.39974e6 & 4.39974e6 & 0.0 & 4.16562e6 & 4.16562e6 & $\\dots$ \\\\\n",
       "\t19 & 1.85759e7 & 1.88079e7 & 1.88079e7 & 1.1602e5 & 1.85759e7 & 1.85759e7 & 1.85759e7 & $\\dots$ \\\\\n",
       "\t20 & 1.08788e7 & 1.11102e7 & 1.11102e7 & 115711.0 & 1.08788e7 & 1.08788e7 & 1.08788e7 & $\\dots$ \\\\\n",
       "\t21 & 8.65201e6 & 8.88532e6 & 8.88532e6 & 1.16653e5 & 8.65201e6 & 8.65201e6 & 8.65201e6 & $\\dots$ \\\\\n",
       "\t22 & 1.37181e7 & 1.39492e7 & 1.39492e7 & 115566.0 & 1.37181e7 & 1.37181e7 & 1.37181e7 & $\\dots$ \\\\\n",
       "\t23 & 0.0 & 2.43073e6 & 2.43073e6 & 2.43073e6 & 0.0 & 2.19322e6 & 2.19322e6 & $\\dots$ \\\\\n",
       "\t24 & 1.31944e7 & 1.34263e7 & 1.34263e7 & 1.15954e5 & 1.31944e7 & 1.31944e7 & 1.31944e7 & $\\dots$ \\\\\n",
       "\t$\\dots$ & $\\dots$ & $\\dots$ & $\\dots$ & $\\dots$ & $\\dots$ & $\\dots$ & $\\dots$ &  \\\\\n",
       "\\end{tabular}\n"
      ],
      "text/plain": [
       "\u001b[1m110769×21 DataFrame\u001b[0m\n",
       "\u001b[1m    Row \u001b[0m│\u001b[1m idle.tot  \u001b[0m\u001b[1m flow_iat.tot \u001b[0m\u001b[1m fwd_iat.tot \u001b[0m\u001b[1m active.avg     \u001b[0m\u001b[1m idle.max  \u001b[0m\u001b[1m flo\u001b[0m ⋯\n",
       "        │\u001b[90m Float64   \u001b[0m\u001b[90m Float64      \u001b[0m\u001b[90m Float64     \u001b[0m\u001b[90m Float64        \u001b[0m\u001b[90m Float64   \u001b[0m\u001b[90m Flo\u001b[0m ⋯\n",
       "────────┼───────────────────────────────────────────────────────────────────────\n",
       "      1 │ 1.61564e7     1.63871e7    1.63871e7       1.15348e5  1.61564e7      ⋯\n",
       "      2 │ 1.15539e7     1.17865e7    1.17865e7       1.16319e5  1.15539e7\n",
       "      3 │ 0.0           4.60684e6    4.60684e6       4.60684e6  0.0\n",
       "      4 │ 0.0           2.2016e6     2.2016e6        2.2016e6   0.0\n",
       "      5 │ 8.82731e6     9.29146e6    9.29146e6       2.32073e5  8.82731e6      ⋯\n",
       "      6 │ 0.0           2.20019e6    2.20019e6       2.20019e6  0.0\n",
       "      7 │ 1.12418e7     1.14772e7    1.14772e7  117740.0        1.12418e7\n",
       "      8 │ 1.29832e7     1.32144e7    1.32144e7       1.15593e5  1.29832e7\n",
       "   ⋮    │     ⋮           ⋮             ⋮             ⋮             ⋮          ⋱\n",
       " 110763 │ 0.0           1.52862e6    1.52862e6       1.52862e6  0.0        764 ⋯\n",
       " 110764 │ 0.0           1.52861e6    1.52861e6       1.52861e6  0.0\n",
       " 110765 │ 0.0           1.52856e6    1.52856e6       1.52856e6  0.0\n",
       " 110766 │ 0.0           1.52854e6    1.52854e6       1.52854e6  0.0\n",
       " 110767 │ 0.0           1.52859e6    1.52859e6       1.52859e6  0.0        764 ⋯\n",
       " 110768 │ 0.0           0.0          0.0             0.0        0.0\n",
       " 110769 │ 0.0           0.0          0.0             0.0        0.0\n",
       "\u001b[36m                                              16 columns and 110754 rows omitted\u001b[0m"
      ]
     },
     "metadata": {},
     "output_type": "display_data"
    }
   ],
   "source": [
    "# read the CSV file\n",
    "df = CSV.read(\"hikari.csv\", DataFrame)\n",
    "\n",
    "df = select(df, [:\"idle.tot\", :\"flow_iat.tot\", :\"fwd_iat.tot\", :\"active.avg\", :\"idle.max\", :\"flow_iat.max\", :\"fwd_iat.max\", :\"active.max\", :\"idle.avg\", :\"active.tot\", :\"bwd_iat.max\", :\"idle.min\", :\"flow_iat.avg\", :\"fwd_iat.avg\", :\"flow_iat.min\", :\"fwd_iat.min\", :\"fwd_iat.std\", :\"bwd_iat.std\", :\"flow_iat.std\", :\"bwd_iat.avg\", :\"Label\"])\n",
    "\n",
    "\n",
    "\n",
    "train_ratio = 0.8\n",
    "test_ratio = 1.0 - train_ratio\n",
    "\n",
    "nrows = nrow(df)\n",
    "train_indices = randsubseq(1:nrows, train_ratio)\n",
    "test_indices = setdiff(1:nrows, train_indices)\n",
    "\n",
    "train_df = df[train_indices, :]\n",
    "test_df = df[test_indices, :]"
   ]
  },
  {
   "cell_type": "code",
   "execution_count": 27,
   "metadata": {},
   "outputs": [
    {
     "name": "stderr",
     "output_type": "stream",
     "text": [
      "WARNING: redefinition of constant Perceptron. This may fail, cause incorrect answers, or produce other errors.\n"
     ]
    },
    {
     "data": {
      "text/plain": [
       "PyObject <class 'sklearn.linear_model._perceptron.Perceptron'>"
      ]
     },
     "metadata": {},
     "output_type": "display_data"
    }
   ],
   "source": [
    "using ScikitLearn\n",
    "@sk_import linear_model:Perceptron"
   ]
  },
  {
   "cell_type": "code",
   "execution_count": 28,
   "metadata": {},
   "outputs": [
    {
     "data": {
      "text/plain": [
       "110769-element Vector{Int64}:\n",
       " 1\n",
       " 1\n",
       " 1\n",
       " 1\n",
       " 1\n",
       " 1\n",
       " 1\n",
       " 1\n",
       " 1\n",
       " 1\n",
       " ⋮\n",
       " 1\n",
       " 1\n",
       " 1\n",
       " 1\n",
       " 1\n",
       " 1\n",
       " 1\n",
       " 1\n",
       " 1"
      ]
     },
     "metadata": {},
     "output_type": "display_data"
    }
   ],
   "source": [
    "# converting into vectors\n",
    "P_X_train = Matrix(select(train_df, Not(:Label)))\n",
    "\n",
    "P_y_train = Vector(train_df.Label)\n",
    "\n",
    "P_X_test = Matrix(select(test_df, Not(:Label)))\n",
    "\n",
    "P_y_test = Vector(test_df.Label)"
   ]
  },
  {
   "cell_type": "code",
   "execution_count": 29,
   "metadata": {},
   "outputs": [
    {
     "data": {
      "text/html": [
       "<style>#sk-container-id-21 {color: black;background-color: white;}#sk-container-id-21 pre{padding: 0;}#sk-container-id-21 div.sk-toggleable {background-color: white;}#sk-container-id-21 label.sk-toggleable__label {cursor: pointer;display: block;width: 100%;margin-bottom: 0;padding: 0.3em;box-sizing: border-box;text-align: center;}#sk-container-id-21 label.sk-toggleable__label-arrow:before {content: \"▸\";float: left;margin-right: 0.25em;color: #696969;}#sk-container-id-21 label.sk-toggleable__label-arrow:hover:before {color: black;}#sk-container-id-21 div.sk-estimator:hover label.sk-toggleable__label-arrow:before {color: black;}#sk-container-id-21 div.sk-toggleable__content {max-height: 0;max-width: 0;overflow: hidden;text-align: left;background-color: #f0f8ff;}#sk-container-id-21 div.sk-toggleable__content pre {margin: 0.2em;color: black;border-radius: 0.25em;background-color: #f0f8ff;}#sk-container-id-21 input.sk-toggleable__control:checked~div.sk-toggleable__content {max-height: 200px;max-width: 100%;overflow: auto;}#sk-container-id-21 input.sk-toggleable__control:checked~label.sk-toggleable__label-arrow:before {content: \"▾\";}#sk-container-id-21 div.sk-estimator input.sk-toggleable__control:checked~label.sk-toggleable__label {background-color: #d4ebff;}#sk-container-id-21 div.sk-label input.sk-toggleable__control:checked~label.sk-toggleable__label {background-color: #d4ebff;}#sk-container-id-21 input.sk-hidden--visually {border: 0;clip: rect(1px 1px 1px 1px);clip: rect(1px, 1px, 1px, 1px);height: 1px;margin: -1px;overflow: hidden;padding: 0;position: absolute;width: 1px;}#sk-container-id-21 div.sk-estimator {font-family: monospace;background-color: #f0f8ff;border: 1px dotted black;border-radius: 0.25em;box-sizing: border-box;margin-bottom: 0.5em;}#sk-container-id-21 div.sk-estimator:hover {background-color: #d4ebff;}#sk-container-id-21 div.sk-parallel-item::after {content: \"\";width: 100%;border-bottom: 1px solid gray;flex-grow: 1;}#sk-container-id-21 div.sk-label:hover label.sk-toggleable__label {background-color: #d4ebff;}#sk-container-id-21 div.sk-serial::before {content: \"\";position: absolute;border-left: 1px solid gray;box-sizing: border-box;top: 0;bottom: 0;left: 50%;z-index: 0;}#sk-container-id-21 div.sk-serial {display: flex;flex-direction: column;align-items: center;background-color: white;padding-right: 0.2em;padding-left: 0.2em;position: relative;}#sk-container-id-21 div.sk-item {position: relative;z-index: 1;}#sk-container-id-21 div.sk-parallel {display: flex;align-items: stretch;justify-content: center;background-color: white;position: relative;}#sk-container-id-21 div.sk-item::before, #sk-container-id-21 div.sk-parallel-item::before {content: \"\";position: absolute;border-left: 1px solid gray;box-sizing: border-box;top: 0;bottom: 0;left: 50%;z-index: -1;}#sk-container-id-21 div.sk-parallel-item {display: flex;flex-direction: column;z-index: 1;position: relative;background-color: white;}#sk-container-id-21 div.sk-parallel-item:first-child::after {align-self: flex-end;width: 50%;}#sk-container-id-21 div.sk-parallel-item:last-child::after {align-self: flex-start;width: 50%;}#sk-container-id-21 div.sk-parallel-item:only-child::after {width: 0;}#sk-container-id-21 div.sk-dashed-wrapped {border: 1px dashed gray;margin: 0 0.4em 0.5em 0.4em;box-sizing: border-box;padding-bottom: 0.4em;background-color: white;}#sk-container-id-21 div.sk-label label {font-family: monospace;font-weight: bold;display: inline-block;line-height: 1.2em;}#sk-container-id-21 div.sk-label-container {text-align: center;}#sk-container-id-21 div.sk-container {/* jupyter's `normalize.less` sets `[hidden] { display: none; }` but bootstrap.min.css set `[hidden] { display: none !important; }` so we also need the `!important` here to be able to override the default hidden behavior on the sphinx rendered scikit-learn.org. See: https://github.com/scikit-learn/scikit-learn/issues/21755 */display: inline-block !important;position: relative;}#sk-container-id-21 div.sk-text-repr-fallback {display: none;}</style><div id=\"sk-container-id-21\" class=\"sk-top-container\"><div class=\"sk-text-repr-fallback\"><pre>Perceptron(random_state=30)</pre><b>In a Jupyter environment, please rerun this cell to show the HTML representation or trust the notebook. <br />On GitHub, the HTML representation is unable to render, please try loading this page with nbviewer.org.</b></div><div class=\"sk-container\" hidden><div class=\"sk-item\"><div class=\"sk-estimator sk-toggleable\"><input class=\"sk-toggleable__control sk-hidden--visually\" id=\"sk-estimator-id-21\" type=\"checkbox\" checked><label for=\"sk-estimator-id-21\" class=\"sk-toggleable__label sk-toggleable__label-arrow\">Perceptron</label><div class=\"sk-toggleable__content\"><pre>Perceptron(random_state=30)</pre></div></div></div></div></div>"
      ],
      "text/plain": [
       "PyObject Perceptron(random_state=30)"
      ]
     },
     "metadata": {},
     "output_type": "display_data"
    }
   ],
   "source": [
    "# Create an Perceptron\n",
    "perceptron_model = Perceptron(random_state=30)"
   ]
  },
  {
   "cell_type": "code",
   "execution_count": 30,
   "metadata": {},
   "outputs": [
    {
     "data": {
      "text/html": [
       "<style>#sk-container-id-24 {color: black;background-color: white;}#sk-container-id-24 pre{padding: 0;}#sk-container-id-24 div.sk-toggleable {background-color: white;}#sk-container-id-24 label.sk-toggleable__label {cursor: pointer;display: block;width: 100%;margin-bottom: 0;padding: 0.3em;box-sizing: border-box;text-align: center;}#sk-container-id-24 label.sk-toggleable__label-arrow:before {content: \"▸\";float: left;margin-right: 0.25em;color: #696969;}#sk-container-id-24 label.sk-toggleable__label-arrow:hover:before {color: black;}#sk-container-id-24 div.sk-estimator:hover label.sk-toggleable__label-arrow:before {color: black;}#sk-container-id-24 div.sk-toggleable__content {max-height: 0;max-width: 0;overflow: hidden;text-align: left;background-color: #f0f8ff;}#sk-container-id-24 div.sk-toggleable__content pre {margin: 0.2em;color: black;border-radius: 0.25em;background-color: #f0f8ff;}#sk-container-id-24 input.sk-toggleable__control:checked~div.sk-toggleable__content {max-height: 200px;max-width: 100%;overflow: auto;}#sk-container-id-24 input.sk-toggleable__control:checked~label.sk-toggleable__label-arrow:before {content: \"▾\";}#sk-container-id-24 div.sk-estimator input.sk-toggleable__control:checked~label.sk-toggleable__label {background-color: #d4ebff;}#sk-container-id-24 div.sk-label input.sk-toggleable__control:checked~label.sk-toggleable__label {background-color: #d4ebff;}#sk-container-id-24 input.sk-hidden--visually {border: 0;clip: rect(1px 1px 1px 1px);clip: rect(1px, 1px, 1px, 1px);height: 1px;margin: -1px;overflow: hidden;padding: 0;position: absolute;width: 1px;}#sk-container-id-24 div.sk-estimator {font-family: monospace;background-color: #f0f8ff;border: 1px dotted black;border-radius: 0.25em;box-sizing: border-box;margin-bottom: 0.5em;}#sk-container-id-24 div.sk-estimator:hover {background-color: #d4ebff;}#sk-container-id-24 div.sk-parallel-item::after {content: \"\";width: 100%;border-bottom: 1px solid gray;flex-grow: 1;}#sk-container-id-24 div.sk-label:hover label.sk-toggleable__label {background-color: #d4ebff;}#sk-container-id-24 div.sk-serial::before {content: \"\";position: absolute;border-left: 1px solid gray;box-sizing: border-box;top: 0;bottom: 0;left: 50%;z-index: 0;}#sk-container-id-24 div.sk-serial {display: flex;flex-direction: column;align-items: center;background-color: white;padding-right: 0.2em;padding-left: 0.2em;position: relative;}#sk-container-id-24 div.sk-item {position: relative;z-index: 1;}#sk-container-id-24 div.sk-parallel {display: flex;align-items: stretch;justify-content: center;background-color: white;position: relative;}#sk-container-id-24 div.sk-item::before, #sk-container-id-24 div.sk-parallel-item::before {content: \"\";position: absolute;border-left: 1px solid gray;box-sizing: border-box;top: 0;bottom: 0;left: 50%;z-index: -1;}#sk-container-id-24 div.sk-parallel-item {display: flex;flex-direction: column;z-index: 1;position: relative;background-color: white;}#sk-container-id-24 div.sk-parallel-item:first-child::after {align-self: flex-end;width: 50%;}#sk-container-id-24 div.sk-parallel-item:last-child::after {align-self: flex-start;width: 50%;}#sk-container-id-24 div.sk-parallel-item:only-child::after {width: 0;}#sk-container-id-24 div.sk-dashed-wrapped {border: 1px dashed gray;margin: 0 0.4em 0.5em 0.4em;box-sizing: border-box;padding-bottom: 0.4em;background-color: white;}#sk-container-id-24 div.sk-label label {font-family: monospace;font-weight: bold;display: inline-block;line-height: 1.2em;}#sk-container-id-24 div.sk-label-container {text-align: center;}#sk-container-id-24 div.sk-container {/* jupyter's `normalize.less` sets `[hidden] { display: none; }` but bootstrap.min.css set `[hidden] { display: none !important; }` so we also need the `!important` here to be able to override the default hidden behavior on the sphinx rendered scikit-learn.org. See: https://github.com/scikit-learn/scikit-learn/issues/21755 */display: inline-block !important;position: relative;}#sk-container-id-24 div.sk-text-repr-fallback {display: none;}</style><div id=\"sk-container-id-24\" class=\"sk-top-container\"><div class=\"sk-text-repr-fallback\"><pre>Perceptron(random_state=30)</pre><b>In a Jupyter environment, please rerun this cell to show the HTML representation or trust the notebook. <br />On GitHub, the HTML representation is unable to render, please try loading this page with nbviewer.org.</b></div><div class=\"sk-container\" hidden><div class=\"sk-item\"><div class=\"sk-estimator sk-toggleable\"><input class=\"sk-toggleable__control sk-hidden--visually\" id=\"sk-estimator-id-24\" type=\"checkbox\" checked><label for=\"sk-estimator-id-24\" class=\"sk-toggleable__label sk-toggleable__label-arrow\">Perceptron</label><div class=\"sk-toggleable__content\"><pre>Perceptron(random_state=30)</pre></div></div></div></div></div>"
      ],
      "text/plain": [
       "PyObject Perceptron(random_state=30)"
      ]
     },
     "metadata": {},
     "output_type": "display_data"
    }
   ],
   "source": [
    "# Fit the model to your data\n",
    "ScikitLearn.fit!(perceptron_model, P_X_train, P_y_train)"
   ]
  },
  {
   "cell_type": "code",
   "execution_count": 31,
   "metadata": {},
   "outputs": [
    {
     "name": "stdout",
     "output_type": "stream",
     "text": [
      "Accuracy: 0.9328602767922434\n",
      "Precision: NaN\n",
      "Recall: 0.0\n",
      "F1-Score: NaN\n"
     ]
    }
   ],
   "source": [
    "# Make predictions\n",
    "P_y_pred = ScikitLearn.predict(perceptron_model, P_X_test)\n",
    "\n",
    "\n",
    "#accuracy\n",
    "accuracy = mean(P_y_pred .== P_y_test)\n",
    "# Calculate True Positives (TP), True Negatives (TN), False Positives (FP), and False Negatives (FN)\n",
    "TP = sum((P_y_pred .== 1) .& (P_y_test .== 1))\n",
    "TN = sum((P_y_pred .== 0) .& (P_y_test .== 0))\n",
    "FP = sum((P_y_pred .== 1) .& (P_y_test .== 0))\n",
    "FN = sum((P_y_pred .== 0) .& (P_y_test .== 1))\n",
    "\n",
    "# Calculate precision, recall, and F1-score\n",
    "precision = TP / (TP + FP)\n",
    "recall = TP / (TP + FN)\n",
    "f1_score = 2 * (precision * recall) / (precision + recall)\n",
    "\n",
    "println(\"Accuracy: $accuracy\")\n",
    "println(\"Precision: $precision\")\n",
    "println(\"Recall: $recall\")\n",
    "println(\"F1-Score: $f1_score\")"
   ]
  },
  {
   "cell_type": "code",
   "execution_count": 32,
   "metadata": {},
   "outputs": [],
   "source": []
  }
 ],
 "metadata": {
  "kernelspec": {
   "display_name": "Julia 1.9.3",
   "language": "julia",
   "name": "julia-1.9"
  },
  "language_info": {
   "file_extension": ".jl",
   "mimetype": "application/julia",
   "name": "julia",
   "version": "1.9.3"
  }
 },
 "nbformat": 4,
 "nbformat_minor": 2
}
