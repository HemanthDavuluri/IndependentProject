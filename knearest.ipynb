{
 "cells": [
  {
   "cell_type": "code",
   "execution_count": 10,
   "metadata": {},
   "outputs": [],
   "source": [
    "using MLJ\n",
    "using ScikitLearn\n",
    "using Random, Statistics\n",
    "using CSV\n",
    "using DataFrames"
   ]
  },
  {
   "cell_type": "code",
   "execution_count": 11,
   "metadata": {},
   "outputs": [
    {
     "data": {
      "text/html": [
       "<div><div style = \"float: left;\"><span>111291×21 DataFrame</span></div><div style = \"float: right;\"><span style = \"font-style: italic;\">111266 rows omitted</span></div><div style = \"clear: both;\"></div></div><div class = \"data-frame\" style = \"overflow-x: scroll;\"><table class = \"data-frame\" style = \"margin-bottom: 6px;\"><thead><tr class = \"header\"><th class = \"rowNumber\" style = \"font-weight: bold; text-align: right;\">Row</th><th style = \"text-align: left;\">idle.tot</th><th style = \"text-align: left;\">flow_iat.tot</th><th style = \"text-align: left;\">fwd_iat.tot</th><th style = \"text-align: left;\">active.avg</th><th style = \"text-align: left;\">idle.max</th><th style = \"text-align: left;\">flow_iat.max</th><th style = \"text-align: left;\">fwd_iat.max</th><th style = \"text-align: left;\">active.max</th><th style = \"text-align: left;\">idle.avg</th><th style = \"text-align: left;\">active.tot</th><th style = \"text-align: left;\">bwd_iat.max</th><th style = \"text-align: left;\">idle.min</th><th style = \"text-align: left;\">flow_iat.avg</th><th style = \"text-align: left;\">fwd_iat.avg</th><th style = \"text-align: left;\">flow_iat.min</th><th style = \"text-align: left;\">fwd_iat.min</th><th style = \"text-align: left;\">fwd_iat.std</th><th style = \"text-align: left;\">bwd_iat.std</th><th style = \"text-align: left;\">flow_iat.std</th><th style = \"text-align: left;\">bwd_iat.avg</th><th style = \"text-align: left;\">Label</th></tr><tr class = \"subheader headerLastRow\"><th class = \"rowNumber\" style = \"font-weight: bold; text-align: right;\"></th><th title = \"Float64\" style = \"text-align: left;\">Float64</th><th title = \"Float64\" style = \"text-align: left;\">Float64</th><th title = \"Float64\" style = \"text-align: left;\">Float64</th><th title = \"Float64\" style = \"text-align: left;\">Float64</th><th title = \"Float64\" style = \"text-align: left;\">Float64</th><th title = \"Float64\" style = \"text-align: left;\">Float64</th><th title = \"Float64\" style = \"text-align: left;\">Float64</th><th title = \"Float64\" style = \"text-align: left;\">Float64</th><th title = \"Float64\" style = \"text-align: left;\">Float64</th><th title = \"Float64\" style = \"text-align: left;\">Float64</th><th title = \"Float64\" style = \"text-align: left;\">Float64</th><th title = \"Float64\" style = \"text-align: left;\">Float64</th><th title = \"Float64\" style = \"text-align: left;\">Float64</th><th title = \"Float64\" style = \"text-align: left;\">Float64</th><th title = \"Float64\" style = \"text-align: left;\">Float64</th><th title = \"Float64\" style = \"text-align: left;\">Float64</th><th title = \"Float64\" style = \"text-align: left;\">Float64</th><th title = \"Float64\" style = \"text-align: left;\">Float64</th><th title = \"Float64\" style = \"text-align: left;\">Float64</th><th title = \"Float64\" style = \"text-align: left;\">Float64</th><th title = \"Int64\" style = \"text-align: left;\">Int64</th></tr></thead><tbody><tr><td class = \"rowNumber\" style = \"font-weight: bold; text-align: right;\">1</td><td style = \"text-align: right;\">0.0</td><td style = \"text-align: right;\">2.2076e6</td><td style = \"text-align: right;\">2.2076e6</td><td style = \"text-align: right;\">2.2076e6</td><td style = \"text-align: right;\">0.0</td><td style = \"text-align: right;\">1.96376e6</td><td style = \"text-align: right;\">1.96376e6</td><td style = \"text-align: right;\">2.2076e6</td><td style = \"text-align: right;\">0.0</td><td style = \"text-align: right;\">2.2076e6</td><td style = \"text-align: right;\">2.03293e6</td><td style = \"text-align: right;\">0.0</td><td style = \"text-align: right;\">78843.0</td><td style = \"text-align: right;\">1.57686e5</td><td style = \"text-align: right;\">7.86781</td><td style = \"text-align: right;\">18.1198</td><td style = \"text-align: right;\">5.20505e5</td><td style = \"text-align: right;\">5.60627e5</td><td style = \"text-align: right;\">3.69638e5</td><td style = \"text-align: right;\">1.67535e5</td><td style = \"text-align: right;\">1</td></tr><tr><td class = \"rowNumber\" style = \"font-weight: bold; text-align: right;\">2</td><td style = \"text-align: right;\">1.19681e7</td><td style = \"text-align: right;\">1.22034e7</td><td style = \"text-align: right;\">1.22034e7</td><td style = \"text-align: right;\">117619.0</td><td style = \"text-align: right;\">1.19681e7</td><td style = \"text-align: right;\">1.19681e7</td><td style = \"text-align: right;\">1.19681e7</td><td style = \"text-align: right;\">2.06325e5</td><td style = \"text-align: right;\">1.19681e7</td><td style = \"text-align: right;\">2.35238e5</td><td style = \"text-align: right;\">1.20367e7</td><td style = \"text-align: right;\">1.19681e7</td><td style = \"text-align: right;\">4.69361e5</td><td style = \"text-align: right;\">9.38722e5</td><td style = \"text-align: right;\">15.0204</td><td style = \"text-align: right;\">36.0012</td><td style = \"text-align: right;\">3.31403e6</td><td style = \"text-align: right;\">3.47111e6</td><td style = \"text-align: right;\">2.34534e6</td><td style = \"text-align: right;\">1.01457e6</td><td style = \"text-align: right;\">1</td></tr><tr><td class = \"rowNumber\" style = \"font-weight: bold; text-align: right;\">3</td><td style = \"text-align: right;\">1.58484e7</td><td style = \"text-align: right;\">1.60825e7</td><td style = \"text-align: right;\">1.60825e7</td><td style = \"text-align: right;\">1.17077e5</td><td style = \"text-align: right;\">1.58484e7</td><td style = \"text-align: right;\">1.58484e7</td><td style = \"text-align: right;\">1.58484e7</td><td style = \"text-align: right;\">205157.0</td><td style = \"text-align: right;\">1.58484e7</td><td style = \"text-align: right;\">234153.0</td><td style = \"text-align: right;\">1.59166e7</td><td style = \"text-align: right;\">1.58484e7</td><td style = \"text-align: right;\">5.95649e5</td><td style = \"text-align: right;\">1.23712e6</td><td style = \"text-align: right;\">8.10623</td><td style = \"text-align: right;\">33.1402</td><td style = \"text-align: right;\">4.39021e6</td><td style = \"text-align: right;\">4.41134e6</td><td style = \"text-align: right;\">3.04832e6</td><td style = \"text-align: right;\">1.23482e6</td><td style = \"text-align: right;\">1</td></tr><tr><td class = \"rowNumber\" style = \"font-weight: bold; text-align: right;\">4</td><td style = \"text-align: right;\">1.37657e7</td><td style = \"text-align: right;\">1.40043e7</td><td style = \"text-align: right;\">1.40043e7</td><td style = \"text-align: right;\">1.19272e5</td><td style = \"text-align: right;\">1.37657e7</td><td style = \"text-align: right;\">1.37657e7</td><td style = \"text-align: right;\">1.37657e7</td><td style = \"text-align: right;\">208838.0</td><td style = \"text-align: right;\">1.37657e7</td><td style = \"text-align: right;\">2.38545e5</td><td style = \"text-align: right;\">1.38346e7</td><td style = \"text-align: right;\">1.37657e7</td><td style = \"text-align: right;\">5.38626e5</td><td style = \"text-align: right;\">1.07725e6</td><td style = \"text-align: right;\">6.91414</td><td style = \"text-align: right;\">19.7887</td><td style = \"text-align: right;\">3.8125e6</td><td style = \"text-align: right;\">3.99004e6</td><td style = \"text-align: right;\">2.69784e6</td><td style = \"text-align: right;\">1.16455e6</td><td style = \"text-align: right;\">1</td></tr><tr><td class = \"rowNumber\" style = \"font-weight: bold; text-align: right;\">5</td><td style = \"text-align: right;\">0.0</td><td style = \"text-align: right;\">4.88966e6</td><td style = \"text-align: right;\">4.88966e6</td><td style = \"text-align: right;\">4.88966e6</td><td style = \"text-align: right;\">0.0</td><td style = \"text-align: right;\">4.42115e6</td><td style = \"text-align: right;\">4.42115e6</td><td style = \"text-align: right;\">4.88966e6</td><td style = \"text-align: right;\">0.0</td><td style = \"text-align: right;\">4.88966e6</td><td style = \"text-align: right;\">4.48944e6</td><td style = \"text-align: right;\">0.0</td><td style = \"text-align: right;\">1.88064e5</td><td style = \"text-align: right;\">3.76128e5</td><td style = \"text-align: right;\">10.9673</td><td style = \"text-align: right;\">25.034</td><td style = \"text-align: right;\">1.2184e6</td><td style = \"text-align: right;\">1.28814e6</td><td style = \"text-align: right;\">8.64762e5</td><td style = \"text-align: right;\">4.04992e5</td><td style = \"text-align: right;\">1</td></tr><tr><td class = \"rowNumber\" style = \"font-weight: bold; text-align: right;\">6</td><td style = \"text-align: right;\">1.10432e7</td><td style = \"text-align: right;\">1.12768e7</td><td style = \"text-align: right;\">1.12768e7</td><td style = \"text-align: right;\">1.16798e5</td><td style = \"text-align: right;\">1.10432e7</td><td style = \"text-align: right;\">1.10432e7</td><td style = \"text-align: right;\">1.10432e7</td><td style = \"text-align: right;\">204556.0</td><td style = \"text-align: right;\">1.10432e7</td><td style = \"text-align: right;\">2.33596e5</td><td style = \"text-align: right;\">1.1112e7</td><td style = \"text-align: right;\">1.10432e7</td><td style = \"text-align: right;\">4.33722e5</td><td style = \"text-align: right;\">8.67444e5</td><td style = \"text-align: right;\">13.8283</td><td style = \"text-align: right;\">18.1198</td><td style = \"text-align: right;\">3.05754e6</td><td style = \"text-align: right;\">3.20423e6</td><td style = \"text-align: right;\">2.16395e6</td><td style = \"text-align: right;\">9.37251e5</td><td style = \"text-align: right;\">1</td></tr><tr><td class = \"rowNumber\" style = \"font-weight: bold; text-align: right;\">7</td><td style = \"text-align: right;\">0.0</td><td style = \"text-align: right;\">2.19576e6</td><td style = \"text-align: right;\">2.19576e6</td><td style = \"text-align: right;\">2.19576e6</td><td style = \"text-align: right;\">0.0</td><td style = \"text-align: right;\">1.96598e6</td><td style = \"text-align: right;\">1.96598e6</td><td style = \"text-align: right;\">2.19576e6</td><td style = \"text-align: right;\">0.0</td><td style = \"text-align: right;\">2.19576e6</td><td style = \"text-align: right;\">2.03391e6</td><td style = \"text-align: right;\">0.0</td><td style = \"text-align: right;\">81324.3</td><td style = \"text-align: right;\">1.68904e5</td><td style = \"text-align: right;\">9.05991</td><td style = \"text-align: right;\">35.0475</td><td style = \"text-align: right;\">5.40555e5</td><td style = \"text-align: right;\">5.61172e5</td><td style = \"text-align: right;\">3.76866e5</td><td style = \"text-align: right;\">1.66685e5</td><td style = \"text-align: right;\">1</td></tr><tr><td class = \"rowNumber\" style = \"font-weight: bold; text-align: right;\">8</td><td style = \"text-align: right;\">0.0</td><td style = \"text-align: right;\">4.60684e6</td><td style = \"text-align: right;\">4.60684e6</td><td style = \"text-align: right;\">4.60684e6</td><td style = \"text-align: right;\">0.0</td><td style = \"text-align: right;\">4.36923e6</td><td style = \"text-align: right;\">4.36923e6</td><td style = \"text-align: right;\">4.60684e6</td><td style = \"text-align: right;\">0.0</td><td style = \"text-align: right;\">4.60684e6</td><td style = \"text-align: right;\">4.43806e6</td><td style = \"text-align: right;\">0.0</td><td style = \"text-align: right;\">1.77186e5</td><td style = \"text-align: right;\">3.54373e5</td><td style = \"text-align: right;\">7.86781</td><td style = \"text-align: right;\">17.8814</td><td style = \"text-align: right;\">1.2066e6</td><td style = \"text-align: right;\">1.27757e6</td><td style = \"text-align: right;\">855112.0</td><td style = \"text-align: right;\">3.81422e5</td><td style = \"text-align: right;\">1</td></tr><tr><td class = \"rowNumber\" style = \"font-weight: bold; text-align: right;\">9</td><td style = \"text-align: right;\">1.52431e7</td><td style = \"text-align: right;\">1.54795e7</td><td style = \"text-align: right;\">1.54795e7</td><td style = \"text-align: right;\">1.18236e5</td><td style = \"text-align: right;\">1.52431e7</td><td style = \"text-align: right;\">1.52431e7</td><td style = \"text-align: right;\">1.52431e7</td><td style = \"text-align: right;\">2.0724e5</td><td style = \"text-align: right;\">1.52431e7</td><td style = \"text-align: right;\">2.36473e5</td><td style = \"text-align: right;\">1.53113e7</td><td style = \"text-align: right;\">1.52431e7</td><td style = \"text-align: right;\">5.95366e5</td><td style = \"text-align: right;\">1.19073e6</td><td style = \"text-align: right;\">11.9209</td><td style = \"text-align: right;\">27.895</td><td style = \"text-align: right;\">4.22228e6</td><td style = \"text-align: right;\">4.41639e6</td><td style = \"text-align: right;\">2.98758e6</td><td style = \"text-align: right;\">1.28745e6</td><td style = \"text-align: right;\">1</td></tr><tr><td class = \"rowNumber\" style = \"font-weight: bold; text-align: right;\">10</td><td style = \"text-align: right;\">8.57071e6</td><td style = \"text-align: right;\">8.80569e6</td><td style = \"text-align: right;\">8.80569e6</td><td style = \"text-align: right;\">1.17489e5</td><td style = \"text-align: right;\">8.57071e6</td><td style = \"text-align: right;\">8.57071e6</td><td style = \"text-align: right;\">8.57071e6</td><td style = \"text-align: right;\">2.05386e5</td><td style = \"text-align: right;\">8.57071e6</td><td style = \"text-align: right;\">2.34979e5</td><td style = \"text-align: right;\">8.64027e6</td><td style = \"text-align: right;\">8.57071e6</td><td style = \"text-align: right;\">3.3868e5</td><td style = \"text-align: right;\">6.77361e5</td><td style = \"text-align: right;\">22.8882</td><td style = \"text-align: right;\">35.0475</td><td style = \"text-align: right;\">2.3718e6</td><td style = \"text-align: right;\">2.49068e6</td><td style = \"text-align: right;\">1.67906e6</td><td style = \"text-align: right;\">7.31393e5</td><td style = \"text-align: right;\">1</td></tr><tr><td class = \"rowNumber\" style = \"font-weight: bold; text-align: right;\">11</td><td style = \"text-align: right;\">1.12702e7</td><td style = \"text-align: right;\">1.15163e7</td><td style = \"text-align: right;\">1.15163e7</td><td style = \"text-align: right;\">1.23031e5</td><td style = \"text-align: right;\">1.12702e7</td><td style = \"text-align: right;\">1.12702e7</td><td style = \"text-align: right;\">1.12702e7</td><td style = \"text-align: right;\">216713.0</td><td style = \"text-align: right;\">1.12702e7</td><td style = \"text-align: right;\">2.46061e5</td><td style = \"text-align: right;\">1.13395e7</td><td style = \"text-align: right;\">1.12702e7</td><td style = \"text-align: right;\">4.42934e5</td><td style = \"text-align: right;\">8.85867e5</td><td style = \"text-align: right;\">10.9673</td><td style = \"text-align: right;\">25.9876</td><td style = \"text-align: right;\">3.12023e6</td><td style = \"text-align: right;\">3.26958e6</td><td style = \"text-align: right;\">2.20838e6</td><td style = \"text-align: right;\">9.57289e5</td><td style = \"text-align: right;\">1</td></tr><tr><td class = \"rowNumber\" style = \"font-weight: bold; text-align: right;\">12</td><td style = \"text-align: right;\">8.82731e6</td><td style = \"text-align: right;\">9.29146e6</td><td style = \"text-align: right;\">9.29146e6</td><td style = \"text-align: right;\">2.32073e5</td><td style = \"text-align: right;\">8.82731e6</td><td style = \"text-align: right;\">8.82731e6</td><td style = \"text-align: right;\">8.82731e6</td><td style = \"text-align: right;\">4.34837e5</td><td style = \"text-align: right;\">8.82731e6</td><td style = \"text-align: right;\">4.64147e5</td><td style = \"text-align: right;\">8.8957e6</td><td style = \"text-align: right;\">8.82731e6</td><td style = \"text-align: right;\">3.57364e5</td><td style = \"text-align: right;\">7.14727e5</td><td style = \"text-align: right;\">14.0667</td><td style = \"text-align: right;\">29.0871</td><td style = \"text-align: right;\">2.4387e6</td><td style = \"text-align: right;\">2.55927e6</td><td style = \"text-align: right;\">1.7282e6</td><td style = \"text-align: right;\">7.71809e5</td><td style = \"text-align: right;\">1</td></tr><tr><td class = \"rowNumber\" style = \"font-weight: bold; text-align: right;\">13</td><td style = \"text-align: right;\">1.56569e7</td><td style = \"text-align: right;\">1.58891e7</td><td style = \"text-align: right;\">1.58891e7</td><td style = \"text-align: right;\">1.16101e5</td><td style = \"text-align: right;\">1.56569e7</td><td style = \"text-align: right;\">1.56569e7</td><td style = \"text-align: right;\">1.56569e7</td><td style = \"text-align: right;\">202275.0</td><td style = \"text-align: right;\">1.56569e7</td><td style = \"text-align: right;\">2.32201e5</td><td style = \"text-align: right;\">1.5726e7</td><td style = \"text-align: right;\">1.56569e7</td><td style = \"text-align: right;\">5.67468e5</td><td style = \"text-align: right;\">1.13494e6</td><td style = \"text-align: right;\">15.0204</td><td style = \"text-align: right;\">34.0939</td><td style = \"text-align: right;\">4.17979e6</td><td style = \"text-align: right;\">4.35852e6</td><td style = \"text-align: right;\">2.95728e6</td><td style = \"text-align: right;\">1.22002e6</td><td style = \"text-align: right;\">1</td></tr><tr><td style = \"text-align: right;\">&vellip;</td><td style = \"text-align: right;\">&vellip;</td><td style = \"text-align: right;\">&vellip;</td><td style = \"text-align: right;\">&vellip;</td><td style = \"text-align: right;\">&vellip;</td><td style = \"text-align: right;\">&vellip;</td><td style = \"text-align: right;\">&vellip;</td><td style = \"text-align: right;\">&vellip;</td><td style = \"text-align: right;\">&vellip;</td><td style = \"text-align: right;\">&vellip;</td><td style = \"text-align: right;\">&vellip;</td><td style = \"text-align: right;\">&vellip;</td><td style = \"text-align: right;\">&vellip;</td><td style = \"text-align: right;\">&vellip;</td><td style = \"text-align: right;\">&vellip;</td><td style = \"text-align: right;\">&vellip;</td><td style = \"text-align: right;\">&vellip;</td><td style = \"text-align: right;\">&vellip;</td><td style = \"text-align: right;\">&vellip;</td><td style = \"text-align: right;\">&vellip;</td><td style = \"text-align: right;\">&vellip;</td><td style = \"text-align: right;\">&vellip;</td></tr><tr><td class = \"rowNumber\" style = \"font-weight: bold; text-align: right;\">111280</td><td style = \"text-align: right;\">0.0</td><td style = \"text-align: right;\">1.52858e6</td><td style = \"text-align: right;\">1.52858e6</td><td style = \"text-align: right;\">1.52858e6</td><td style = \"text-align: right;\">0.0</td><td style = \"text-align: right;\">7.64311e5</td><td style = \"text-align: right;\">7.64311e5</td><td style = \"text-align: right;\">1.52858e6</td><td style = \"text-align: right;\">0.0</td><td style = \"text-align: right;\">1.52858e6</td><td style = \"text-align: right;\">0.0</td><td style = \"text-align: right;\">0.0</td><td style = \"text-align: right;\">764291.0</td><td style = \"text-align: right;\">764291.0</td><td style = \"text-align: right;\">764271.0</td><td style = \"text-align: right;\">764271.0</td><td style = \"text-align: right;\">28.3227</td><td style = \"text-align: right;\">0.0</td><td style = \"text-align: right;\">28.3227</td><td style = \"text-align: right;\">0.0</td><td style = \"text-align: right;\">1</td></tr><tr><td class = \"rowNumber\" style = \"font-weight: bold; text-align: right;\">111281</td><td style = \"text-align: right;\">0.0</td><td style = \"text-align: right;\">1.52865e6</td><td style = \"text-align: right;\">1.52865e6</td><td style = \"text-align: right;\">1.52865e6</td><td style = \"text-align: right;\">0.0</td><td style = \"text-align: right;\">764389.0</td><td style = \"text-align: right;\">764389.0</td><td style = \"text-align: right;\">1.52865e6</td><td style = \"text-align: right;\">0.0</td><td style = \"text-align: right;\">1.52865e6</td><td style = \"text-align: right;\">0.0</td><td style = \"text-align: right;\">0.0</td><td style = \"text-align: right;\">764325.0</td><td style = \"text-align: right;\">764325.0</td><td style = \"text-align: right;\">764261.0</td><td style = \"text-align: right;\">764261.0</td><td style = \"text-align: right;\">90.5314</td><td style = \"text-align: right;\">0.0</td><td style = \"text-align: right;\">90.5314</td><td style = \"text-align: right;\">0.0</td><td style = \"text-align: right;\">1</td></tr><tr><td class = \"rowNumber\" style = \"font-weight: bold; text-align: right;\">111282</td><td style = \"text-align: right;\">0.0</td><td style = \"text-align: right;\">1.52864e6</td><td style = \"text-align: right;\">1.52864e6</td><td style = \"text-align: right;\">1.52864e6</td><td style = \"text-align: right;\">0.0</td><td style = \"text-align: right;\">7.64373e5</td><td style = \"text-align: right;\">7.64373e5</td><td style = \"text-align: right;\">1.52864e6</td><td style = \"text-align: right;\">0.0</td><td style = \"text-align: right;\">1.52864e6</td><td style = \"text-align: right;\">0.0</td><td style = \"text-align: right;\">0.0</td><td style = \"text-align: right;\">7.64321e5</td><td style = \"text-align: right;\">7.64321e5</td><td style = \"text-align: right;\">7.64269e5</td><td style = \"text-align: right;\">7.64269e5</td><td style = \"text-align: right;\">73.5041</td><td style = \"text-align: right;\">0.0</td><td style = \"text-align: right;\">73.5041</td><td style = \"text-align: right;\">0.0</td><td style = \"text-align: right;\">1</td></tr><tr><td class = \"rowNumber\" style = \"font-weight: bold; text-align: right;\">111283</td><td style = \"text-align: right;\">0.0</td><td style = \"text-align: right;\">1.52858e6</td><td style = \"text-align: right;\">1.52858e6</td><td style = \"text-align: right;\">1.52858e6</td><td style = \"text-align: right;\">0.0</td><td style = \"text-align: right;\">764302.0</td><td style = \"text-align: right;\">764302.0</td><td style = \"text-align: right;\">1.52858e6</td><td style = \"text-align: right;\">0.0</td><td style = \"text-align: right;\">1.52858e6</td><td style = \"text-align: right;\">0.0</td><td style = \"text-align: right;\">0.0</td><td style = \"text-align: right;\">764291.0</td><td style = \"text-align: right;\">764291.0</td><td style = \"text-align: right;\">7.6428e5</td><td style = \"text-align: right;\">7.6428e5</td><td style = \"text-align: right;\">15.51</td><td style = \"text-align: right;\">0.0</td><td style = \"text-align: right;\">15.51</td><td style = \"text-align: right;\">0.0</td><td style = \"text-align: right;\">1</td></tr><tr><td class = \"rowNumber\" style = \"font-weight: bold; text-align: right;\">111284</td><td style = \"text-align: right;\">0.0</td><td style = \"text-align: right;\">1.5301e6</td><td style = \"text-align: right;\">1.5301e6</td><td style = \"text-align: right;\">1.5301e6</td><td style = \"text-align: right;\">0.0</td><td style = \"text-align: right;\">7.65705e5</td><td style = \"text-align: right;\">7.65705e5</td><td style = \"text-align: right;\">1.5301e6</td><td style = \"text-align: right;\">0.0</td><td style = \"text-align: right;\">1.5301e6</td><td style = \"text-align: right;\">0.0</td><td style = \"text-align: right;\">0.0</td><td style = \"text-align: right;\">7.65051e5</td><td style = \"text-align: right;\">7.65051e5</td><td style = \"text-align: right;\">764396.0</td><td style = \"text-align: right;\">764396.0</td><td style = \"text-align: right;\">925.713</td><td style = \"text-align: right;\">0.0</td><td style = \"text-align: right;\">925.713</td><td style = \"text-align: right;\">0.0</td><td style = \"text-align: right;\">1</td></tr><tr><td class = \"rowNumber\" style = \"font-weight: bold; text-align: right;\">111285</td><td style = \"text-align: right;\">0.0</td><td style = \"text-align: right;\">1.52864e6</td><td style = \"text-align: right;\">1.52864e6</td><td style = \"text-align: right;\">1.52864e6</td><td style = \"text-align: right;\">0.0</td><td style = \"text-align: right;\">764348.0</td><td style = \"text-align: right;\">764348.0</td><td style = \"text-align: right;\">1.52864e6</td><td style = \"text-align: right;\">0.0</td><td style = \"text-align: right;\">1.52864e6</td><td style = \"text-align: right;\">0.0</td><td style = \"text-align: right;\">0.0</td><td style = \"text-align: right;\">7.6432e5</td><td style = \"text-align: right;\">7.6432e5</td><td style = \"text-align: right;\">764293.0</td><td style = \"text-align: right;\">764293.0</td><td style = \"text-align: right;\">38.9437</td><td style = \"text-align: right;\">0.0</td><td style = \"text-align: right;\">38.9437</td><td style = \"text-align: right;\">0.0</td><td style = \"text-align: right;\">1</td></tr><tr><td class = \"rowNumber\" style = \"font-weight: bold; text-align: right;\">111286</td><td style = \"text-align: right;\">0.0</td><td style = \"text-align: right;\">1.52861e6</td><td style = \"text-align: right;\">1.52861e6</td><td style = \"text-align: right;\">1.52861e6</td><td style = \"text-align: right;\">0.0</td><td style = \"text-align: right;\">764334.0</td><td style = \"text-align: right;\">764334.0</td><td style = \"text-align: right;\">1.52861e6</td><td style = \"text-align: right;\">0.0</td><td style = \"text-align: right;\">1.52861e6</td><td style = \"text-align: right;\">0.0</td><td style = \"text-align: right;\">0.0</td><td style = \"text-align: right;\">7.64305e5</td><td style = \"text-align: right;\">7.64305e5</td><td style = \"text-align: right;\">764277.0</td><td style = \"text-align: right;\">764277.0</td><td style = \"text-align: right;\">40.2924</td><td style = \"text-align: right;\">0.0</td><td style = \"text-align: right;\">40.2924</td><td style = \"text-align: right;\">0.0</td><td style = \"text-align: right;\">1</td></tr><tr><td class = \"rowNumber\" style = \"font-weight: bold; text-align: right;\">111287</td><td style = \"text-align: right;\">0.0</td><td style = \"text-align: right;\">1.52864e6</td><td style = \"text-align: right;\">1.52864e6</td><td style = \"text-align: right;\">1.52864e6</td><td style = \"text-align: right;\">0.0</td><td style = \"text-align: right;\">7.64383e5</td><td style = \"text-align: right;\">7.64383e5</td><td style = \"text-align: right;\">1.52864e6</td><td style = \"text-align: right;\">0.0</td><td style = \"text-align: right;\">1.52864e6</td><td style = \"text-align: right;\">0.0</td><td style = \"text-align: right;\">0.0</td><td style = \"text-align: right;\">7.6432e5</td><td style = \"text-align: right;\">7.6432e5</td><td style = \"text-align: right;\">7.64258e5</td><td style = \"text-align: right;\">7.64258e5</td><td style = \"text-align: right;\">88.5084</td><td style = \"text-align: right;\">0.0</td><td style = \"text-align: right;\">88.5084</td><td style = \"text-align: right;\">0.0</td><td style = \"text-align: right;\">1</td></tr><tr><td class = \"rowNumber\" style = \"font-weight: bold; text-align: right;\">111288</td><td style = \"text-align: right;\">0.0</td><td style = \"text-align: right;\">1.52865e6</td><td style = \"text-align: right;\">1.52865e6</td><td style = \"text-align: right;\">1.52865e6</td><td style = \"text-align: right;\">0.0</td><td style = \"text-align: right;\">7.64435e5</td><td style = \"text-align: right;\">7.64435e5</td><td style = \"text-align: right;\">1.52865e6</td><td style = \"text-align: right;\">0.0</td><td style = \"text-align: right;\">1.52865e6</td><td style = \"text-align: right;\">0.0</td><td style = \"text-align: right;\">0.0</td><td style = \"text-align: right;\">764326.0</td><td style = \"text-align: right;\">764326.0</td><td style = \"text-align: right;\">7.64217e5</td><td style = \"text-align: right;\">7.64217e5</td><td style = \"text-align: right;\">153.92</td><td style = \"text-align: right;\">0.0</td><td style = \"text-align: right;\">153.92</td><td style = \"text-align: right;\">0.0</td><td style = \"text-align: right;\">1</td></tr><tr><td class = \"rowNumber\" style = \"font-weight: bold; text-align: right;\">111289</td><td style = \"text-align: right;\">0.0</td><td style = \"text-align: right;\">1.52854e6</td><td style = \"text-align: right;\">1.52854e6</td><td style = \"text-align: right;\">1.52854e6</td><td style = \"text-align: right;\">0.0</td><td style = \"text-align: right;\">7.64351e5</td><td style = \"text-align: right;\">7.64351e5</td><td style = \"text-align: right;\">1.52854e6</td><td style = \"text-align: right;\">0.0</td><td style = \"text-align: right;\">1.52854e6</td><td style = \"text-align: right;\">0.0</td><td style = \"text-align: right;\">0.0</td><td style = \"text-align: right;\">764269.0</td><td style = \"text-align: right;\">764269.0</td><td style = \"text-align: right;\">7.64187e5</td><td style = \"text-align: right;\">7.64187e5</td><td style = \"text-align: right;\">115.82</td><td style = \"text-align: right;\">0.0</td><td style = \"text-align: right;\">115.82</td><td style = \"text-align: right;\">0.0</td><td style = \"text-align: right;\">1</td></tr><tr><td class = \"rowNumber\" style = \"font-weight: bold; text-align: right;\">111290</td><td style = \"text-align: right;\">0.0</td><td style = \"text-align: right;\">0.0</td><td style = \"text-align: right;\">0.0</td><td style = \"text-align: right;\">0.0</td><td style = \"text-align: right;\">0.0</td><td style = \"text-align: right;\">0.0</td><td style = \"text-align: right;\">0.0</td><td style = \"text-align: right;\">0.0</td><td style = \"text-align: right;\">0.0</td><td style = \"text-align: right;\">0.0</td><td style = \"text-align: right;\">0.0</td><td style = \"text-align: right;\">0.0</td><td style = \"text-align: right;\">0.0</td><td style = \"text-align: right;\">0.0</td><td style = \"text-align: right;\">0.0</td><td style = \"text-align: right;\">0.0</td><td style = \"text-align: right;\">0.0</td><td style = \"text-align: right;\">0.0</td><td style = \"text-align: right;\">0.0</td><td style = \"text-align: right;\">0.0</td><td style = \"text-align: right;\">1</td></tr><tr><td class = \"rowNumber\" style = \"font-weight: bold; text-align: right;\">111291</td><td style = \"text-align: right;\">0.0</td><td style = \"text-align: right;\">0.0</td><td style = \"text-align: right;\">0.0</td><td style = \"text-align: right;\">0.0</td><td style = \"text-align: right;\">0.0</td><td style = \"text-align: right;\">0.0</td><td style = \"text-align: right;\">0.0</td><td style = \"text-align: right;\">0.0</td><td style = \"text-align: right;\">0.0</td><td style = \"text-align: right;\">0.0</td><td style = \"text-align: right;\">0.0</td><td style = \"text-align: right;\">0.0</td><td style = \"text-align: right;\">0.0</td><td style = \"text-align: right;\">0.0</td><td style = \"text-align: right;\">0.0</td><td style = \"text-align: right;\">0.0</td><td style = \"text-align: right;\">0.0</td><td style = \"text-align: right;\">0.0</td><td style = \"text-align: right;\">0.0</td><td style = \"text-align: right;\">0.0</td><td style = \"text-align: right;\">1</td></tr></tbody></table></div>"
      ],
      "text/latex": [
       "\\begin{tabular}{r|cccccccc}\n",
       "\t& idle.tot & flow\\_iat.tot & fwd\\_iat.tot & active.avg & idle.max & flow\\_iat.max & fwd\\_iat.max & \\\\\n",
       "\t\\hline\n",
       "\t& Float64 & Float64 & Float64 & Float64 & Float64 & Float64 & Float64 & \\\\\n",
       "\t\\hline\n",
       "\t1 & 0.0 & 2.2076e6 & 2.2076e6 & 2.2076e6 & 0.0 & 1.96376e6 & 1.96376e6 & $\\dots$ \\\\\n",
       "\t2 & 1.19681e7 & 1.22034e7 & 1.22034e7 & 117619.0 & 1.19681e7 & 1.19681e7 & 1.19681e7 & $\\dots$ \\\\\n",
       "\t3 & 1.58484e7 & 1.60825e7 & 1.60825e7 & 1.17077e5 & 1.58484e7 & 1.58484e7 & 1.58484e7 & $\\dots$ \\\\\n",
       "\t4 & 1.37657e7 & 1.40043e7 & 1.40043e7 & 1.19272e5 & 1.37657e7 & 1.37657e7 & 1.37657e7 & $\\dots$ \\\\\n",
       "\t5 & 0.0 & 4.88966e6 & 4.88966e6 & 4.88966e6 & 0.0 & 4.42115e6 & 4.42115e6 & $\\dots$ \\\\\n",
       "\t6 & 1.10432e7 & 1.12768e7 & 1.12768e7 & 1.16798e5 & 1.10432e7 & 1.10432e7 & 1.10432e7 & $\\dots$ \\\\\n",
       "\t7 & 0.0 & 2.19576e6 & 2.19576e6 & 2.19576e6 & 0.0 & 1.96598e6 & 1.96598e6 & $\\dots$ \\\\\n",
       "\t8 & 0.0 & 4.60684e6 & 4.60684e6 & 4.60684e6 & 0.0 & 4.36923e6 & 4.36923e6 & $\\dots$ \\\\\n",
       "\t9 & 1.52431e7 & 1.54795e7 & 1.54795e7 & 1.18236e5 & 1.52431e7 & 1.52431e7 & 1.52431e7 & $\\dots$ \\\\\n",
       "\t10 & 8.57071e6 & 8.80569e6 & 8.80569e6 & 1.17489e5 & 8.57071e6 & 8.57071e6 & 8.57071e6 & $\\dots$ \\\\\n",
       "\t11 & 1.12702e7 & 1.15163e7 & 1.15163e7 & 1.23031e5 & 1.12702e7 & 1.12702e7 & 1.12702e7 & $\\dots$ \\\\\n",
       "\t12 & 8.82731e6 & 9.29146e6 & 9.29146e6 & 2.32073e5 & 8.82731e6 & 8.82731e6 & 8.82731e6 & $\\dots$ \\\\\n",
       "\t13 & 1.56569e7 & 1.58891e7 & 1.58891e7 & 1.16101e5 & 1.56569e7 & 1.56569e7 & 1.56569e7 & $\\dots$ \\\\\n",
       "\t14 & 6.81418e6 & 7.04856e6 & 7.04856e6 & 117191.0 & 6.81418e6 & 6.81418e6 & 6.81418e6 & $\\dots$ \\\\\n",
       "\t15 & 0.0 & 4.84275e6 & 4.84275e6 & 4.84275e6 & 0.0 & 4.61435e6 & 4.61435e6 & $\\dots$ \\\\\n",
       "\t16 & 0.0 & 4.39686e6 & 4.39686e6 & 4.39686e6 & 0.0 & 4.16382e6 & 4.16382e6 & $\\dots$ \\\\\n",
       "\t17 & 1.34734e7 & 1.37582e7 & 1.37582e7 & 1.42424e5 & 1.34734e7 & 1.34734e7 & 1.34734e7 & $\\dots$ \\\\\n",
       "\t18 & 0.0 & 2.62683e6 & 2.62683e6 & 2.62683e6 & 0.0 & 2.16536e6 & 2.16536e6 & $\\dots$ \\\\\n",
       "\t19 & 1.52376e7 & 1.54708e7 & 1.54708e7 & 1.16587e5 & 1.52376e7 & 1.52376e7 & 1.52376e7 & $\\dots$ \\\\\n",
       "\t20 & 6.37142e6 & 6.60777e6 & 6.60777e6 & 1.18174e5 & 6.37142e6 & 6.37142e6 & 6.37142e6 & $\\dots$ \\\\\n",
       "\t21 & 2.03719e7 & 2.0615e7 & 2.0615e7 & 1.21556e5 & 2.03719e7 & 2.03719e7 & 2.03719e7 & $\\dots$ \\\\\n",
       "\t22 & 1.55994e7 & 1.58359e7 & 1.58359e7 & 1.1825e5 & 1.55994e7 & 1.55994e7 & 1.55994e7 & $\\dots$ \\\\\n",
       "\t23 & 0.0 & 4.4246e6 & 4.4246e6 & 4.4246e6 & 0.0 & 4.19438e6 & 4.19438e6 & $\\dots$ \\\\\n",
       "\t24 & 0.0 & 2.20266e6 & 2.20266e6 & 2.20266e6 & 0.0 & 1.96552e6 & 1.96552e6 & $\\dots$ \\\\\n",
       "\t$\\dots$ & $\\dots$ & $\\dots$ & $\\dots$ & $\\dots$ & $\\dots$ & $\\dots$ & $\\dots$ &  \\\\\n",
       "\\end{tabular}\n"
      ],
      "text/plain": [
       "\u001b[1m111291×21 DataFrame\u001b[0m\n",
       "\u001b[1m    Row \u001b[0m│\u001b[1m idle.tot  \u001b[0m\u001b[1m flow_iat.tot \u001b[0m\u001b[1m fwd_iat.tot \u001b[0m\u001b[1m active.avg     \u001b[0m\u001b[1m idle.max  \u001b[0m\u001b[1m flo\u001b[0m ⋯\n",
       "        │\u001b[90m Float64   \u001b[0m\u001b[90m Float64      \u001b[0m\u001b[90m Float64     \u001b[0m\u001b[90m Float64        \u001b[0m\u001b[90m Float64   \u001b[0m\u001b[90m Flo\u001b[0m ⋯\n",
       "────────┼───────────────────────────────────────────────────────────────────────\n",
       "      1 │ 0.0           2.2076e6     2.2076e6        2.2076e6   0.0            ⋯\n",
       "      2 │ 1.19681e7     1.22034e7    1.22034e7  117619.0        1.19681e7\n",
       "      3 │ 1.58484e7     1.60825e7    1.60825e7       1.17077e5  1.58484e7\n",
       "      4 │ 1.37657e7     1.40043e7    1.40043e7       1.19272e5  1.37657e7\n",
       "      5 │ 0.0           4.88966e6    4.88966e6       4.88966e6  0.0            ⋯\n",
       "      6 │ 1.10432e7     1.12768e7    1.12768e7       1.16798e5  1.10432e7\n",
       "      7 │ 0.0           2.19576e6    2.19576e6       2.19576e6  0.0\n",
       "      8 │ 0.0           4.60684e6    4.60684e6       4.60684e6  0.0\n",
       "   ⋮    │     ⋮           ⋮             ⋮             ⋮             ⋮          ⋱\n",
       " 111285 │ 0.0           1.52864e6    1.52864e6       1.52864e6  0.0        764 ⋯\n",
       " 111286 │ 0.0           1.52861e6    1.52861e6       1.52861e6  0.0        764\n",
       " 111287 │ 0.0           1.52864e6    1.52864e6       1.52864e6  0.0\n",
       " 111288 │ 0.0           1.52865e6    1.52865e6       1.52865e6  0.0\n",
       " 111289 │ 0.0           1.52854e6    1.52854e6       1.52854e6  0.0            ⋯\n",
       " 111290 │ 0.0           0.0          0.0             0.0        0.0\n",
       " 111291 │ 0.0           0.0          0.0             0.0        0.0\n",
       "\u001b[36m                                              16 columns and 111276 rows omitted\u001b[0m"
      ]
     },
     "metadata": {},
     "output_type": "display_data"
    }
   ],
   "source": [
    "# read the CSV file\n",
    "df = CSV.read(\"hikari.csv\", DataFrame)\n",
    "\n",
    "df = select(df, [:\"idle.tot\", :\"flow_iat.tot\", :\"fwd_iat.tot\", :\"active.avg\", :\"idle.max\", :\"flow_iat.max\", :\"fwd_iat.max\", :\"active.max\", :\"idle.avg\", :\"active.tot\", :\"bwd_iat.max\", :\"idle.min\", :\"flow_iat.avg\", :\"fwd_iat.avg\", :\"flow_iat.min\", :\"fwd_iat.min\", :\"fwd_iat.std\", :\"bwd_iat.std\", :\"flow_iat.std\", :\"bwd_iat.avg\", :\"Label\"])\n",
    "\n",
    "\n",
    "\n",
    "train_ratio = 0.8\n",
    "test_ratio = 1.0 - train_ratio\n",
    "\n",
    "nrows = nrow(df)\n",
    "train_indices = randsubseq(1:nrows, train_ratio)\n",
    "test_indices = setdiff(1:nrows, train_indices)\n",
    "\n",
    "train_df = df[train_indices, :]\n",
    "test_df = df[test_indices, :]"
   ]
  },
  {
   "cell_type": "code",
   "execution_count": 12,
   "metadata": {},
   "outputs": [
    {
     "name": "stderr",
     "output_type": "stream",
     "text": [
      "WARNING: redefinition of constant KNeighborsClassifier. This may fail, cause incorrect answers, or produce other errors.\n"
     ]
    },
    {
     "data": {
      "text/plain": [
       "PyObject <class 'sklearn.neighbors._classification.KNeighborsClassifier'>"
      ]
     },
     "metadata": {},
     "output_type": "display_data"
    }
   ],
   "source": [
    "using ScikitLearn\n",
    "@sk_import neighbors:KNeighborsClassifier"
   ]
  },
  {
   "cell_type": "code",
   "execution_count": 13,
   "metadata": {},
   "outputs": [
    {
     "data": {
      "text/plain": [
       "111291-element Vector{Int64}:\n",
       " 1\n",
       " 1\n",
       " 1\n",
       " 1\n",
       " 1\n",
       " 1\n",
       " 1\n",
       " 1\n",
       " 1\n",
       " 1\n",
       " ⋮\n",
       " 1\n",
       " 1\n",
       " 1\n",
       " 1\n",
       " 1\n",
       " 1\n",
       " 1\n",
       " 1\n",
       " 1"
      ]
     },
     "metadata": {},
     "output_type": "display_data"
    }
   ],
   "source": [
    "# converting into vectors\n",
    "K_X_train = Matrix(select(train_df, Not(:Label)))\n",
    "\n",
    "K_y_train = Vector(train_df.Label)\n",
    "\n",
    "K_X_test = Matrix(select(test_df, Not(:Label)))\n",
    "\n",
    "K_y_test = Vector(test_df.Label)"
   ]
  },
  {
   "cell_type": "code",
   "execution_count": 14,
   "metadata": {},
   "outputs": [
    {
     "data": {
      "text/html": [
       "<style>#sk-container-id-9 {color: black;background-color: white;}#sk-container-id-9 pre{padding: 0;}#sk-container-id-9 div.sk-toggleable {background-color: white;}#sk-container-id-9 label.sk-toggleable__label {cursor: pointer;display: block;width: 100%;margin-bottom: 0;padding: 0.3em;box-sizing: border-box;text-align: center;}#sk-container-id-9 label.sk-toggleable__label-arrow:before {content: \"▸\";float: left;margin-right: 0.25em;color: #696969;}#sk-container-id-9 label.sk-toggleable__label-arrow:hover:before {color: black;}#sk-container-id-9 div.sk-estimator:hover label.sk-toggleable__label-arrow:before {color: black;}#sk-container-id-9 div.sk-toggleable__content {max-height: 0;max-width: 0;overflow: hidden;text-align: left;background-color: #f0f8ff;}#sk-container-id-9 div.sk-toggleable__content pre {margin: 0.2em;color: black;border-radius: 0.25em;background-color: #f0f8ff;}#sk-container-id-9 input.sk-toggleable__control:checked~div.sk-toggleable__content {max-height: 200px;max-width: 100%;overflow: auto;}#sk-container-id-9 input.sk-toggleable__control:checked~label.sk-toggleable__label-arrow:before {content: \"▾\";}#sk-container-id-9 div.sk-estimator input.sk-toggleable__control:checked~label.sk-toggleable__label {background-color: #d4ebff;}#sk-container-id-9 div.sk-label input.sk-toggleable__control:checked~label.sk-toggleable__label {background-color: #d4ebff;}#sk-container-id-9 input.sk-hidden--visually {border: 0;clip: rect(1px 1px 1px 1px);clip: rect(1px, 1px, 1px, 1px);height: 1px;margin: -1px;overflow: hidden;padding: 0;position: absolute;width: 1px;}#sk-container-id-9 div.sk-estimator {font-family: monospace;background-color: #f0f8ff;border: 1px dotted black;border-radius: 0.25em;box-sizing: border-box;margin-bottom: 0.5em;}#sk-container-id-9 div.sk-estimator:hover {background-color: #d4ebff;}#sk-container-id-9 div.sk-parallel-item::after {content: \"\";width: 100%;border-bottom: 1px solid gray;flex-grow: 1;}#sk-container-id-9 div.sk-label:hover label.sk-toggleable__label {background-color: #d4ebff;}#sk-container-id-9 div.sk-serial::before {content: \"\";position: absolute;border-left: 1px solid gray;box-sizing: border-box;top: 0;bottom: 0;left: 50%;z-index: 0;}#sk-container-id-9 div.sk-serial {display: flex;flex-direction: column;align-items: center;background-color: white;padding-right: 0.2em;padding-left: 0.2em;position: relative;}#sk-container-id-9 div.sk-item {position: relative;z-index: 1;}#sk-container-id-9 div.sk-parallel {display: flex;align-items: stretch;justify-content: center;background-color: white;position: relative;}#sk-container-id-9 div.sk-item::before, #sk-container-id-9 div.sk-parallel-item::before {content: \"\";position: absolute;border-left: 1px solid gray;box-sizing: border-box;top: 0;bottom: 0;left: 50%;z-index: -1;}#sk-container-id-9 div.sk-parallel-item {display: flex;flex-direction: column;z-index: 1;position: relative;background-color: white;}#sk-container-id-9 div.sk-parallel-item:first-child::after {align-self: flex-end;width: 50%;}#sk-container-id-9 div.sk-parallel-item:last-child::after {align-self: flex-start;width: 50%;}#sk-container-id-9 div.sk-parallel-item:only-child::after {width: 0;}#sk-container-id-9 div.sk-dashed-wrapped {border: 1px dashed gray;margin: 0 0.4em 0.5em 0.4em;box-sizing: border-box;padding-bottom: 0.4em;background-color: white;}#sk-container-id-9 div.sk-label label {font-family: monospace;font-weight: bold;display: inline-block;line-height: 1.2em;}#sk-container-id-9 div.sk-label-container {text-align: center;}#sk-container-id-9 div.sk-container {/* jupyter's `normalize.less` sets `[hidden] { display: none; }` but bootstrap.min.css set `[hidden] { display: none !important; }` so we also need the `!important` here to be able to override the default hidden behavior on the sphinx rendered scikit-learn.org. See: https://github.com/scikit-learn/scikit-learn/issues/21755 */display: inline-block !important;position: relative;}#sk-container-id-9 div.sk-text-repr-fallback {display: none;}</style><div id=\"sk-container-id-9\" class=\"sk-top-container\"><div class=\"sk-text-repr-fallback\"><pre>KNeighborsClassifier()</pre><b>In a Jupyter environment, please rerun this cell to show the HTML representation or trust the notebook. <br />On GitHub, the HTML representation is unable to render, please try loading this page with nbviewer.org.</b></div><div class=\"sk-container\" hidden><div class=\"sk-item\"><div class=\"sk-estimator sk-toggleable\"><input class=\"sk-toggleable__control sk-hidden--visually\" id=\"sk-estimator-id-9\" type=\"checkbox\" checked><label for=\"sk-estimator-id-9\" class=\"sk-toggleable__label sk-toggleable__label-arrow\">KNeighborsClassifier</label><div class=\"sk-toggleable__content\"><pre>KNeighborsClassifier()</pre></div></div></div></div></div>"
      ],
      "text/plain": [
       "PyObject KNeighborsClassifier()"
      ]
     },
     "metadata": {},
     "output_type": "display_data"
    }
   ],
   "source": [
    "# Create an knn_model\n",
    "knn_model = KNeighborsClassifier(n_neighbors=5)"
   ]
  },
  {
   "cell_type": "code",
   "execution_count": 15,
   "metadata": {},
   "outputs": [
    {
     "data": {
      "text/html": [
       "<style>#sk-container-id-12 {color: black;background-color: white;}#sk-container-id-12 pre{padding: 0;}#sk-container-id-12 div.sk-toggleable {background-color: white;}#sk-container-id-12 label.sk-toggleable__label {cursor: pointer;display: block;width: 100%;margin-bottom: 0;padding: 0.3em;box-sizing: border-box;text-align: center;}#sk-container-id-12 label.sk-toggleable__label-arrow:before {content: \"▸\";float: left;margin-right: 0.25em;color: #696969;}#sk-container-id-12 label.sk-toggleable__label-arrow:hover:before {color: black;}#sk-container-id-12 div.sk-estimator:hover label.sk-toggleable__label-arrow:before {color: black;}#sk-container-id-12 div.sk-toggleable__content {max-height: 0;max-width: 0;overflow: hidden;text-align: left;background-color: #f0f8ff;}#sk-container-id-12 div.sk-toggleable__content pre {margin: 0.2em;color: black;border-radius: 0.25em;background-color: #f0f8ff;}#sk-container-id-12 input.sk-toggleable__control:checked~div.sk-toggleable__content {max-height: 200px;max-width: 100%;overflow: auto;}#sk-container-id-12 input.sk-toggleable__control:checked~label.sk-toggleable__label-arrow:before {content: \"▾\";}#sk-container-id-12 div.sk-estimator input.sk-toggleable__control:checked~label.sk-toggleable__label {background-color: #d4ebff;}#sk-container-id-12 div.sk-label input.sk-toggleable__control:checked~label.sk-toggleable__label {background-color: #d4ebff;}#sk-container-id-12 input.sk-hidden--visually {border: 0;clip: rect(1px 1px 1px 1px);clip: rect(1px, 1px, 1px, 1px);height: 1px;margin: -1px;overflow: hidden;padding: 0;position: absolute;width: 1px;}#sk-container-id-12 div.sk-estimator {font-family: monospace;background-color: #f0f8ff;border: 1px dotted black;border-radius: 0.25em;box-sizing: border-box;margin-bottom: 0.5em;}#sk-container-id-12 div.sk-estimator:hover {background-color: #d4ebff;}#sk-container-id-12 div.sk-parallel-item::after {content: \"\";width: 100%;border-bottom: 1px solid gray;flex-grow: 1;}#sk-container-id-12 div.sk-label:hover label.sk-toggleable__label {background-color: #d4ebff;}#sk-container-id-12 div.sk-serial::before {content: \"\";position: absolute;border-left: 1px solid gray;box-sizing: border-box;top: 0;bottom: 0;left: 50%;z-index: 0;}#sk-container-id-12 div.sk-serial {display: flex;flex-direction: column;align-items: center;background-color: white;padding-right: 0.2em;padding-left: 0.2em;position: relative;}#sk-container-id-12 div.sk-item {position: relative;z-index: 1;}#sk-container-id-12 div.sk-parallel {display: flex;align-items: stretch;justify-content: center;background-color: white;position: relative;}#sk-container-id-12 div.sk-item::before, #sk-container-id-12 div.sk-parallel-item::before {content: \"\";position: absolute;border-left: 1px solid gray;box-sizing: border-box;top: 0;bottom: 0;left: 50%;z-index: -1;}#sk-container-id-12 div.sk-parallel-item {display: flex;flex-direction: column;z-index: 1;position: relative;background-color: white;}#sk-container-id-12 div.sk-parallel-item:first-child::after {align-self: flex-end;width: 50%;}#sk-container-id-12 div.sk-parallel-item:last-child::after {align-self: flex-start;width: 50%;}#sk-container-id-12 div.sk-parallel-item:only-child::after {width: 0;}#sk-container-id-12 div.sk-dashed-wrapped {border: 1px dashed gray;margin: 0 0.4em 0.5em 0.4em;box-sizing: border-box;padding-bottom: 0.4em;background-color: white;}#sk-container-id-12 div.sk-label label {font-family: monospace;font-weight: bold;display: inline-block;line-height: 1.2em;}#sk-container-id-12 div.sk-label-container {text-align: center;}#sk-container-id-12 div.sk-container {/* jupyter's `normalize.less` sets `[hidden] { display: none; }` but bootstrap.min.css set `[hidden] { display: none !important; }` so we also need the `!important` here to be able to override the default hidden behavior on the sphinx rendered scikit-learn.org. See: https://github.com/scikit-learn/scikit-learn/issues/21755 */display: inline-block !important;position: relative;}#sk-container-id-12 div.sk-text-repr-fallback {display: none;}</style><div id=\"sk-container-id-12\" class=\"sk-top-container\"><div class=\"sk-text-repr-fallback\"><pre>KNeighborsClassifier()</pre><b>In a Jupyter environment, please rerun this cell to show the HTML representation or trust the notebook. <br />On GitHub, the HTML representation is unable to render, please try loading this page with nbviewer.org.</b></div><div class=\"sk-container\" hidden><div class=\"sk-item\"><div class=\"sk-estimator sk-toggleable\"><input class=\"sk-toggleable__control sk-hidden--visually\" id=\"sk-estimator-id-12\" type=\"checkbox\" checked><label for=\"sk-estimator-id-12\" class=\"sk-toggleable__label sk-toggleable__label-arrow\">KNeighborsClassifier</label><div class=\"sk-toggleable__content\"><pre>KNeighborsClassifier()</pre></div></div></div></div></div>"
      ],
      "text/plain": [
       "PyObject KNeighborsClassifier()"
      ]
     },
     "metadata": {},
     "output_type": "display_data"
    }
   ],
   "source": [
    "# Fit the model to your data\n",
    "ScikitLearn.fit!(knn_model, K_X_train, K_y_train)"
   ]
  },
  {
   "cell_type": "code",
   "execution_count": 16,
   "metadata": {},
   "outputs": [
    {
     "name": "stdout",
     "output_type": "stream",
     "text": [
      "Accuracy: 0.9114393796443558\n",
      "Precision: 0.24661071659134925\n",
      "Recall: 0.15277962938274897\n",
      "F1-Score: 0.18867303259795853\n"
     ]
    }
   ],
   "source": [
    "# Make predictions\n",
    "K_y_pred = ScikitLearn.predict(knn_model, K_X_test)\n",
    "\n",
    "\n",
    "#accuracy\n",
    "accuracy = mean(K_y_pred .== K_y_test)\n",
    "# Calculate True Positives (TP), True Negatives (TN), False Positives (FP), and False Negatives (FN)\n",
    "TP = sum((K_y_pred .== 1) .& (K_y_test .== 1))\n",
    "TN = sum((K_y_pred .== 0) .& (K_y_test .== 0))\n",
    "FP = sum((K_y_pred .== 1) .& (K_y_test .== 0))\n",
    "FN = sum((K_y_pred .== 0) .& (K_y_test .== 1))\n",
    "\n",
    "# Calculate precision, recall, and F1-score\n",
    "precision = TP / (TP + FP)\n",
    "recall = TP / (TP + FN)\n",
    "f1_score = 2 * (precision * recall) / (precision + recall)\n",
    "\n",
    "println(\"Accuracy: $accuracy\")\n",
    "println(\"Precision: $precision\")\n",
    "println(\"Recall: $recall\")\n",
    "println(\"F1-Score: $f1_score\")"
   ]
  },
  {
   "cell_type": "code",
   "execution_count": 17,
   "metadata": {},
   "outputs": [],
   "source": []
  }
 ],
 "metadata": {
  "kernelspec": {
   "display_name": "Julia 1.9.3",
   "language": "julia",
   "name": "julia-1.9"
  },
  "language_info": {
   "file_extension": ".jl",
   "mimetype": "application/julia",
   "name": "julia",
   "version": "1.9.3"
  }
 },
 "nbformat": 4,
 "nbformat_minor": 2
}
